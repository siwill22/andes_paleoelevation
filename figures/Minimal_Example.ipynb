{
 "cells": [
  {
   "cell_type": "code",
   "execution_count": null,
   "id": "8c7cf9da-83d4-42cf-a6ed-9250a7030b9e",
   "metadata": {
    "tags": []
   },
   "outputs": [],
   "source": [
    "import numpy as np\n",
    "import pandas as pd\n",
    "import geopandas as gpd\n",
    "import matplotlib.pyplot as plt\n",
    "#import pygplates\n",
    "#import pygmt\n",
    "\n",
    "#from scipy.stats import median_abs_deviation\n",
    "\n",
    "import sys\n",
    "sys.path.append('../python/')\n",
    "import joyful_geochemistry as joy\n",
    "#import joyful_mapping as joymap\n",
    "\n",
    "%matplotlib inline\n",
    "%load_ext autoreload\n",
    "%autoreload 2\n",
    "\n"
   ]
  },
  {
   "cell_type": "code",
   "execution_count": null,
   "id": "b595b1fa-9ce8-454e-a226-14f2ffb56a37",
   "metadata": {
    "tags": []
   },
   "outputs": [],
   "source": [
    "# For the Luffi and Ducea calibration, we need to point the code to the csv files containing the lookup tables\n",
    "model_dir = '../luffi/REM_surfaces_csv/'\n",
    "gc_interpolator_dict = joy.make_gc_interpolator_dict(model_dir)\n",
    "\n",
    "\n",
    "# Load the data. \n",
    "# Note, all code assumes a specific labelling convention that mirrors the names used\n",
    "# in the Gard et al (2019) global database\n",
    "#df = joy.geochem_from_csv('../datafiles/geochem_merge_20221026.csv',\n",
    "#                          longitude_field_name='Longitude', latitude_field_name='Latitude')\n",
    "df = joy.geochem_from_csv('../../global_paper/datafiles/geochem_global_20230124_subduction_M2021.csv',\n",
    "                          longitude_field_name='longitude', latitude_field_name='latitude')\n",
    "\n",
    "\n",
    "# This step would filter to take only the samples within the Andean Cordillera according\n",
    "# to the polygons of Hasterok et al. But needs to have GPlatesReconstructionModel module available\n",
    "#''' \n",
    "import joyful_mapping as joymap\n",
    "df = joymap.select_orogens(df,gdf=None, \n",
    "               orogen_names='Cordilleran', \n",
    "               continent_names='South America',\n",
    "               region=[-100, -50, -60, 20])\n",
    "#'''\n",
    "\n",
    "df['a'].hist()\n"
   ]
  },
  {
   "cell_type": "code",
   "execution_count": null,
   "id": "c5c4d2a5-51fe-4949-afdf-a8c5fe4dcd48",
   "metadata": {
    "tags": []
   },
   "outputs": [],
   "source": [
    "# Example 1: Get elevations or La/Yb only\n",
    "\n",
    "calibration = 'luffi'\n",
    "mohometer_selection = ['la_yb_elevation']\n",
    "\n",
    "# Filter the database according to the criteria listed in the paper, and optionally isolating \n",
    "# data within a specific time window\n",
    "df_filt = joy.filter_the_database(df, calibration, \n",
    "                                  age_min=5, age_max=350)\n",
    "\n",
    "# Use calibrations to get elevation estimates from geochemical values\n",
    "elevations_df = joy.get_elevations(df_filt, \n",
    "                                   gc_interpolator_dict=gc_interpolator_dict,\n",
    "                                   calibration=calibration,\n",
    "                                   mohometer_selection=mohometer_selection)\n",
    "\n",
    "\n",
    "# link the results back to the coordinates and age information\n",
    "elevations_df = gpd.GeoDataFrame(elevations_df, geometry=df_filt.geometry, crs=4326).join(df_filt['age'])\n",
    "\n",
    "elevations_df\n"
   ]
  },
  {
   "cell_type": "code",
   "execution_count": null,
   "id": "5bb4081e-75c8-4008-a812-635b5f0deaa3",
   "metadata": {
    "tags": []
   },
   "outputs": [],
   "source": [
    "# Example 2: Get elevations for all 41 mohometers\n",
    "calibration = 'luffi'\n",
    "mohometer_selection = 41\n",
    "\n",
    "# Filter the database according to the criteria listed in the paper\n",
    "df_filt = joy.filter_the_database(df, calibration, \n",
    "                                  age_min=0, age_max=410)\n",
    "\n",
    "# Use calibrations to get elevation estimates from geochemical values\n",
    "elevations_df = joy.get_elevations(df_filt, \n",
    "                                   gc_interpolator_dict=gc_interpolator_dict,\n",
    "                                   calibration=calibration,\n",
    "                                   mohometer_selection=mohometer_selection)\n",
    "\n",
    "\n",
    "# link the results back to the coordinates and age information\n",
    "elevations_df = gpd.GeoDataFrame(elevations_df, geometry=df_filt.geometry, crs=4326).join(df_filt['age'])\n",
    "\n",
    "# write to a file for Satyam\n",
    "elevations_df['Longitude'] = elevations_df.geometry.x\n",
    "elevations_df['Latitude'] = elevations_df.geometry.y\n",
    "elevations_df.drop(columns='geometry').to_csv('./paleoelevations_for_satyam.csv', index=False)\n"
   ]
  },
  {
   "cell_type": "code",
   "execution_count": null,
   "id": "fa5638b7-0d3f-49e7-a622-149b1b7137b7",
   "metadata": {
    "tags": []
   },
   "outputs": [],
   "source": [
    "# Example 3: Get elevations for all 41 mohometers, and get the median at each sample location\n",
    "\n",
    "calibration = 'luffi'\n",
    "mohometer_selection = 41\n",
    "\n",
    "# Filter the database according to the criteria listed in the paper\n",
    "df_filt = joy.filter_the_database(df, calibration, \n",
    "                                  age_min=0, age_max=350)\n",
    "\n",
    "# Use calibrations to get elevation estimates from geochemical values\n",
    "elevations_df = joy.get_elevations(df_filt, \n",
    "                                   gc_interpolator_dict=gc_interpolator_dict,\n",
    "                                   calibration=calibration,\n",
    "                                   mohometer_selection=mohometer_selection)\n",
    "\n",
    "elevations_df = elevations_df.median(axis=1)\n",
    "\n",
    "# link the results back to the coordinates and age information\n",
    "elevations_df = gpd.GeoDataFrame(elevations_df, geometry=df_filt.geometry, crs=4326).join(df_filt['age'])\n",
    "\n"
   ]
  },
  {
   "cell_type": "code",
   "execution_count": null,
   "id": "7bb97322-4864-4e16-ba21-f317bb069205",
   "metadata": {
    "tags": []
   },
   "outputs": [],
   "source": [
    "fig,ax = plt.subplots(figsize=(12,20))\n",
    "elevations_df.plot(column=0, ax=ax, vmin=0, vmax=5000, legend=True)\n",
    "#plt.colorbar()"
   ]
  },
  {
   "cell_type": "code",
   "execution_count": null,
   "id": "669db2dc-ce3d-4b53-ace7-5d3fdb16183e",
   "metadata": {},
   "outputs": [],
   "source": [
    "elevations_df"
   ]
  },
  {
   "cell_type": "code",
   "execution_count": null,
   "id": "cdf4603f-66e4-4604-86b3-327b909dc08f",
   "metadata": {},
   "outputs": [],
   "source": []
  }
 ],
 "metadata": {
  "kernelspec": {
   "display_name": "Python [conda env:pygmt10]",
   "language": "python",
   "name": "conda-env-pygmt10-py"
  },
  "language_info": {
   "codemirror_mode": {
    "name": "ipython",
    "version": 3
   },
   "file_extension": ".py",
   "mimetype": "text/x-python",
   "name": "python",
   "nbconvert_exporter": "python",
   "pygments_lexer": "ipython3",
   "version": "3.10.13"
  }
 },
 "nbformat": 4,
 "nbformat_minor": 5
}
