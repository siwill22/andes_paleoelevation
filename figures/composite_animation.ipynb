{
 "cells": [
  {
   "cell_type": "code",
   "execution_count": 1,
   "id": "3033d0b4-726e-4d4a-98d1-cc0b3bd99ced",
   "metadata": {},
   "outputs": [],
   "source": [
    "import numpy as np\n",
    "from PIL import Image\n",
    "from IPython.display import display\n",
    "import moviepy.editor as mpy\n",
    "\n"
   ]
  },
  {
   "cell_type": "code",
   "execution_count": 20,
   "id": "d3500418-b3a5-40f7-a18f-e555ed452a50",
   "metadata": {},
   "outputs": [],
   "source": [
    "def get_concat_h_blank(im1, im2, color=(0, 0, 0)):\n",
    "    dst = Image.new('RGB', (im1.width + im2.width, max(im1.height, im2.height)), color)\n",
    "    dst.paste(im1, (0, 0))\n",
    "    dst.paste(im2, (im1.width, 0))\n",
    "    return dst\n",
    "\n",
    "def get_concat_v_blank(im1, im2, color=(255, 255, 255), x_shift=0):\n",
    "    dst = Image.new('RGB', (max(im1.width, im2.width), im1.height + im2.height), color)\n",
    "    dst.paste(im1, (0, 0))\n",
    "    dst.paste(im2, (x_shift, im1.height))\n",
    "    return dst\n",
    "\n",
    "\n",
    "def composite_timeslice(reconstruction_time, model_name):\n",
    "    \n",
    "    im1 = Image.open('../images/sequence_{:s}/elevations_plus_volcanism_luffi_50_{:0.0f}Ma.png'.format(model_name,reconstruction_time))\n",
    "    im2 = Image.open('../images/sequence_{:s}/elevation_residuals_luffi_50_{:0.0f}Ma.png'.format(model_name,reconstruction_time))\n",
    "\n",
    "    im3 = Image.open('../images/sequence_{:s}/Elevation_versus_latitude_{:s}_{:0.0f}Ma.png'.format(model_name,model_name,reconstruction_time))\n",
    "    im4 = Image.open('../images/sequence_{:s}/crossplot_luffi_50_{:0.1f}Ma.png'.format(model_name,reconstruction_time))\n",
    "\n",
    "    left_column = get_concat_v_blank(im1,im2)\n",
    "    right_column = get_concat_v_blank(im3,im4,x_shift=80)\n",
    "\n",
    "    left_column = left_column.resize((int(left_column.width * right_column.height/left_column.height), right_column.height))\n",
    "\n",
    "    full_grid = get_concat_h_blank(left_column, right_column)\n",
    "\n",
    "    #display(full_grid)\n",
    "    full_grid.save('../images/sequence_{:s}/composite_{:0.0f}Ma.png'.format(model_name,reconstruction_time))\n",
    "    "
   ]
  },
  {
   "cell_type": "code",
   "execution_count": 30,
   "id": "2d6b87d8-2608-4372-86d3-cb893cea957d",
   "metadata": {},
   "outputs": [
    {
     "name": "stdout",
     "output_type": "stream",
     "text": [
      "MoviePy - Building file ../images/sequence_Boschman/composite_Boschman.gif with imageio.\n"
     ]
    },
    {
     "name": "stderr",
     "output_type": "stream",
     "text": [
      "                                                                                                                                          \r"
     ]
    }
   ],
   "source": [
    "#model_name='Paleomap'\n",
    "time_series = np.arange(0,351,5)\n",
    "\n",
    "model_name='Boschman'\n",
    "time_series = np.arange(0,81,5)\n",
    "\n",
    "for reconstruction_time in time_series:\n",
    "    \n",
    "    composite_timeslice(reconstruction_time, model_name)\n",
    "    #break\n",
    "    \n",
    "\n",
    "\n",
    "resize=1\n",
    "\n",
    "sequence_filename = '../images/sequence_{:s}/composite_{:0.0f}Ma.png'\n",
    "\n",
    "frame_list = []\n",
    "for reconstruction_time in time_series:\n",
    "    frame_list.append(sequence_filename.format(model_name,reconstruction_time))\n",
    "\n",
    "frame_list.append(sequence_filename.format(model_name,time_series[-1]))\n",
    "\n",
    "#frame_list.reverse()\n",
    "clip = mpy.ImageSequenceClip(frame_list, fps=2).resize(resize)\n",
    "clip.write_gif('../images/sequence_{:s}/composite_{:s}.gif'.format(model_name,model_name))\n",
    "\n"
   ]
  },
  {
   "cell_type": "code",
   "execution_count": null,
   "id": "715301e3-13f5-4eb8-9420-30af631f43af",
   "metadata": {},
   "outputs": [],
   "source": []
  }
 ],
 "metadata": {
  "kernelspec": {
   "display_name": "Python [conda env:pygmt7]",
   "language": "python",
   "name": "conda-env-pygmt7-py"
  },
  "language_info": {
   "codemirror_mode": {
    "name": "ipython",
    "version": 3
   },
   "file_extension": ".py",
   "mimetype": "text/x-python",
   "name": "python",
   "nbconvert_exporter": "python",
   "pygments_lexer": "ipython3",
   "version": "3.8.13"
  }
 },
 "nbformat": 4,
 "nbformat_minor": 5
}
