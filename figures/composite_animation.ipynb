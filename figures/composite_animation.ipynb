{
 "cells": [
  {
   "cell_type": "code",
   "execution_count": 1,
   "id": "3033d0b4-726e-4d4a-98d1-cc0b3bd99ced",
   "metadata": {},
   "outputs": [],
   "source": [
    "import numpy as np\n",
    "from PIL import Image\n",
    "from IPython.display import display\n",
    "\n"
   ]
  },
  {
   "cell_type": "code",
   "execution_count": 2,
   "id": "d3500418-b3a5-40f7-a18f-e555ed452a50",
   "metadata": {},
   "outputs": [],
   "source": [
    "def get_concat_h_blank(im1, im2, color=(0, 0, 0)):\n",
    "    dst = Image.new('RGB', (im1.width + im2.width, max(im1.height, im2.height)), color)\n",
    "    dst.paste(im1, (0, 0))\n",
    "    dst.paste(im2, (im1.width, 0))\n",
    "    return dst\n",
    "\n",
    "def get_concat_v_blank(im1, im2, color=(255, 255, 255), x_shift=0):\n",
    "    dst = Image.new('RGB', (max(im1.width, im2.width), im1.height + im2.height), color)\n",
    "    dst.paste(im1, (0, 0))\n",
    "    dst.paste(im2, (x_shift, im1.height))\n",
    "    return dst\n",
    "\n",
    "\n",
    "def composite_timeslice(reconstruction_time):\n",
    "    \n",
    "    im1 = Image.open('../images/sequence_Paleomap/elevations_plus_volcanism_luffi_50_{:0.0f}Ma.png'.format(reconstruction_time))\n",
    "    im2 = Image.open('../images/sequence_Paleomap/elevation_residuals_luffi_50_{:0.0f}Ma.png'.format(reconstruction_time))\n",
    "\n",
    "    im3 = Image.open('../images/sequence_Paleomap/Elevation_versus_latitude_Paleomap_{:0.0f}Ma.png'.format(reconstruction_time))\n",
    "    im4 = Image.open('../images/sequence_Paleomap/crossplot_luffi_50_{:0.1f}Ma.png'.format(reconstruction_time))\n",
    "\n",
    "    left_column = get_concat_v_blank(im1,im2)\n",
    "    right_column = get_concat_v_blank(im3,im4,x_shift=80)\n",
    "\n",
    "    left_column = left_column.resize((int(left_column.width * right_column.height/left_column.height), right_column.height))\n",
    "\n",
    "    full_grid = get_concat_h_blank(left_column, right_column)\n",
    "\n",
    "    #display(full_grid)\n",
    "    full_grid.save('../images/sequence_Paleomap/composite_{:0.0f}Ma.png'.format(reconstruction_time))\n",
    "    "
   ]
  },
  {
   "cell_type": "code",
   "execution_count": 16,
   "id": "8db6b2b8-238b-4765-94ab-61122651cfa3",
   "metadata": {},
   "outputs": [],
   "source": [
    "for reconstruction_time in np.arange(0,350,5):\n",
    "    \n",
    "    composite_timeslice(reconstruction_time)\n",
    "    #break\n",
    "    "
   ]
  },
  {
   "cell_type": "code",
   "execution_count": 4,
   "id": "e06ad54c-96e5-4fd8-a5e1-8f79db05f692",
   "metadata": {},
   "outputs": [
    {
     "name": "stdout",
     "output_type": "stream",
     "text": [
      "MoviePy - Building file ../images/sequence_Paleomap/composite_Paleomap.gif with imageio.\n"
     ]
    },
    {
     "name": "stderr",
     "output_type": "stream",
     "text": [
      "                                                                                                                                          \r"
     ]
    }
   ],
   "source": [
    "import moviepy.editor as mpy\n",
    "\n",
    "resize=1\n",
    "\n",
    "sequence_filename = '../images/sequence_Paleomap/composite_{:0.0f}Ma.png'\n",
    "\n",
    "frame_list = []\n",
    "time_series = np.arange(0,350,5)\n",
    "for reconstruction_time in time_series:\n",
    "    frame_list.append(sequence_filename.format(reconstruction_time))\n",
    "\n",
    "#frame_list.reverse()\n",
    "clip = mpy.ImageSequenceClip(frame_list, fps=2).resize(resize)\n",
    "clip.write_gif('../images/sequence_Paleomap/composite_Paleomap.gif')\n",
    "\n"
   ]
  },
  {
   "cell_type": "code",
   "execution_count": null,
   "id": "896be3aa-4117-4b69-bac2-e7d589571076",
   "metadata": {},
   "outputs": [],
   "source": []
  }
 ],
 "metadata": {
  "kernelspec": {
   "display_name": "Python [conda env:pygmt7]",
   "language": "python",
   "name": "conda-env-pygmt7-py"
  },
  "language_info": {
   "codemirror_mode": {
    "name": "ipython",
    "version": 3
   },
   "file_extension": ".py",
   "mimetype": "text/x-python",
   "name": "python",
   "nbconvert_exporter": "python",
   "pygments_lexer": "ipython3",
   "version": "3.8.13"
  }
 },
 "nbformat": 4,
 "nbformat_minor": 5
}
