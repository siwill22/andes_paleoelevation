{
 "cells": [
  {
   "cell_type": "code",
   "execution_count": null,
   "id": "9a9086cc-9572-4713-997c-173d7d682952",
   "metadata": {
    "tags": []
   },
   "outputs": [],
   "source": [
    "import pandas as pd\n",
    "import pygmt\n",
    "import numpy as np\n",
    "import geopandas as gpd\n",
    "import matplotlib.pyplot as plt\n",
    "import seaborn as sns\n",
    "\n",
    "%load_ext autoreload\n",
    "%autoreload 2\n"
   ]
  },
  {
   "cell_type": "code",
   "execution_count": null,
   "id": "b686841d-fc53-4749-aa59-da0984c068bd",
   "metadata": {
    "tags": []
   },
   "outputs": [],
   "source": [
    "#df_SAM_merge = pd.read_csv('/Users/simon/GIT/bx/andes//datafiles/geochem_merge_20230104.csv')\n",
    "df_SAM_merge = pd.read_csv('/Users/simon/GIT/bx/andes//datafiles/geochem_merge_20231117.csv')\n",
    "df_SAM_merge = gpd.GeoDataFrame(df_SAM_merge, geometry=gpd.points_from_xy(df_SAM_merge.Longitude, df_SAM_merge.Latitude), crs=4326)\n",
    "\n",
    "df_SAM_merge = df_SAM_merge[~np.isnan(df_SAM_merge.age)]\n"
   ]
  },
  {
   "cell_type": "code",
   "execution_count": null,
   "id": "9398ad01-c45d-47c6-a7da-10586365708d",
   "metadata": {
    "tags": []
   },
   "outputs": [],
   "source": [
    "gdf = gpd.read_file('/Users/simon/GIT/Tectonic/global_tectonics-main/plates&provinces/global_gprv_wage.shp')\n",
    "\n",
    "gdf = gdf[gdf['continent']=='South America']\n",
    "\n",
    "cordillera = gdf[gdf['lastorogen'].str.contains('Cordilleran', na=False)]\n",
    "terra_australis = gdf[gdf['lastorogen'].str.contains('Australis', na=False)]\n",
    "\n",
    "cordillera = cordillera.cx[-100:-50, -60:20]\n",
    "terra_australis = terra_australis.cx[-100:-50, -60:20]\n",
    "\n",
    "df_SAM_merge = df_SAM_merge.clip(pd.concat([cordillera, terra_australis]))\n",
    "\n",
    "df_SAM_merge"
   ]
  },
  {
   "cell_type": "code",
   "execution_count": null,
   "id": "2c913b0a-2056-490f-b879-ec4746c19b02",
   "metadata": {
    "tags": []
   },
   "outputs": [],
   "source": [
    "source_studies = df_SAM_merge.source_study.unique()\n",
    "#source_studies.sort\n",
    "\n",
    "colors = sns.color_palette(None, len(source_studies))\n",
    "\n",
    "source_studies = sorted(list(source_studies))\n",
    "\n",
    "source_studies\n"
   ]
  },
  {
   "cell_type": "code",
   "execution_count": null,
   "id": "30b6f186-4992-4ec3-a6b5-105abc26bf55",
   "metadata": {
    "tags": []
   },
   "outputs": [],
   "source": [
    "region = [-90,-20,-58,14]\n",
    "\n",
    "\n",
    "topo_grid = pygmt.datasets.load_earth_relief(resolution='02m', region=region)\n",
    "dgrid = pygmt.grdgradient(grid=topo_grid, radiance=[290, 10])\n",
    "\n",
    "style='t0.12c'\n",
    "transparency = 50\n",
    "\n",
    "fig = pygmt.Figure()\n",
    "fig.basemap(projection='R16c', region=region, frame='afg')\n",
    "\n",
    "pygmt.makecpt(cmap=\"gray\", series=[-5000, 3000]) #, reverse=True)\n",
    "fig.grdimage(grid=topo_grid, cmap=True)\n",
    "\n",
    "pygmt.makecpt(cmap=\"gray\", series=[-1.5, 0.3, 0.01])\n",
    "fig.grdimage(\n",
    "    grid=dgrid,\n",
    "    cmap=True,\n",
    "    transparency=80,\n",
    ")\n",
    "\n",
    "fig.coast(water='lightblue', transparency=50)\n",
    "\n",
    "#fig.plot(x=subset.geometry.x, y=subset.geometry.y, style=style, pen='1p,red', transparency=transparency, label='Samples')\n",
    "for study_name,color in zip(source_studies, colors):\n",
    "    subset = df_SAM_merge[df_SAM_merge['source_study']==study_name]\n",
    "    fig.plot(x=subset.geometry.x, y=subset.geometry.y, style=style, \n",
    "             pen='1p,{:d}/{:d}/{:d}'.format(int(color[0]*255),int(color[1]*255),int(color[2]*255)), \n",
    "             transparency=transparency, label=study_name)\n",
    "\n",
    "fig.legend(position=\"JTR+jTR+o0.2c\", box='+gwhite+p1p,grey', transparency=30)\n",
    "fig.savefig('../images/sam_basemap.png', transparent=True)\n",
    "fig.show(width=800)\n"
   ]
  },
  {
   "cell_type": "code",
   "execution_count": null,
   "id": "354a03bb-f073-4391-9969-3655f6f46d31",
   "metadata": {
    "tags": []
   },
   "outputs": [],
   "source": [
    "region = [-85,-55,-57,16]\n",
    "projection = 'W2.7c'\n",
    "\n",
    "fig = pygmt.Figure()\n",
    "with fig.subplot(nrows=2, ncols=7, figsize=(\"21c\", \"15.7c\"), frame=\"lrtb\"):\n",
    "    for index,start_age in enumerate(np.arange(0,350,25)):  # row number starting from 0     \n",
    "        with fig.set_panel(panel=index):  # sets the current panel\n",
    "            \n",
    "            fig.coast(land=\"lightgrey\", region=region, projection=projection)\n",
    "\n",
    "            subset2=df_SAM_merge[(df_SAM_merge.age>=start_age) & (df_SAM_merge.age<start_age+25.)]\n",
    "\n",
    "            fig.plot(x=subset2.Longitude, y=subset2.Latitude, style='c0.15c', color='black',\n",
    "                     region=region, projection=projection, transparency=50)\n",
    "            \n",
    "            fig.basemap(frame=['a','wesn'], region=region, projection=projection)\n",
    "            \n",
    "            fig.text(x=-70, y=14, text='{:0.0f}-{:0.0f} Ma'.format(start_age,start_age+25.), \n",
    "                     font='12p', no_clip=True, region=region, projection=projection)\n",
    "\n",
    "fig.show(width=1000)\n"
   ]
  },
  {
   "cell_type": "code",
   "execution_count": null,
   "id": "a6cbe80c-150d-433e-a341-964b5bdb0efe",
   "metadata": {
    "tags": []
   },
   "outputs": [],
   "source": [
    "fig,ax = plt.subplots()\n",
    "ax.hist(df_SAM_merge.age, bins=np.arange(0,351,10))\n",
    "ax.set_yscale('log')\n",
    "ax.grid()\n",
    "ax.grid(which='both', axis='y', linestyle='--')\n",
    "ax.set_xlim(0,350)\n",
    "ax.set_xlabel('Time [Ma]')\n",
    "ax.set_ylabel('Number of Samples')\n",
    "plt.show()\n"
   ]
  },
  {
   "cell_type": "code",
   "execution_count": null,
   "id": "fc60190d-c417-4912-8f60-41f9e0488063",
   "metadata": {},
   "outputs": [],
   "source": [
    "pygmt.show_versions()"
   ]
  },
  {
   "cell_type": "code",
   "execution_count": null,
   "id": "ee87702f-3356-4a6c-97c9-804fe38fb60e",
   "metadata": {},
   "outputs": [],
   "source": [
    "#print(len(colors))\n",
    "colors"
   ]
  },
  {
   "cell_type": "code",
   "execution_count": null,
   "id": "d25459a9-1c13-452b-914d-1edfc3a1108b",
   "metadata": {},
   "outputs": [],
   "source": []
  }
 ],
 "metadata": {
  "kernelspec": {
   "display_name": "Python [conda env:pygmt10]",
   "language": "python",
   "name": "conda-env-pygmt10-py"
  },
  "language_info": {
   "codemirror_mode": {
    "name": "ipython",
    "version": 3
   },
   "file_extension": ".py",
   "mimetype": "text/x-python",
   "name": "python",
   "nbconvert_exporter": "python",
   "pygments_lexer": "ipython3",
   "version": "3.10.13"
  }
 },
 "nbformat": 4,
 "nbformat_minor": 5
}
