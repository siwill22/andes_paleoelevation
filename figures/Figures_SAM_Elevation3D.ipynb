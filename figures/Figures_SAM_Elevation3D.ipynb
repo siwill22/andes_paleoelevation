{
 "cells": [
  {
   "cell_type": "code",
   "execution_count": 2,
   "id": "af7f37d2-4a03-413a-9225-e43b4ba02cca",
   "metadata": {
    "tags": []
   },
   "outputs": [
    {
     "name": "stdout",
     "output_type": "stream",
     "text": [
      "The autoreload extension is already loaded. To reload it, use:\n",
      "  %reload_ext autoreload\n"
     ]
    }
   ],
   "source": [
    "import numpy as np\n",
    "import pandas as pd\n",
    "import geopandas as gpd\n",
    "import matplotlib.pyplot as plt\n",
    "import pygplates\n",
    "import pygmt\n",
    "\n",
    "from gprm import ReconstructionModel\n",
    "from gprm.datasets import Rocks, Reconstructions, Paleogeography, Geology\n",
    "from gprm.utils.raster import to_anchor_plate\n",
    "\n",
    "import sys\n",
    "#sys.path.append('/Users/simon/OneDrive/Andes_works//python/')\n",
    "sys.path.append('../python/')\n",
    "import joyful_geochemistry as joy\n",
    "import joyful_mapping as joymap\n",
    "\n",
    "import collections\n",
    "\n",
    "%matplotlib inline\n",
    "%load_ext autoreload\n",
    "%autoreload 2\n",
    "\n",
    "\n",
    "############## Settings for Scotese Paleomap\n",
    "PaleomapDictionary = {}\n",
    "PaleomapDictionary['name'] = 'Paleomap'\n",
    "PaleomapDictionary['reconstruction_model'] = Reconstructions.fetch_Scotese()\n",
    "PaleomapDictionary['raster_sequence'] = Paleogeography.fetch_Paleomap()\n",
    "PaleomapDictionary['maximum_time'] = 350.\n",
    "PaleomapDictionary['time_bin_size'] = 5.\n",
    "PaleomapDictionary['anchor_plate_id'] = 201\n",
    "PaleomapDictionary['raster_anchor_plate_id'] = 0\n",
    "\n",
    "#Paleomap = Reconstructions.fetch_Scotese()\n",
    "#PaleoDEM = Paleogeography.fetch_Paleomap()\n",
    "\n",
    "\n",
    "############## Settings for Boschman model\n",
    "boschman_rotation_model = ReconstructionModel('')\n",
    "boschman_rotation_model.add_rotation_model('/Users/simon/GIT/bx/andes//boschman/reconstruction_model/boschman_reverse_engineered_rotations.rot')\n",
    "boschman_rotation_model.add_static_polygons('/Users/simon/GIT/bx/andes//boschman/reconstruction_model/reconstructed_0.00Ma.shp')\n",
    "\n",
    "raster_dict = {}\n",
    "for reconstruction_time in np.arange(0,81,1):\n",
    "    raster_dict[reconstruction_time] = '/Users/simon/GIT/bx/andes//boschman/grids/boschman_DEM_{:0.0f}Ma.nc'.format(reconstruction_time)\n",
    "boschman_rasters = collections.OrderedDict(sorted(raster_dict.items()))\n",
    "\n",
    "\n",
    "BoschmanDictionary = {}\n",
    "BoschmanDictionary['name'] = 'Boschman'\n",
    "BoschmanDictionary['reconstruction_model'] = boschman_rotation_model\n",
    "BoschmanDictionary['raster_sequence'] = boschman_rasters\n",
    "BoschmanDictionary['maximum_time'] = 80.\n",
    "BoschmanDictionary['time_bin_size'] = 5.\n",
    "BoschmanDictionary['anchor_plate_id'] = 201\n",
    "BoschmanDictionary['raster_anchor_plate_id'] = 201\n",
    "\n",
    "\n",
    "########## Geochemistry Inputs\n",
    "df = joy.geochem_from_csv('../datafiles/geochem_merge_20221026.csv',\n",
    "                          longitude_field_name='Longitude', latitude_field_name='Latitude')\n",
    "\n",
    "model_dir = '../luffi/REM_surfaces_csv/'\n",
    "gc_interpolator_dict = joy.make_gc_interpolator_dict(model_dir)\n",
    "\n"
   ]
  },
  {
   "cell_type": "code",
   "execution_count": 3,
   "id": "27dc9ee5-a073-47fd-b5a9-3325e397deff",
   "metadata": {
    "tags": []
   },
   "outputs": [],
   "source": [
    "df = joymap.select_orogens(df,gdf=None, \n",
    "                           orogen_names='Cordilleran', \n",
    "                           continent_names='South America',\n",
    "                           region=[-100, -50, -60, 20])\n",
    "\n",
    "\n",
    "pilger_volcanics = joymap.load_pilger_volcanics('/Users/simon/OneDrive/Andes_works//datafiles/2022-2-NGG0Q7_Pilger_Andean-Igneous-Radiometric-Dates.xlsx')\n",
    "\n",
    "#df.plot()"
   ]
  },
  {
   "cell_type": "code",
   "execution_count": 13,
   "id": "ee01c9d6-9d61-4a0d-afc7-c98796482ff4",
   "metadata": {
    "tags": []
   },
   "outputs": [],
   "source": [
    "def make_timeslice_figures(df, reconstruction_time, time_bin_size, space_bin_size, \n",
    "                           reconstruction_model, raster_sequence, \n",
    "                           anchor_plate_id, raster_anchor_plate_id,\n",
    "                           gc_interpolator_dict, \n",
    "                           calibration, mohometer_selection,\n",
    "                           region, projection, perspective, \n",
    "                           volcanics=None):\n",
    "    \n",
    "    \n",
    "    if isinstance(mohometer_selection, list):\n",
    "        mohometer_description_string = '|'.join(mohometer_selection)\n",
    "    else:\n",
    "        mohometer_description_string = str(mohometer_selection)\n",
    "\n",
    "    \n",
    "    fig = pygmt.Figure()\n",
    "\n",
    "    binned_elevations = joymap.timeslice_plot(df, reconstruction_time,\n",
    "                                              time_bin_size, space_bin_size, \n",
    "                                              fig, reconstruction_model, raster_sequence, \n",
    "                                              anchor_plate_id=anchor_plate_id, raster_anchor_plate_id=raster_anchor_plate_id,\n",
    "                                              gc_interpolator_dict=gc_interpolator_dict, \n",
    "                                              calibration=calibration, mohometer_selection=mohometer_selection,\n",
    "                                              column_marker_size='0.2c',\n",
    "                                              region=region, projection=projection, perspective=perspective, \n",
    "                                              volcanics=volcanics, return_type='binned_elevations')\n",
    "\n",
    "    joymap.add_labels(fig, reconstruction_time, add_colorbar=True)\n",
    "\n",
    "    fig.savefig('../images/sequence_{:s}/elevations_plus_volcanism_{:s}_{:s}_{:0.0f}Ma.png'.format(MODEL['name'],\n",
    "                                                                                                   calibration,\n",
    "                                                                                                   mohometer_description_string, \n",
    "                                                                                                   reconstruction_time))\n",
    "\n",
    "    fig = pygmt.Figure()\n",
    "\n",
    "    binned_residuals = joymap.timeslice_plot(df, reconstruction_time,\n",
    "                                             time_bin_size, space_bin_size, \n",
    "                                             fig, reconstruction_model, raster_sequence, \n",
    "                                             anchor_plate_id=anchor_plate_id, raster_anchor_plate_id=raster_anchor_plate_id,\n",
    "                                             gc_interpolator_dict=gc_interpolator_dict, \n",
    "                                             calibration=calibration, mohometer_selection=mohometer_selection,\n",
    "                                             region=region, projection=projection, perspective=perspective, \n",
    "                                             volcanics=None, residuals=True, return_type='binned_residuals')\n",
    "\n",
    "    joymap.add_labels(fig, reconstruction_time, add_colorbar=True, colorbar_title='Residual Elevation [m]')\n",
    "\n",
    "    fig.savefig('../images/sequence_{:s}/elevation_residuals_{:s}_{:s}_{:0.0f}Ma.png'.format(MODEL['name'],\n",
    "                                                                                   calibration,\n",
    "                                                                                   mohometer_description_string, \n",
    "                                                                                   reconstruction_time))\n",
    "\n",
    "    joymap.residuals_crossplot(binned_elevations, binned_residuals,\n",
    "                               fname='../images/sequence_{:s}/crossplot_{:s}_{:s}_{:0.1f}Ma.png'.format(MODEL['name'],\n",
    "                                                                                                        calibration,\n",
    "                                                                                                        mohometer_description_string, \n",
    "                                                                                                        reconstruction_time))\n",
    "    #break\n",
    "    return\n"
   ]
  },
  {
   "cell_type": "code",
   "execution_count": 15,
   "id": "9f3f2dc0-eb1b-4a69-ae9c-d563c0af20f2",
   "metadata": {
    "tags": []
   },
   "outputs": [
    {
     "name": "stdout",
     "output_type": "stream",
     "text": [
      "Number of samples after basic filtering 19309\n",
      "TODO implement a specific alkaline/subalkaline boundary\n",
      "Final number of samples passed = 14840\n",
      "TODO implement min/max elevation cutoffs\n"
     ]
    },
    {
     "name": "stderr",
     "output_type": "stream",
     "text": [
      "grdinfo [WARNING]: Guessing of registration in conflict between x and y, using gridline\n",
      "grdtrack [WARNING]: Some input points were outside the grid domain(s).\n"
     ]
    },
    {
     "name": "stdout",
     "output_type": "stream",
     "text": [
      "0.0\n",
      "Number of samples after basic filtering 19309\n",
      "TODO implement a specific alkaline/subalkaline boundary\n",
      "Final number of samples passed = 14840\n",
      "TODO implement min/max elevation cutoffs\n"
     ]
    },
    {
     "name": "stderr",
     "output_type": "stream",
     "text": [
      "grdinfo [WARNING]: Guessing of registration in conflict between x and y, using gridline\n",
      "grdtrack [WARNING]: Some input points were outside the grid domain(s).\n"
     ]
    },
    {
     "name": "stdout",
     "output_type": "stream",
     "text": [
      "Number of samples after basic filtering 444\n",
      "TODO implement a specific alkaline/subalkaline boundary\n",
      "Final number of samples passed = 343\n",
      "TODO implement min/max elevation cutoffs\n"
     ]
    },
    {
     "name": "stderr",
     "output_type": "stream",
     "text": [
      "grdinfo [WARNING]: Guessing of registration in conflict between x and y, using gridline\n",
      "grdtrack [WARNING]: Some input points were outside the grid domain(s).\n"
     ]
    },
    {
     "name": "stdout",
     "output_type": "stream",
     "text": [
      "5.0\n",
      "Number of samples after basic filtering 444\n",
      "TODO implement a specific alkaline/subalkaline boundary\n",
      "Final number of samples passed = 343\n",
      "TODO implement min/max elevation cutoffs\n"
     ]
    },
    {
     "name": "stderr",
     "output_type": "stream",
     "text": [
      "grdinfo [WARNING]: Guessing of registration in conflict between x and y, using gridline\n",
      "grdtrack [WARNING]: Some input points were outside the grid domain(s).\n"
     ]
    },
    {
     "name": "stdout",
     "output_type": "stream",
     "text": [
      "Number of samples after basic filtering 283\n",
      "TODO implement a specific alkaline/subalkaline boundary\n",
      "Final number of samples passed = 205\n",
      "TODO implement min/max elevation cutoffs\n"
     ]
    },
    {
     "name": "stderr",
     "output_type": "stream",
     "text": [
      "grdinfo [WARNING]: Guessing of registration in conflict between x and y, using gridline\n",
      "grdtrack [WARNING]: Some input points were outside the grid domain(s).\n"
     ]
    },
    {
     "name": "stdout",
     "output_type": "stream",
     "text": [
      "10.0\n",
      "Number of samples after basic filtering 283\n",
      "TODO implement a specific alkaline/subalkaline boundary\n",
      "Final number of samples passed = 205\n",
      "TODO implement min/max elevation cutoffs\n"
     ]
    },
    {
     "name": "stderr",
     "output_type": "stream",
     "text": [
      "grdinfo [WARNING]: Guessing of registration in conflict between x and y, using gridline\n",
      "grdtrack [WARNING]: Some input points were outside the grid domain(s).\n"
     ]
    },
    {
     "name": "stdout",
     "output_type": "stream",
     "text": [
      "Number of samples after basic filtering 177\n",
      "TODO implement a specific alkaline/subalkaline boundary\n",
      "Final number of samples passed = 105\n",
      "TODO implement min/max elevation cutoffs\n"
     ]
    },
    {
     "name": "stderr",
     "output_type": "stream",
     "text": [
      "grdinfo [WARNING]: Guessing of registration in conflict between x and y, using gridline\n",
      "grdtrack [WARNING]: Some input points were outside the grid domain(s).\n"
     ]
    },
    {
     "name": "stdout",
     "output_type": "stream",
     "text": [
      "15.0\n",
      "Number of samples after basic filtering 177\n",
      "TODO implement a specific alkaline/subalkaline boundary\n",
      "Final number of samples passed = 105\n",
      "TODO implement min/max elevation cutoffs\n"
     ]
    },
    {
     "name": "stderr",
     "output_type": "stream",
     "text": [
      "grdinfo [WARNING]: Guessing of registration in conflict between x and y, using gridline\n",
      "grdtrack [WARNING]: Some input points were outside the grid domain(s).\n"
     ]
    },
    {
     "name": "stdout",
     "output_type": "stream",
     "text": [
      "Number of samples after basic filtering 130\n",
      "TODO implement a specific alkaline/subalkaline boundary\n",
      "Final number of samples passed = 89\n",
      "TODO implement min/max elevation cutoffs\n"
     ]
    },
    {
     "name": "stderr",
     "output_type": "stream",
     "text": [
      "grdinfo [WARNING]: Guessing of registration in conflict between x and y, using gridline\n",
      "grdtrack [WARNING]: Some input points were outside the grid domain(s).\n"
     ]
    },
    {
     "name": "stdout",
     "output_type": "stream",
     "text": [
      "20.0\n",
      "Number of samples after basic filtering 130\n",
      "TODO implement a specific alkaline/subalkaline boundary\n",
      "Final number of samples passed = 89\n",
      "TODO implement min/max elevation cutoffs\n"
     ]
    },
    {
     "name": "stderr",
     "output_type": "stream",
     "text": [
      "grdinfo [WARNING]: Guessing of registration in conflict between x and y, using gridline\n",
      "grdtrack [WARNING]: Some input points were outside the grid domain(s).\n"
     ]
    },
    {
     "name": "stdout",
     "output_type": "stream",
     "text": [
      "Number of samples after basic filtering 93\n",
      "TODO implement a specific alkaline/subalkaline boundary\n",
      "Final number of samples passed = 40\n",
      "TODO implement min/max elevation cutoffs\n"
     ]
    },
    {
     "name": "stderr",
     "output_type": "stream",
     "text": [
      "grdinfo [WARNING]: Guessing of registration in conflict between x and y, using gridline\n",
      "grdtrack [WARNING]: Some input points were outside the grid domain(s).\n"
     ]
    },
    {
     "name": "stdout",
     "output_type": "stream",
     "text": [
      "25.0\n",
      "Number of samples after basic filtering 93\n",
      "TODO implement a specific alkaline/subalkaline boundary\n",
      "Final number of samples passed = 40\n",
      "TODO implement min/max elevation cutoffs\n"
     ]
    },
    {
     "name": "stderr",
     "output_type": "stream",
     "text": [
      "grdinfo [WARNING]: Guessing of registration in conflict between x and y, using gridline\n",
      "grdtrack [WARNING]: Some input points were outside the grid domain(s).\n"
     ]
    },
    {
     "name": "stdout",
     "output_type": "stream",
     "text": [
      "Number of samples after basic filtering 121\n",
      "TODO implement a specific alkaline/subalkaline boundary\n",
      "Final number of samples passed = 56\n",
      "TODO implement min/max elevation cutoffs\n"
     ]
    },
    {
     "name": "stderr",
     "output_type": "stream",
     "text": [
      "grdinfo [WARNING]: Guessing of registration in conflict between x and y, using gridline\n",
      "grdtrack [WARNING]: Some input points were outside the grid domain(s).\n"
     ]
    },
    {
     "name": "stdout",
     "output_type": "stream",
     "text": [
      "30.0\n",
      "Number of samples after basic filtering 121\n",
      "TODO implement a specific alkaline/subalkaline boundary\n",
      "Final number of samples passed = 56\n",
      "TODO implement min/max elevation cutoffs\n"
     ]
    },
    {
     "name": "stderr",
     "output_type": "stream",
     "text": [
      "grdinfo [WARNING]: Guessing of registration in conflict between x and y, using gridline\n",
      "grdtrack [WARNING]: Some input points were outside the grid domain(s).\n"
     ]
    },
    {
     "name": "stdout",
     "output_type": "stream",
     "text": [
      "Number of samples after basic filtering 302\n",
      "TODO implement a specific alkaline/subalkaline boundary\n",
      "Final number of samples passed = 109\n",
      "TODO implement min/max elevation cutoffs\n"
     ]
    },
    {
     "name": "stderr",
     "output_type": "stream",
     "text": [
      "grdinfo [WARNING]: Guessing of registration in conflict between x and y, using gridline\n",
      "grdtrack [WARNING]: Some input points were outside the grid domain(s).\n"
     ]
    },
    {
     "name": "stdout",
     "output_type": "stream",
     "text": [
      "35.0\n",
      "Number of samples after basic filtering 302\n",
      "TODO implement a specific alkaline/subalkaline boundary\n",
      "Final number of samples passed = 109\n",
      "TODO implement min/max elevation cutoffs\n"
     ]
    },
    {
     "name": "stderr",
     "output_type": "stream",
     "text": [
      "grdinfo [WARNING]: Guessing of registration in conflict between x and y, using gridline\n",
      "grdtrack [WARNING]: Some input points were outside the grid domain(s).\n"
     ]
    },
    {
     "name": "stdout",
     "output_type": "stream",
     "text": [
      "Number of samples after basic filtering 49\n",
      "TODO implement a specific alkaline/subalkaline boundary\n",
      "Final number of samples passed = 46\n",
      "TODO implement min/max elevation cutoffs\n"
     ]
    },
    {
     "name": "stderr",
     "output_type": "stream",
     "text": [
      "grdinfo [WARNING]: Guessing of registration in conflict between x and y, using gridline\n",
      "grdtrack [WARNING]: Some input points were outside the grid domain(s).\n"
     ]
    },
    {
     "name": "stdout",
     "output_type": "stream",
     "text": [
      "40.0\n",
      "Number of samples after basic filtering 49\n",
      "TODO implement a specific alkaline/subalkaline boundary\n",
      "Final number of samples passed = 46\n",
      "TODO implement min/max elevation cutoffs\n"
     ]
    },
    {
     "name": "stderr",
     "output_type": "stream",
     "text": [
      "grdinfo [WARNING]: Guessing of registration in conflict between x and y, using gridline\n",
      "grdtrack [WARNING]: Some input points were outside the grid domain(s).\n"
     ]
    },
    {
     "name": "stdout",
     "output_type": "stream",
     "text": [
      "Number of samples after basic filtering 123\n",
      "TODO implement a specific alkaline/subalkaline boundary\n",
      "Final number of samples passed = 116\n",
      "TODO implement min/max elevation cutoffs\n"
     ]
    },
    {
     "name": "stderr",
     "output_type": "stream",
     "text": [
      "grdinfo [WARNING]: Guessing of registration in conflict between x and y, using gridline\n",
      "grdtrack [WARNING]: Some input points were outside the grid domain(s).\n"
     ]
    },
    {
     "name": "stdout",
     "output_type": "stream",
     "text": [
      "45.0\n",
      "Number of samples after basic filtering 123\n",
      "TODO implement a specific alkaline/subalkaline boundary\n",
      "Final number of samples passed = 116\n",
      "TODO implement min/max elevation cutoffs\n"
     ]
    },
    {
     "name": "stderr",
     "output_type": "stream",
     "text": [
      "grdinfo [WARNING]: Guessing of registration in conflict between x and y, using gridline\n",
      "grdtrack [WARNING]: Some input points were outside the grid domain(s).\n"
     ]
    },
    {
     "name": "stdout",
     "output_type": "stream",
     "text": [
      "Number of samples after basic filtering 51\n",
      "TODO implement a specific alkaline/subalkaline boundary\n",
      "Final number of samples passed = 49\n",
      "TODO implement min/max elevation cutoffs\n"
     ]
    },
    {
     "name": "stderr",
     "output_type": "stream",
     "text": [
      "grdinfo [WARNING]: Guessing of registration in conflict between x and y, using gridline\n"
     ]
    },
    {
     "name": "stdout",
     "output_type": "stream",
     "text": [
      "50.0\n",
      "Number of samples after basic filtering 51\n",
      "TODO implement a specific alkaline/subalkaline boundary\n",
      "Final number of samples passed = 49\n",
      "TODO implement min/max elevation cutoffs\n"
     ]
    },
    {
     "name": "stderr",
     "output_type": "stream",
     "text": [
      "grdinfo [WARNING]: Guessing of registration in conflict between x and y, using gridline\n"
     ]
    },
    {
     "name": "stdout",
     "output_type": "stream",
     "text": [
      "Number of samples after basic filtering 126\n",
      "TODO implement a specific alkaline/subalkaline boundary\n",
      "Final number of samples passed = 125\n",
      "TODO implement min/max elevation cutoffs\n"
     ]
    },
    {
     "name": "stderr",
     "output_type": "stream",
     "text": [
      "grdinfo [WARNING]: Guessing of registration in conflict between x and y, using gridline\n"
     ]
    },
    {
     "name": "stdout",
     "output_type": "stream",
     "text": [
      "55.0\n",
      "Number of samples after basic filtering 126\n",
      "TODO implement a specific alkaline/subalkaline boundary\n",
      "Final number of samples passed = 125\n",
      "TODO implement min/max elevation cutoffs\n"
     ]
    },
    {
     "name": "stderr",
     "output_type": "stream",
     "text": [
      "grdinfo [WARNING]: Guessing of registration in conflict between x and y, using gridline\n"
     ]
    },
    {
     "name": "stdout",
     "output_type": "stream",
     "text": [
      "Number of samples after basic filtering 24\n",
      "TODO implement a specific alkaline/subalkaline boundary\n",
      "Final number of samples passed = 22\n",
      "TODO implement min/max elevation cutoffs\n"
     ]
    },
    {
     "name": "stderr",
     "output_type": "stream",
     "text": [
      "grdinfo [WARNING]: Guessing of registration in conflict between x and y, using gridline\n",
      "grdtrack [WARNING]: Some input points were outside the grid domain(s).\n"
     ]
    },
    {
     "name": "stdout",
     "output_type": "stream",
     "text": [
      "60.0\n",
      "Number of samples after basic filtering 24\n",
      "TODO implement a specific alkaline/subalkaline boundary\n",
      "Final number of samples passed = 22\n",
      "TODO implement min/max elevation cutoffs\n"
     ]
    },
    {
     "name": "stderr",
     "output_type": "stream",
     "text": [
      "grdinfo [WARNING]: Guessing of registration in conflict between x and y, using gridline\n",
      "grdtrack [WARNING]: Some input points were outside the grid domain(s).\n"
     ]
    },
    {
     "name": "stdout",
     "output_type": "stream",
     "text": [
      "Number of samples after basic filtering 64\n",
      "TODO implement a specific alkaline/subalkaline boundary\n",
      "Final number of samples passed = 60\n",
      "TODO implement min/max elevation cutoffs\n"
     ]
    },
    {
     "name": "stderr",
     "output_type": "stream",
     "text": [
      "grdinfo [WARNING]: Guessing of registration in conflict between x and y, using gridline\n",
      "grdtrack [WARNING]: Some input points were outside the grid domain(s).\n"
     ]
    },
    {
     "name": "stdout",
     "output_type": "stream",
     "text": [
      "65.0\n",
      "Number of samples after basic filtering 64\n",
      "TODO implement a specific alkaline/subalkaline boundary\n",
      "Final number of samples passed = 60\n",
      "TODO implement min/max elevation cutoffs\n"
     ]
    },
    {
     "name": "stderr",
     "output_type": "stream",
     "text": [
      "grdinfo [WARNING]: Guessing of registration in conflict between x and y, using gridline\n",
      "grdtrack [WARNING]: Some input points were outside the grid domain(s).\n"
     ]
    },
    {
     "name": "stdout",
     "output_type": "stream",
     "text": [
      "Number of samples after basic filtering 20\n",
      "TODO implement a specific alkaline/subalkaline boundary\n",
      "Final number of samples passed = 19\n",
      "TODO implement min/max elevation cutoffs\n"
     ]
    },
    {
     "name": "stderr",
     "output_type": "stream",
     "text": [
      "grdinfo [WARNING]: Guessing of registration in conflict between x and y, using gridline\n",
      "grdtrack [WARNING]: Some input points were outside the grid domain(s).\n"
     ]
    },
    {
     "name": "stdout",
     "output_type": "stream",
     "text": [
      "70.0\n",
      "Number of samples after basic filtering 20\n",
      "TODO implement a specific alkaline/subalkaline boundary\n",
      "Final number of samples passed = 19\n",
      "TODO implement min/max elevation cutoffs\n"
     ]
    },
    {
     "name": "stderr",
     "output_type": "stream",
     "text": [
      "grdinfo [WARNING]: Guessing of registration in conflict between x and y, using gridline\n",
      "grdtrack [WARNING]: Some input points were outside the grid domain(s).\n"
     ]
    },
    {
     "name": "stdout",
     "output_type": "stream",
     "text": [
      "Number of samples after basic filtering 64\n",
      "TODO implement a specific alkaline/subalkaline boundary\n",
      "Final number of samples passed = 50\n",
      "TODO implement min/max elevation cutoffs\n"
     ]
    },
    {
     "name": "stderr",
     "output_type": "stream",
     "text": [
      "grdinfo [WARNING]: Guessing of registration in conflict between x and y, using gridline\n",
      "grdtrack [WARNING]: Some input points were outside the grid domain(s).\n"
     ]
    },
    {
     "name": "stdout",
     "output_type": "stream",
     "text": [
      "75.0\n",
      "Number of samples after basic filtering 64\n",
      "TODO implement a specific alkaline/subalkaline boundary\n",
      "Final number of samples passed = 50\n",
      "TODO implement min/max elevation cutoffs\n"
     ]
    },
    {
     "name": "stderr",
     "output_type": "stream",
     "text": [
      "grdinfo [WARNING]: Guessing of registration in conflict between x and y, using gridline\n",
      "grdtrack [WARNING]: Some input points were outside the grid domain(s).\n"
     ]
    },
    {
     "name": "stdout",
     "output_type": "stream",
     "text": [
      "Number of samples after basic filtering 67\n",
      "TODO implement a specific alkaline/subalkaline boundary\n",
      "Final number of samples passed = 55\n",
      "TODO implement min/max elevation cutoffs\n"
     ]
    },
    {
     "name": "stderr",
     "output_type": "stream",
     "text": [
      "grdinfo [WARNING]: Guessing of registration in conflict between x and y, using gridline\n",
      "grdtrack [WARNING]: Some input points were outside the grid domain(s).\n"
     ]
    },
    {
     "name": "stdout",
     "output_type": "stream",
     "text": [
      "80.0\n",
      "Number of samples after basic filtering 67\n",
      "TODO implement a specific alkaline/subalkaline boundary\n",
      "Final number of samples passed = 55\n",
      "TODO implement min/max elevation cutoffs\n"
     ]
    },
    {
     "name": "stderr",
     "output_type": "stream",
     "text": [
      "grdinfo [WARNING]: Guessing of registration in conflict between x and y, using gridline\n",
      "grdtrack [WARNING]: Some input points were outside the grid domain(s).\n"
     ]
    },
    {
     "name": "stdout",
     "output_type": "stream",
     "text": [
      "Number of samples after basic filtering 19309\n",
      "TODO implement a specific alkaline/subalkaline boundary\n",
      "Final number of samples passed = 14840\n",
      "TODO implement min/max elevation cutoffs\n"
     ]
    },
    {
     "name": "stderr",
     "output_type": "stream",
     "text": [
      "grdinfo [WARNING]: Guessing of registration in conflict between x and y, using gridline\n",
      "grdtrack [WARNING]: Some input points were outside the grid domain(s).\n"
     ]
    },
    {
     "name": "stdout",
     "output_type": "stream",
     "text": [
      "0.0\n",
      "Number of samples after basic filtering 19309\n",
      "TODO implement a specific alkaline/subalkaline boundary\n",
      "Final number of samples passed = 14840\n",
      "TODO implement min/max elevation cutoffs\n"
     ]
    },
    {
     "name": "stderr",
     "output_type": "stream",
     "text": [
      "grdinfo [WARNING]: Guessing of registration in conflict between x and y, using gridline\n",
      "grdtrack [WARNING]: Some input points were outside the grid domain(s).\n"
     ]
    },
    {
     "name": "stdout",
     "output_type": "stream",
     "text": [
      "Number of samples after basic filtering 444\n",
      "TODO implement a specific alkaline/subalkaline boundary\n",
      "Final number of samples passed = 343\n",
      "TODO implement min/max elevation cutoffs\n"
     ]
    },
    {
     "name": "stderr",
     "output_type": "stream",
     "text": [
      "grdinfo [WARNING]: Guessing of registration in conflict between x and y, using gridline\n",
      "grdtrack [WARNING]: Some input points were outside the grid domain(s).\n"
     ]
    },
    {
     "name": "stdout",
     "output_type": "stream",
     "text": [
      "5.0\n",
      "Number of samples after basic filtering 444\n",
      "TODO implement a specific alkaline/subalkaline boundary\n",
      "Final number of samples passed = 343\n",
      "TODO implement min/max elevation cutoffs\n"
     ]
    },
    {
     "name": "stderr",
     "output_type": "stream",
     "text": [
      "grdinfo [WARNING]: Guessing of registration in conflict between x and y, using gridline\n",
      "grdtrack [WARNING]: Some input points were outside the grid domain(s).\n"
     ]
    },
    {
     "name": "stdout",
     "output_type": "stream",
     "text": [
      "Number of samples after basic filtering 283\n",
      "TODO implement a specific alkaline/subalkaline boundary\n",
      "Final number of samples passed = 205\n",
      "TODO implement min/max elevation cutoffs\n"
     ]
    },
    {
     "name": "stderr",
     "output_type": "stream",
     "text": [
      "grdinfo [WARNING]: Guessing of registration in conflict between x and y, using gridline\n",
      "grdtrack [WARNING]: Some input points were outside the grid domain(s).\n"
     ]
    },
    {
     "name": "stdout",
     "output_type": "stream",
     "text": [
      "10.0\n",
      "Number of samples after basic filtering 283\n",
      "TODO implement a specific alkaline/subalkaline boundary\n",
      "Final number of samples passed = 205\n",
      "TODO implement min/max elevation cutoffs\n"
     ]
    },
    {
     "name": "stderr",
     "output_type": "stream",
     "text": [
      "grdinfo [WARNING]: Guessing of registration in conflict between x and y, using gridline\n",
      "grdtrack [WARNING]: Some input points were outside the grid domain(s).\n"
     ]
    },
    {
     "name": "stdout",
     "output_type": "stream",
     "text": [
      "Number of samples after basic filtering 177\n",
      "TODO implement a specific alkaline/subalkaline boundary\n",
      "Final number of samples passed = 105\n",
      "TODO implement min/max elevation cutoffs\n"
     ]
    },
    {
     "name": "stderr",
     "output_type": "stream",
     "text": [
      "grdinfo [WARNING]: Guessing of registration in conflict between x and y, using gridline\n",
      "grdtrack [WARNING]: Some input points were outside the grid domain(s).\n"
     ]
    },
    {
     "name": "stdout",
     "output_type": "stream",
     "text": [
      "15.0\n",
      "Number of samples after basic filtering 177\n",
      "TODO implement a specific alkaline/subalkaline boundary\n",
      "Final number of samples passed = 105\n",
      "TODO implement min/max elevation cutoffs\n"
     ]
    },
    {
     "name": "stderr",
     "output_type": "stream",
     "text": [
      "grdinfo [WARNING]: Guessing of registration in conflict between x and y, using gridline\n",
      "grdtrack [WARNING]: Some input points were outside the grid domain(s).\n"
     ]
    },
    {
     "name": "stdout",
     "output_type": "stream",
     "text": [
      "Number of samples after basic filtering 130\n",
      "TODO implement a specific alkaline/subalkaline boundary\n",
      "Final number of samples passed = 89\n",
      "TODO implement min/max elevation cutoffs\n"
     ]
    },
    {
     "name": "stderr",
     "output_type": "stream",
     "text": [
      "grdinfo [WARNING]: Guessing of registration in conflict between x and y, using gridline\n",
      "grdtrack [WARNING]: Some input points were outside the grid domain(s).\n"
     ]
    },
    {
     "name": "stdout",
     "output_type": "stream",
     "text": [
      "20.0\n",
      "Number of samples after basic filtering 130\n",
      "TODO implement a specific alkaline/subalkaline boundary\n",
      "Final number of samples passed = 89\n",
      "TODO implement min/max elevation cutoffs\n"
     ]
    },
    {
     "name": "stderr",
     "output_type": "stream",
     "text": [
      "grdinfo [WARNING]: Guessing of registration in conflict between x and y, using gridline\n",
      "grdtrack [WARNING]: Some input points were outside the grid domain(s).\n"
     ]
    },
    {
     "name": "stdout",
     "output_type": "stream",
     "text": [
      "Number of samples after basic filtering 93\n",
      "TODO implement a specific alkaline/subalkaline boundary\n",
      "Final number of samples passed = 40\n",
      "TODO implement min/max elevation cutoffs\n"
     ]
    },
    {
     "name": "stderr",
     "output_type": "stream",
     "text": [
      "grdinfo [WARNING]: Guessing of registration in conflict between x and y, using gridline\n",
      "grdtrack [WARNING]: Some input points were outside the grid domain(s).\n"
     ]
    },
    {
     "name": "stdout",
     "output_type": "stream",
     "text": [
      "25.0\n",
      "Number of samples after basic filtering 93\n",
      "TODO implement a specific alkaline/subalkaline boundary\n",
      "Final number of samples passed = 40\n",
      "TODO implement min/max elevation cutoffs\n"
     ]
    },
    {
     "name": "stderr",
     "output_type": "stream",
     "text": [
      "grdinfo [WARNING]: Guessing of registration in conflict between x and y, using gridline\n",
      "grdtrack [WARNING]: Some input points were outside the grid domain(s).\n"
     ]
    },
    {
     "name": "stdout",
     "output_type": "stream",
     "text": [
      "Number of samples after basic filtering 121\n",
      "TODO implement a specific alkaline/subalkaline boundary\n",
      "Final number of samples passed = 56\n",
      "TODO implement min/max elevation cutoffs\n"
     ]
    },
    {
     "name": "stderr",
     "output_type": "stream",
     "text": [
      "grdinfo [WARNING]: Guessing of registration in conflict between x and y, using gridline\n",
      "grdtrack [WARNING]: Some input points were outside the grid domain(s).\n"
     ]
    },
    {
     "name": "stdout",
     "output_type": "stream",
     "text": [
      "30.0\n",
      "Number of samples after basic filtering 121\n",
      "TODO implement a specific alkaline/subalkaline boundary\n",
      "Final number of samples passed = 56\n",
      "TODO implement min/max elevation cutoffs\n"
     ]
    },
    {
     "name": "stderr",
     "output_type": "stream",
     "text": [
      "grdinfo [WARNING]: Guessing of registration in conflict between x and y, using gridline\n",
      "grdtrack [WARNING]: Some input points were outside the grid domain(s).\n"
     ]
    },
    {
     "name": "stdout",
     "output_type": "stream",
     "text": [
      "Number of samples after basic filtering 302\n",
      "TODO implement a specific alkaline/subalkaline boundary\n",
      "Final number of samples passed = 109\n",
      "TODO implement min/max elevation cutoffs\n"
     ]
    },
    {
     "name": "stderr",
     "output_type": "stream",
     "text": [
      "grdinfo [WARNING]: Guessing of registration in conflict between x and y, using gridline\n",
      "grdtrack [WARNING]: Some input points were outside the grid domain(s).\n"
     ]
    },
    {
     "name": "stdout",
     "output_type": "stream",
     "text": [
      "35.0\n",
      "Number of samples after basic filtering 302\n",
      "TODO implement a specific alkaline/subalkaline boundary\n",
      "Final number of samples passed = 109\n",
      "TODO implement min/max elevation cutoffs\n"
     ]
    },
    {
     "name": "stderr",
     "output_type": "stream",
     "text": [
      "grdinfo [WARNING]: Guessing of registration in conflict between x and y, using gridline\n",
      "grdtrack [WARNING]: Some input points were outside the grid domain(s).\n"
     ]
    },
    {
     "name": "stdout",
     "output_type": "stream",
     "text": [
      "Number of samples after basic filtering 49\n",
      "TODO implement a specific alkaline/subalkaline boundary\n",
      "Final number of samples passed = 46\n",
      "TODO implement min/max elevation cutoffs\n"
     ]
    },
    {
     "name": "stderr",
     "output_type": "stream",
     "text": [
      "grdinfo [WARNING]: Guessing of registration in conflict between x and y, using gridline\n",
      "grdtrack [WARNING]: Some input points were outside the grid domain(s).\n"
     ]
    },
    {
     "name": "stdout",
     "output_type": "stream",
     "text": [
      "40.0\n",
      "Number of samples after basic filtering 49\n",
      "TODO implement a specific alkaline/subalkaline boundary\n",
      "Final number of samples passed = 46\n",
      "TODO implement min/max elevation cutoffs\n"
     ]
    },
    {
     "name": "stderr",
     "output_type": "stream",
     "text": [
      "grdinfo [WARNING]: Guessing of registration in conflict between x and y, using gridline\n",
      "grdtrack [WARNING]: Some input points were outside the grid domain(s).\n"
     ]
    },
    {
     "name": "stdout",
     "output_type": "stream",
     "text": [
      "Number of samples after basic filtering 123\n",
      "TODO implement a specific alkaline/subalkaline boundary\n",
      "Final number of samples passed = 116\n",
      "TODO implement min/max elevation cutoffs\n"
     ]
    },
    {
     "name": "stderr",
     "output_type": "stream",
     "text": [
      "grdinfo [WARNING]: Guessing of registration in conflict between x and y, using gridline\n",
      "grdtrack [WARNING]: Some input points were outside the grid domain(s).\n"
     ]
    },
    {
     "name": "stdout",
     "output_type": "stream",
     "text": [
      "45.0\n",
      "Number of samples after basic filtering 123\n",
      "TODO implement a specific alkaline/subalkaline boundary\n",
      "Final number of samples passed = 116\n",
      "TODO implement min/max elevation cutoffs\n"
     ]
    },
    {
     "name": "stderr",
     "output_type": "stream",
     "text": [
      "grdinfo [WARNING]: Guessing of registration in conflict between x and y, using gridline\n",
      "grdtrack [WARNING]: Some input points were outside the grid domain(s).\n"
     ]
    },
    {
     "name": "stdout",
     "output_type": "stream",
     "text": [
      "Number of samples after basic filtering 51\n",
      "TODO implement a specific alkaline/subalkaline boundary\n",
      "Final number of samples passed = 49\n",
      "TODO implement min/max elevation cutoffs\n"
     ]
    },
    {
     "name": "stderr",
     "output_type": "stream",
     "text": [
      "grdinfo [WARNING]: Guessing of registration in conflict between x and y, using gridline\n"
     ]
    },
    {
     "name": "stdout",
     "output_type": "stream",
     "text": [
      "50.0\n",
      "Number of samples after basic filtering 51\n",
      "TODO implement a specific alkaline/subalkaline boundary\n",
      "Final number of samples passed = 49\n",
      "TODO implement min/max elevation cutoffs\n"
     ]
    },
    {
     "name": "stderr",
     "output_type": "stream",
     "text": [
      "grdinfo [WARNING]: Guessing of registration in conflict between x and y, using gridline\n"
     ]
    },
    {
     "name": "stdout",
     "output_type": "stream",
     "text": [
      "Number of samples after basic filtering 126\n",
      "TODO implement a specific alkaline/subalkaline boundary\n",
      "Final number of samples passed = 125\n",
      "TODO implement min/max elevation cutoffs\n"
     ]
    },
    {
     "name": "stderr",
     "output_type": "stream",
     "text": [
      "grdinfo [WARNING]: Guessing of registration in conflict between x and y, using gridline\n"
     ]
    },
    {
     "name": "stdout",
     "output_type": "stream",
     "text": [
      "55.0\n",
      "Number of samples after basic filtering 126\n",
      "TODO implement a specific alkaline/subalkaline boundary\n",
      "Final number of samples passed = 125\n",
      "TODO implement min/max elevation cutoffs\n"
     ]
    },
    {
     "name": "stderr",
     "output_type": "stream",
     "text": [
      "grdinfo [WARNING]: Guessing of registration in conflict between x and y, using gridline\n"
     ]
    },
    {
     "name": "stdout",
     "output_type": "stream",
     "text": [
      "Number of samples after basic filtering 24\n",
      "TODO implement a specific alkaline/subalkaline boundary\n",
      "Final number of samples passed = 22\n",
      "TODO implement min/max elevation cutoffs\n"
     ]
    },
    {
     "name": "stderr",
     "output_type": "stream",
     "text": [
      "grdinfo [WARNING]: Guessing of registration in conflict between x and y, using gridline\n",
      "grdtrack [WARNING]: Some input points were outside the grid domain(s).\n"
     ]
    },
    {
     "name": "stdout",
     "output_type": "stream",
     "text": [
      "60.0\n",
      "Number of samples after basic filtering 24\n",
      "TODO implement a specific alkaline/subalkaline boundary\n",
      "Final number of samples passed = 22\n",
      "TODO implement min/max elevation cutoffs\n"
     ]
    },
    {
     "name": "stderr",
     "output_type": "stream",
     "text": [
      "grdinfo [WARNING]: Guessing of registration in conflict between x and y, using gridline\n",
      "grdtrack [WARNING]: Some input points were outside the grid domain(s).\n"
     ]
    },
    {
     "name": "stdout",
     "output_type": "stream",
     "text": [
      "Number of samples after basic filtering 64\n",
      "TODO implement a specific alkaline/subalkaline boundary\n",
      "Final number of samples passed = 60\n",
      "TODO implement min/max elevation cutoffs\n"
     ]
    },
    {
     "name": "stderr",
     "output_type": "stream",
     "text": [
      "grdinfo [WARNING]: Guessing of registration in conflict between x and y, using gridline\n",
      "grdtrack [WARNING]: Some input points were outside the grid domain(s).\n"
     ]
    },
    {
     "name": "stdout",
     "output_type": "stream",
     "text": [
      "65.0\n",
      "Number of samples after basic filtering 64\n",
      "TODO implement a specific alkaline/subalkaline boundary\n",
      "Final number of samples passed = 60\n",
      "TODO implement min/max elevation cutoffs\n"
     ]
    },
    {
     "name": "stderr",
     "output_type": "stream",
     "text": [
      "grdinfo [WARNING]: Guessing of registration in conflict between x and y, using gridline\n",
      "grdtrack [WARNING]: Some input points were outside the grid domain(s).\n"
     ]
    },
    {
     "name": "stdout",
     "output_type": "stream",
     "text": [
      "Number of samples after basic filtering 20\n",
      "TODO implement a specific alkaline/subalkaline boundary\n",
      "Final number of samples passed = 19\n",
      "TODO implement min/max elevation cutoffs\n"
     ]
    },
    {
     "name": "stderr",
     "output_type": "stream",
     "text": [
      "grdinfo [WARNING]: Guessing of registration in conflict between x and y, using gridline\n",
      "grdtrack [WARNING]: Some input points were outside the grid domain(s).\n"
     ]
    },
    {
     "name": "stdout",
     "output_type": "stream",
     "text": [
      "70.0\n",
      "Number of samples after basic filtering 20\n",
      "TODO implement a specific alkaline/subalkaline boundary\n",
      "Final number of samples passed = 19\n",
      "TODO implement min/max elevation cutoffs\n"
     ]
    },
    {
     "name": "stderr",
     "output_type": "stream",
     "text": [
      "grdinfo [WARNING]: Guessing of registration in conflict between x and y, using gridline\n",
      "grdtrack [WARNING]: Some input points were outside the grid domain(s).\n"
     ]
    },
    {
     "name": "stdout",
     "output_type": "stream",
     "text": [
      "Number of samples after basic filtering 64\n",
      "TODO implement a specific alkaline/subalkaline boundary\n",
      "Final number of samples passed = 50\n",
      "TODO implement min/max elevation cutoffs\n"
     ]
    },
    {
     "name": "stderr",
     "output_type": "stream",
     "text": [
      "grdinfo [WARNING]: Guessing of registration in conflict between x and y, using gridline\n",
      "grdtrack [WARNING]: Some input points were outside the grid domain(s).\n"
     ]
    },
    {
     "name": "stdout",
     "output_type": "stream",
     "text": [
      "75.0\n",
      "Number of samples after basic filtering 64\n",
      "TODO implement a specific alkaline/subalkaline boundary\n",
      "Final number of samples passed = 50\n",
      "TODO implement min/max elevation cutoffs\n"
     ]
    },
    {
     "name": "stderr",
     "output_type": "stream",
     "text": [
      "grdinfo [WARNING]: Guessing of registration in conflict between x and y, using gridline\n",
      "grdtrack [WARNING]: Some input points were outside the grid domain(s).\n"
     ]
    },
    {
     "name": "stdout",
     "output_type": "stream",
     "text": [
      "Number of samples after basic filtering 67\n",
      "TODO implement a specific alkaline/subalkaline boundary\n",
      "Final number of samples passed = 55\n",
      "TODO implement min/max elevation cutoffs\n"
     ]
    },
    {
     "name": "stderr",
     "output_type": "stream",
     "text": [
      "grdinfo [WARNING]: Guessing of registration in conflict between x and y, using gridline\n",
      "grdtrack [WARNING]: Some input points were outside the grid domain(s).\n"
     ]
    },
    {
     "name": "stdout",
     "output_type": "stream",
     "text": [
      "80.0\n",
      "Number of samples after basic filtering 67\n",
      "TODO implement a specific alkaline/subalkaline boundary\n",
      "Final number of samples passed = 55\n",
      "TODO implement min/max elevation cutoffs\n"
     ]
    },
    {
     "name": "stderr",
     "output_type": "stream",
     "text": [
      "grdinfo [WARNING]: Guessing of registration in conflict between x and y, using gridline\n",
      "grdtrack [WARNING]: Some input points were outside the grid domain(s).\n"
     ]
    },
    {
     "name": "stdout",
     "output_type": "stream",
     "text": [
      "Number of samples after basic filtering 19309\n",
      "Number of samples with 55<=sio2<=70 = 9029\n",
      "Number of these samples with 1<=mgo<=4 = 6905\n",
      "Number of these samples with 0.05<=rb/sr<=0.25 = 3816\n",
      "Final number of samples passed = 3816\n",
      "TODO implement min/max elevation cutoffs\n"
     ]
    },
    {
     "name": "stderr",
     "output_type": "stream",
     "text": [
      "grdinfo [WARNING]: Guessing of registration in conflict between x and y, using gridline\n",
      "grdtrack [WARNING]: Some input points were outside the grid domain(s).\n"
     ]
    },
    {
     "name": "stdout",
     "output_type": "stream",
     "text": [
      "0.0\n",
      "Number of samples after basic filtering 19309\n",
      "Number of samples with 55<=sio2<=70 = 9029\n",
      "Number of these samples with 1<=mgo<=4 = 6905\n",
      "Number of these samples with 0.05<=rb/sr<=0.25 = 3816\n",
      "Final number of samples passed = 3816\n",
      "TODO implement min/max elevation cutoffs\n"
     ]
    },
    {
     "name": "stderr",
     "output_type": "stream",
     "text": [
      "grdinfo [WARNING]: Guessing of registration in conflict between x and y, using gridline\n",
      "grdtrack [WARNING]: Some input points were outside the grid domain(s).\n"
     ]
    },
    {
     "name": "stdout",
     "output_type": "stream",
     "text": [
      "Number of samples after basic filtering 444\n",
      "Number of samples with 55<=sio2<=70 = 240\n",
      "Number of these samples with 1<=mgo<=4 = 200\n",
      "Number of these samples with 0.05<=rb/sr<=0.25 = 144\n",
      "Final number of samples passed = 144\n",
      "TODO implement min/max elevation cutoffs\n"
     ]
    },
    {
     "name": "stderr",
     "output_type": "stream",
     "text": [
      "grdinfo [WARNING]: Guessing of registration in conflict between x and y, using gridline\n",
      "grdtrack [WARNING]: Some input points were outside the grid domain(s).\n"
     ]
    },
    {
     "name": "stdout",
     "output_type": "stream",
     "text": [
      "5.0\n",
      "Number of samples after basic filtering 444\n",
      "Number of samples with 55<=sio2<=70 = 240\n",
      "Number of these samples with 1<=mgo<=4 = 200\n",
      "Number of these samples with 0.05<=rb/sr<=0.25 = 144\n",
      "Final number of samples passed = 144\n",
      "TODO implement min/max elevation cutoffs\n"
     ]
    },
    {
     "name": "stderr",
     "output_type": "stream",
     "text": [
      "grdinfo [WARNING]: Guessing of registration in conflict between x and y, using gridline\n",
      "grdtrack [WARNING]: Some input points were outside the grid domain(s).\n"
     ]
    },
    {
     "name": "stdout",
     "output_type": "stream",
     "text": [
      "Number of samples after basic filtering 283\n",
      "Number of samples with 55<=sio2<=70 = 155\n",
      "Number of these samples with 1<=mgo<=4 = 135\n",
      "Number of these samples with 0.05<=rb/sr<=0.25 = 57\n",
      "Final number of samples passed = 57\n",
      "TODO implement min/max elevation cutoffs\n"
     ]
    },
    {
     "name": "stderr",
     "output_type": "stream",
     "text": [
      "grdinfo [WARNING]: Guessing of registration in conflict between x and y, using gridline\n",
      "grdtrack [WARNING]: Some input points were outside the grid domain(s).\n"
     ]
    },
    {
     "name": "stdout",
     "output_type": "stream",
     "text": [
      "10.0\n",
      "Number of samples after basic filtering 283\n",
      "Number of samples with 55<=sio2<=70 = 155\n",
      "Number of these samples with 1<=mgo<=4 = 135\n",
      "Number of these samples with 0.05<=rb/sr<=0.25 = 57\n",
      "Final number of samples passed = 57\n",
      "TODO implement min/max elevation cutoffs\n"
     ]
    },
    {
     "name": "stderr",
     "output_type": "stream",
     "text": [
      "grdinfo [WARNING]: Guessing of registration in conflict between x and y, using gridline\n",
      "grdtrack [WARNING]: Some input points were outside the grid domain(s).\n"
     ]
    },
    {
     "name": "stdout",
     "output_type": "stream",
     "text": [
      "Number of samples after basic filtering 177\n",
      "Number of samples with 55<=sio2<=70 = 85\n",
      "Number of these samples with 1<=mgo<=4 = 64\n",
      "Number of these samples with 0.05<=rb/sr<=0.25 = 32\n",
      "Final number of samples passed = 32\n",
      "TODO implement min/max elevation cutoffs\n"
     ]
    },
    {
     "name": "stderr",
     "output_type": "stream",
     "text": [
      "grdinfo [WARNING]: Guessing of registration in conflict between x and y, using gridline\n",
      "grdtrack [WARNING]: Some input points were outside the grid domain(s).\n"
     ]
    },
    {
     "name": "stdout",
     "output_type": "stream",
     "text": [
      "15.0\n",
      "Number of samples after basic filtering 177\n",
      "Number of samples with 55<=sio2<=70 = 85\n",
      "Number of these samples with 1<=mgo<=4 = 64\n",
      "Number of these samples with 0.05<=rb/sr<=0.25 = 32\n",
      "Final number of samples passed = 32\n",
      "TODO implement min/max elevation cutoffs\n"
     ]
    },
    {
     "name": "stderr",
     "output_type": "stream",
     "text": [
      "grdinfo [WARNING]: Guessing of registration in conflict between x and y, using gridline\n",
      "grdtrack [WARNING]: Some input points were outside the grid domain(s).\n"
     ]
    },
    {
     "name": "stdout",
     "output_type": "stream",
     "text": [
      "Number of samples after basic filtering 130\n",
      "Number of samples with 55<=sio2<=70 = 54\n",
      "Number of these samples with 1<=mgo<=4 = 43\n",
      "Number of these samples with 0.05<=rb/sr<=0.25 = 17\n",
      "Final number of samples passed = 17\n",
      "TODO implement min/max elevation cutoffs\n"
     ]
    },
    {
     "name": "stderr",
     "output_type": "stream",
     "text": [
      "grdinfo [WARNING]: Guessing of registration in conflict between x and y, using gridline\n",
      "grdtrack [WARNING]: Some input points were outside the grid domain(s).\n"
     ]
    },
    {
     "name": "stdout",
     "output_type": "stream",
     "text": [
      "20.0\n",
      "Number of samples after basic filtering 130\n",
      "Number of samples with 55<=sio2<=70 = 54\n",
      "Number of these samples with 1<=mgo<=4 = 43\n",
      "Number of these samples with 0.05<=rb/sr<=0.25 = 17\n",
      "Final number of samples passed = 17\n",
      "TODO implement min/max elevation cutoffs\n"
     ]
    },
    {
     "name": "stderr",
     "output_type": "stream",
     "text": [
      "grdinfo [WARNING]: Guessing of registration in conflict between x and y, using gridline\n",
      "grdtrack [WARNING]: Some input points were outside the grid domain(s).\n"
     ]
    },
    {
     "name": "stdout",
     "output_type": "stream",
     "text": [
      "Number of samples after basic filtering 93\n",
      "Number of samples with 55<=sio2<=70 = 21\n",
      "Number of these samples with 1<=mgo<=4 = 13\n",
      "Number of these samples with 0.05<=rb/sr<=0.25 = 8\n",
      "Final number of samples passed = 8\n",
      "TODO implement min/max elevation cutoffs\n"
     ]
    },
    {
     "name": "stderr",
     "output_type": "stream",
     "text": [
      "grdinfo [WARNING]: Guessing of registration in conflict between x and y, using gridline\n",
      "grdtrack [WARNING]: Some input points were outside the grid domain(s).\n"
     ]
    },
    {
     "name": "stdout",
     "output_type": "stream",
     "text": [
      "25.0\n",
      "Number of samples after basic filtering 93\n",
      "Number of samples with 55<=sio2<=70 = 21\n",
      "Number of these samples with 1<=mgo<=4 = 13\n",
      "Number of these samples with 0.05<=rb/sr<=0.25 = 8\n",
      "Final number of samples passed = 8\n",
      "TODO implement min/max elevation cutoffs\n"
     ]
    },
    {
     "name": "stderr",
     "output_type": "stream",
     "text": [
      "grdinfo [WARNING]: Guessing of registration in conflict between x and y, using gridline\n",
      "grdtrack [WARNING]: Some input points were outside the grid domain(s).\n"
     ]
    },
    {
     "name": "stdout",
     "output_type": "stream",
     "text": [
      "Number of samples after basic filtering 121\n",
      "Number of samples with 55<=sio2<=70 = 28\n",
      "Number of these samples with 1<=mgo<=4 = 18\n",
      "Number of these samples with 0.05<=rb/sr<=0.25 = 18\n",
      "Final number of samples passed = 18\n",
      "TODO implement min/max elevation cutoffs\n"
     ]
    },
    {
     "name": "stderr",
     "output_type": "stream",
     "text": [
      "grdinfo [WARNING]: Guessing of registration in conflict between x and y, using gridline\n",
      "grdtrack [WARNING]: Some input points were outside the grid domain(s).\n"
     ]
    },
    {
     "name": "stdout",
     "output_type": "stream",
     "text": [
      "30.0\n",
      "Number of samples after basic filtering 121\n",
      "Number of samples with 55<=sio2<=70 = 28\n",
      "Number of these samples with 1<=mgo<=4 = 18\n",
      "Number of these samples with 0.05<=rb/sr<=0.25 = 18\n",
      "Final number of samples passed = 18\n",
      "TODO implement min/max elevation cutoffs\n"
     ]
    },
    {
     "name": "stderr",
     "output_type": "stream",
     "text": [
      "grdinfo [WARNING]: Guessing of registration in conflict between x and y, using gridline\n",
      "grdtrack [WARNING]: Some input points were outside the grid domain(s).\n"
     ]
    },
    {
     "name": "stdout",
     "output_type": "stream",
     "text": [
      "Number of samples after basic filtering 302\n",
      "Number of samples with 55<=sio2<=70 = 83\n",
      "Number of these samples with 1<=mgo<=4 = 53\n",
      "Number of these samples with 0.05<=rb/sr<=0.25 = 17\n",
      "Final number of samples passed = 17\n",
      "TODO implement min/max elevation cutoffs\n"
     ]
    },
    {
     "name": "stderr",
     "output_type": "stream",
     "text": [
      "grdinfo [WARNING]: Guessing of registration in conflict between x and y, using gridline\n",
      "grdtrack [WARNING]: Some input points were outside the grid domain(s).\n"
     ]
    },
    {
     "name": "stdout",
     "output_type": "stream",
     "text": [
      "35.0\n",
      "Number of samples after basic filtering 302\n",
      "Number of samples with 55<=sio2<=70 = 83\n",
      "Number of these samples with 1<=mgo<=4 = 53\n",
      "Number of these samples with 0.05<=rb/sr<=0.25 = 17\n",
      "Final number of samples passed = 17\n",
      "TODO implement min/max elevation cutoffs\n"
     ]
    },
    {
     "name": "stderr",
     "output_type": "stream",
     "text": [
      "grdinfo [WARNING]: Guessing of registration in conflict between x and y, using gridline\n",
      "grdtrack [WARNING]: Some input points were outside the grid domain(s).\n"
     ]
    },
    {
     "name": "stdout",
     "output_type": "stream",
     "text": [
      "Number of samples after basic filtering 49\n",
      "Number of samples with 55<=sio2<=70 = 28\n",
      "Number of these samples with 1<=mgo<=4 = 27\n",
      "Number of these samples with 0.05<=rb/sr<=0.25 = 13\n",
      "Final number of samples passed = 13\n",
      "TODO implement min/max elevation cutoffs\n"
     ]
    },
    {
     "name": "stderr",
     "output_type": "stream",
     "text": [
      "grdinfo [WARNING]: Guessing of registration in conflict between x and y, using gridline\n",
      "grdtrack [WARNING]: Some input points were outside the grid domain(s).\n"
     ]
    },
    {
     "name": "stdout",
     "output_type": "stream",
     "text": [
      "40.0\n",
      "Number of samples after basic filtering 49\n",
      "Number of samples with 55<=sio2<=70 = 28\n",
      "Number of these samples with 1<=mgo<=4 = 27\n",
      "Number of these samples with 0.05<=rb/sr<=0.25 = 13\n",
      "Final number of samples passed = 13\n",
      "TODO implement min/max elevation cutoffs\n"
     ]
    },
    {
     "name": "stderr",
     "output_type": "stream",
     "text": [
      "grdinfo [WARNING]: Guessing of registration in conflict between x and y, using gridline\n",
      "grdtrack [WARNING]: Some input points were outside the grid domain(s).\n"
     ]
    },
    {
     "name": "stdout",
     "output_type": "stream",
     "text": [
      "Number of samples after basic filtering 123\n",
      "Number of samples with 55<=sio2<=70 = 59\n",
      "Number of these samples with 1<=mgo<=4 = 47\n",
      "Number of these samples with 0.05<=rb/sr<=0.25 = 20\n",
      "Final number of samples passed = 20\n",
      "TODO implement min/max elevation cutoffs\n"
     ]
    },
    {
     "name": "stderr",
     "output_type": "stream",
     "text": [
      "grdinfo [WARNING]: Guessing of registration in conflict between x and y, using gridline\n",
      "grdtrack [WARNING]: Some input points were outside the grid domain(s).\n"
     ]
    },
    {
     "name": "stdout",
     "output_type": "stream",
     "text": [
      "45.0\n",
      "Number of samples after basic filtering 123\n",
      "Number of samples with 55<=sio2<=70 = 59\n",
      "Number of these samples with 1<=mgo<=4 = 47\n",
      "Number of these samples with 0.05<=rb/sr<=0.25 = 20\n",
      "Final number of samples passed = 20\n",
      "TODO implement min/max elevation cutoffs\n"
     ]
    },
    {
     "name": "stderr",
     "output_type": "stream",
     "text": [
      "grdinfo [WARNING]: Guessing of registration in conflict between x and y, using gridline\n",
      "grdtrack [WARNING]: Some input points were outside the grid domain(s).\n"
     ]
    },
    {
     "name": "stdout",
     "output_type": "stream",
     "text": [
      "Number of samples after basic filtering 51\n",
      "Number of samples with 55<=sio2<=70 = 16\n",
      "Number of these samples with 1<=mgo<=4 = 12\n",
      "Number of these samples with 0.05<=rb/sr<=0.25 = 5\n",
      "Final number of samples passed = 5\n",
      "TODO implement min/max elevation cutoffs\n"
     ]
    },
    {
     "name": "stderr",
     "output_type": "stream",
     "text": [
      "grdinfo [WARNING]: Guessing of registration in conflict between x and y, using gridline\n"
     ]
    },
    {
     "name": "stdout",
     "output_type": "stream",
     "text": [
      "50.0\n",
      "Number of samples after basic filtering 51\n",
      "Number of samples with 55<=sio2<=70 = 16\n",
      "Number of these samples with 1<=mgo<=4 = 12\n",
      "Number of these samples with 0.05<=rb/sr<=0.25 = 5\n",
      "Final number of samples passed = 5\n",
      "TODO implement min/max elevation cutoffs\n"
     ]
    },
    {
     "name": "stderr",
     "output_type": "stream",
     "text": [
      "grdinfo [WARNING]: Guessing of registration in conflict between x and y, using gridline\n"
     ]
    },
    {
     "name": "stdout",
     "output_type": "stream",
     "text": [
      "Number of samples after basic filtering 126\n",
      "Number of samples with 55<=sio2<=70 = 109\n",
      "Number of these samples with 1<=mgo<=4 = 101\n",
      "Number of these samples with 0.05<=rb/sr<=0.25 = 86\n",
      "Final number of samples passed = 86\n",
      "TODO implement min/max elevation cutoffs\n"
     ]
    },
    {
     "name": "stderr",
     "output_type": "stream",
     "text": [
      "grdinfo [WARNING]: Guessing of registration in conflict between x and y, using gridline\n"
     ]
    },
    {
     "name": "stdout",
     "output_type": "stream",
     "text": [
      "55.0\n",
      "Number of samples after basic filtering 126\n",
      "Number of samples with 55<=sio2<=70 = 109\n",
      "Number of these samples with 1<=mgo<=4 = 101\n",
      "Number of these samples with 0.05<=rb/sr<=0.25 = 86\n",
      "Final number of samples passed = 86\n",
      "TODO implement min/max elevation cutoffs\n"
     ]
    },
    {
     "name": "stderr",
     "output_type": "stream",
     "text": [
      "grdinfo [WARNING]: Guessing of registration in conflict between x and y, using gridline\n"
     ]
    },
    {
     "name": "stdout",
     "output_type": "stream",
     "text": [
      "Number of samples after basic filtering 24\n",
      "Number of samples with 55<=sio2<=70 = 16\n",
      "Number of these samples with 1<=mgo<=4 = 16\n",
      "Number of these samples with 0.05<=rb/sr<=0.25 = 12\n",
      "Final number of samples passed = 12\n",
      "TODO implement min/max elevation cutoffs\n"
     ]
    },
    {
     "name": "stderr",
     "output_type": "stream",
     "text": [
      "grdinfo [WARNING]: Guessing of registration in conflict between x and y, using gridline\n",
      "grdtrack [WARNING]: Some input points were outside the grid domain(s).\n"
     ]
    },
    {
     "name": "stdout",
     "output_type": "stream",
     "text": [
      "60.0\n",
      "Number of samples after basic filtering 24\n",
      "Number of samples with 55<=sio2<=70 = 16\n",
      "Number of these samples with 1<=mgo<=4 = 16\n",
      "Number of these samples with 0.05<=rb/sr<=0.25 = 12\n",
      "Final number of samples passed = 12\n",
      "TODO implement min/max elevation cutoffs\n"
     ]
    },
    {
     "name": "stderr",
     "output_type": "stream",
     "text": [
      "grdinfo [WARNING]: Guessing of registration in conflict between x and y, using gridline\n",
      "grdtrack [WARNING]: Some input points were outside the grid domain(s).\n"
     ]
    },
    {
     "name": "stdout",
     "output_type": "stream",
     "text": [
      "Number of samples after basic filtering 64\n",
      "Number of samples with 55<=sio2<=70 = 55\n",
      "Number of these samples with 1<=mgo<=4 = 52\n",
      "Number of these samples with 0.05<=rb/sr<=0.25 = 14\n",
      "Final number of samples passed = 14\n",
      "TODO implement min/max elevation cutoffs\n"
     ]
    },
    {
     "name": "stderr",
     "output_type": "stream",
     "text": [
      "grdinfo [WARNING]: Guessing of registration in conflict between x and y, using gridline\n",
      "grdtrack [WARNING]: Some input points were outside the grid domain(s).\n"
     ]
    },
    {
     "name": "stdout",
     "output_type": "stream",
     "text": [
      "65.0\n",
      "Number of samples after basic filtering 64\n",
      "Number of samples with 55<=sio2<=70 = 55\n",
      "Number of these samples with 1<=mgo<=4 = 52\n",
      "Number of these samples with 0.05<=rb/sr<=0.25 = 14\n",
      "Final number of samples passed = 14\n",
      "TODO implement min/max elevation cutoffs\n"
     ]
    },
    {
     "name": "stderr",
     "output_type": "stream",
     "text": [
      "grdinfo [WARNING]: Guessing of registration in conflict between x and y, using gridline\n",
      "grdtrack [WARNING]: Some input points were outside the grid domain(s).\n"
     ]
    },
    {
     "name": "stdout",
     "output_type": "stream",
     "text": [
      "Number of samples after basic filtering 20\n",
      "Number of samples with 55<=sio2<=70 = 15\n",
      "Number of these samples with 1<=mgo<=4 = 12\n",
      "Number of these samples with 0.05<=rb/sr<=0.25 = 1\n",
      "Final number of samples passed = 1\n",
      "TODO implement min/max elevation cutoffs\n"
     ]
    },
    {
     "name": "stderr",
     "output_type": "stream",
     "text": [
      "grdinfo [WARNING]: Guessing of registration in conflict between x and y, using gridline\n",
      "grdtrack [WARNING]: Some input points were outside the grid domain(s).\n"
     ]
    },
    {
     "name": "stdout",
     "output_type": "stream",
     "text": [
      "70.0\n",
      "Number of samples after basic filtering 20\n",
      "Number of samples with 55<=sio2<=70 = 15\n",
      "Number of these samples with 1<=mgo<=4 = 12\n",
      "Number of these samples with 0.05<=rb/sr<=0.25 = 1\n",
      "Final number of samples passed = 1\n",
      "TODO implement min/max elevation cutoffs\n"
     ]
    },
    {
     "name": "stderr",
     "output_type": "stream",
     "text": [
      "grdinfo [WARNING]: Guessing of registration in conflict between x and y, using gridline\n",
      "grdtrack [WARNING]: Some input points were outside the grid domain(s).\n"
     ]
    },
    {
     "name": "stdout",
     "output_type": "stream",
     "text": [
      "Number of samples after basic filtering 64\n",
      "Number of samples with 55<=sio2<=70 = 37\n",
      "Number of these samples with 1<=mgo<=4 = 32\n",
      "Number of these samples with 0.05<=rb/sr<=0.25 = 16\n",
      "Final number of samples passed = 16\n",
      "TODO implement min/max elevation cutoffs\n"
     ]
    },
    {
     "name": "stderr",
     "output_type": "stream",
     "text": [
      "grdinfo [WARNING]: Guessing of registration in conflict between x and y, using gridline\n",
      "grdtrack [WARNING]: Some input points were outside the grid domain(s).\n"
     ]
    },
    {
     "name": "stdout",
     "output_type": "stream",
     "text": [
      "75.0\n",
      "Number of samples after basic filtering 64\n",
      "Number of samples with 55<=sio2<=70 = 37\n",
      "Number of these samples with 1<=mgo<=4 = 32\n",
      "Number of these samples with 0.05<=rb/sr<=0.25 = 16\n",
      "Final number of samples passed = 16\n",
      "TODO implement min/max elevation cutoffs\n"
     ]
    },
    {
     "name": "stderr",
     "output_type": "stream",
     "text": [
      "grdinfo [WARNING]: Guessing of registration in conflict between x and y, using gridline\n",
      "grdtrack [WARNING]: Some input points were outside the grid domain(s).\n"
     ]
    },
    {
     "name": "stdout",
     "output_type": "stream",
     "text": [
      "Number of samples after basic filtering 67\n",
      "Number of samples with 55<=sio2<=70 = 28\n",
      "Number of these samples with 1<=mgo<=4 = 20\n",
      "Number of these samples with 0.05<=rb/sr<=0.25 = 8\n",
      "Final number of samples passed = 8\n",
      "TODO implement min/max elevation cutoffs\n"
     ]
    },
    {
     "name": "stderr",
     "output_type": "stream",
     "text": [
      "grdinfo [WARNING]: Guessing of registration in conflict between x and y, using gridline\n",
      "grdtrack [WARNING]: Some input points were outside the grid domain(s).\n"
     ]
    },
    {
     "name": "stdout",
     "output_type": "stream",
     "text": [
      "80.0\n",
      "Number of samples after basic filtering 67\n",
      "Number of samples with 55<=sio2<=70 = 28\n",
      "Number of these samples with 1<=mgo<=4 = 20\n",
      "Number of these samples with 0.05<=rb/sr<=0.25 = 8\n",
      "Final number of samples passed = 8\n",
      "TODO implement min/max elevation cutoffs\n"
     ]
    },
    {
     "name": "stderr",
     "output_type": "stream",
     "text": [
      "grdinfo [WARNING]: Guessing of registration in conflict between x and y, using gridline\n",
      "grdtrack [WARNING]: Some input points were outside the grid domain(s).\n"
     ]
    },
    {
     "name": "stdout",
     "output_type": "stream",
     "text": [
      "Number of samples after basic filtering 19309\n",
      "Number of samples with 55<=sio2<=70 = 9029\n",
      "Number of these samples with 1<=mgo<=4 = 6905\n",
      "Number of these samples with 0.05<=rb/sr<=0.25 = 3816\n",
      "Final number of samples passed = 3816\n",
      "TODO implement min/max elevation cutoffs\n"
     ]
    },
    {
     "name": "stderr",
     "output_type": "stream",
     "text": [
      "grdinfo [WARNING]: Guessing of registration in conflict between x and y, using gridline\n",
      "grdtrack [WARNING]: Some input points were outside the grid domain(s).\n"
     ]
    },
    {
     "name": "stdout",
     "output_type": "stream",
     "text": [
      "0.0\n",
      "Number of samples after basic filtering 19309\n",
      "Number of samples with 55<=sio2<=70 = 9029\n",
      "Number of these samples with 1<=mgo<=4 = 6905\n",
      "Number of these samples with 0.05<=rb/sr<=0.25 = 3816\n",
      "Final number of samples passed = 3816\n",
      "TODO implement min/max elevation cutoffs\n"
     ]
    },
    {
     "name": "stderr",
     "output_type": "stream",
     "text": [
      "grdinfo [WARNING]: Guessing of registration in conflict between x and y, using gridline\n",
      "grdtrack [WARNING]: Some input points were outside the grid domain(s).\n"
     ]
    },
    {
     "name": "stdout",
     "output_type": "stream",
     "text": [
      "Number of samples after basic filtering 444\n",
      "Number of samples with 55<=sio2<=70 = 240\n",
      "Number of these samples with 1<=mgo<=4 = 200\n",
      "Number of these samples with 0.05<=rb/sr<=0.25 = 144\n",
      "Final number of samples passed = 144\n",
      "TODO implement min/max elevation cutoffs\n"
     ]
    },
    {
     "name": "stderr",
     "output_type": "stream",
     "text": [
      "grdinfo [WARNING]: Guessing of registration in conflict between x and y, using gridline\n",
      "grdtrack [WARNING]: Some input points were outside the grid domain(s).\n"
     ]
    },
    {
     "name": "stdout",
     "output_type": "stream",
     "text": [
      "5.0\n",
      "Number of samples after basic filtering 444\n",
      "Number of samples with 55<=sio2<=70 = 240\n",
      "Number of these samples with 1<=mgo<=4 = 200\n",
      "Number of these samples with 0.05<=rb/sr<=0.25 = 144\n",
      "Final number of samples passed = 144\n",
      "TODO implement min/max elevation cutoffs\n"
     ]
    },
    {
     "name": "stderr",
     "output_type": "stream",
     "text": [
      "grdinfo [WARNING]: Guessing of registration in conflict between x and y, using gridline\n",
      "grdtrack [WARNING]: Some input points were outside the grid domain(s).\n"
     ]
    },
    {
     "name": "stdout",
     "output_type": "stream",
     "text": [
      "Number of samples after basic filtering 283\n",
      "Number of samples with 55<=sio2<=70 = 155\n",
      "Number of these samples with 1<=mgo<=4 = 135\n",
      "Number of these samples with 0.05<=rb/sr<=0.25 = 57\n",
      "Final number of samples passed = 57\n",
      "TODO implement min/max elevation cutoffs\n"
     ]
    },
    {
     "name": "stderr",
     "output_type": "stream",
     "text": [
      "grdinfo [WARNING]: Guessing of registration in conflict between x and y, using gridline\n",
      "grdtrack [WARNING]: Some input points were outside the grid domain(s).\n"
     ]
    },
    {
     "name": "stdout",
     "output_type": "stream",
     "text": [
      "10.0\n",
      "Number of samples after basic filtering 283\n",
      "Number of samples with 55<=sio2<=70 = 155\n",
      "Number of these samples with 1<=mgo<=4 = 135\n",
      "Number of these samples with 0.05<=rb/sr<=0.25 = 57\n",
      "Final number of samples passed = 57\n",
      "TODO implement min/max elevation cutoffs\n"
     ]
    },
    {
     "name": "stderr",
     "output_type": "stream",
     "text": [
      "grdinfo [WARNING]: Guessing of registration in conflict between x and y, using gridline\n",
      "grdtrack [WARNING]: Some input points were outside the grid domain(s).\n"
     ]
    },
    {
     "name": "stdout",
     "output_type": "stream",
     "text": [
      "Number of samples after basic filtering 177\n",
      "Number of samples with 55<=sio2<=70 = 85\n",
      "Number of these samples with 1<=mgo<=4 = 64\n",
      "Number of these samples with 0.05<=rb/sr<=0.25 = 32\n",
      "Final number of samples passed = 32\n",
      "TODO implement min/max elevation cutoffs\n"
     ]
    },
    {
     "name": "stderr",
     "output_type": "stream",
     "text": [
      "grdinfo [WARNING]: Guessing of registration in conflict between x and y, using gridline\n",
      "grdtrack [WARNING]: Some input points were outside the grid domain(s).\n"
     ]
    },
    {
     "name": "stdout",
     "output_type": "stream",
     "text": [
      "15.0\n",
      "Number of samples after basic filtering 177\n",
      "Number of samples with 55<=sio2<=70 = 85\n",
      "Number of these samples with 1<=mgo<=4 = 64\n",
      "Number of these samples with 0.05<=rb/sr<=0.25 = 32\n",
      "Final number of samples passed = 32\n",
      "TODO implement min/max elevation cutoffs\n"
     ]
    },
    {
     "name": "stderr",
     "output_type": "stream",
     "text": [
      "grdinfo [WARNING]: Guessing of registration in conflict between x and y, using gridline\n",
      "grdtrack [WARNING]: Some input points were outside the grid domain(s).\n"
     ]
    },
    {
     "name": "stdout",
     "output_type": "stream",
     "text": [
      "Number of samples after basic filtering 130\n",
      "Number of samples with 55<=sio2<=70 = 54\n",
      "Number of these samples with 1<=mgo<=4 = 43\n",
      "Number of these samples with 0.05<=rb/sr<=0.25 = 17\n",
      "Final number of samples passed = 17\n",
      "TODO implement min/max elevation cutoffs\n"
     ]
    },
    {
     "name": "stderr",
     "output_type": "stream",
     "text": [
      "grdinfo [WARNING]: Guessing of registration in conflict between x and y, using gridline\n",
      "grdtrack [WARNING]: Some input points were outside the grid domain(s).\n"
     ]
    },
    {
     "name": "stdout",
     "output_type": "stream",
     "text": [
      "20.0\n",
      "Number of samples after basic filtering 130\n",
      "Number of samples with 55<=sio2<=70 = 54\n",
      "Number of these samples with 1<=mgo<=4 = 43\n",
      "Number of these samples with 0.05<=rb/sr<=0.25 = 17\n",
      "Final number of samples passed = 17\n",
      "TODO implement min/max elevation cutoffs\n"
     ]
    },
    {
     "name": "stderr",
     "output_type": "stream",
     "text": [
      "grdinfo [WARNING]: Guessing of registration in conflict between x and y, using gridline\n",
      "grdtrack [WARNING]: Some input points were outside the grid domain(s).\n"
     ]
    },
    {
     "name": "stdout",
     "output_type": "stream",
     "text": [
      "Number of samples after basic filtering 93\n",
      "Number of samples with 55<=sio2<=70 = 21\n",
      "Number of these samples with 1<=mgo<=4 = 13\n",
      "Number of these samples with 0.05<=rb/sr<=0.25 = 8\n",
      "Final number of samples passed = 8\n",
      "TODO implement min/max elevation cutoffs\n"
     ]
    },
    {
     "name": "stderr",
     "output_type": "stream",
     "text": [
      "grdinfo [WARNING]: Guessing of registration in conflict between x and y, using gridline\n",
      "grdtrack [WARNING]: Some input points were outside the grid domain(s).\n"
     ]
    },
    {
     "name": "stdout",
     "output_type": "stream",
     "text": [
      "25.0\n",
      "Number of samples after basic filtering 93\n",
      "Number of samples with 55<=sio2<=70 = 21\n",
      "Number of these samples with 1<=mgo<=4 = 13\n",
      "Number of these samples with 0.05<=rb/sr<=0.25 = 8\n",
      "Final number of samples passed = 8\n",
      "TODO implement min/max elevation cutoffs\n"
     ]
    },
    {
     "name": "stderr",
     "output_type": "stream",
     "text": [
      "grdinfo [WARNING]: Guessing of registration in conflict between x and y, using gridline\n",
      "grdtrack [WARNING]: Some input points were outside the grid domain(s).\n"
     ]
    },
    {
     "name": "stdout",
     "output_type": "stream",
     "text": [
      "Number of samples after basic filtering 121\n",
      "Number of samples with 55<=sio2<=70 = 28\n",
      "Number of these samples with 1<=mgo<=4 = 18\n",
      "Number of these samples with 0.05<=rb/sr<=0.25 = 18\n",
      "Final number of samples passed = 18\n",
      "TODO implement min/max elevation cutoffs\n"
     ]
    },
    {
     "name": "stderr",
     "output_type": "stream",
     "text": [
      "grdinfo [WARNING]: Guessing of registration in conflict between x and y, using gridline\n",
      "grdtrack [WARNING]: Some input points were outside the grid domain(s).\n"
     ]
    },
    {
     "name": "stdout",
     "output_type": "stream",
     "text": [
      "30.0\n",
      "Number of samples after basic filtering 121\n",
      "Number of samples with 55<=sio2<=70 = 28\n",
      "Number of these samples with 1<=mgo<=4 = 18\n",
      "Number of these samples with 0.05<=rb/sr<=0.25 = 18\n",
      "Final number of samples passed = 18\n",
      "TODO implement min/max elevation cutoffs\n"
     ]
    },
    {
     "name": "stderr",
     "output_type": "stream",
     "text": [
      "grdinfo [WARNING]: Guessing of registration in conflict between x and y, using gridline\n",
      "grdtrack [WARNING]: Some input points were outside the grid domain(s).\n"
     ]
    },
    {
     "name": "stdout",
     "output_type": "stream",
     "text": [
      "Number of samples after basic filtering 302\n",
      "Number of samples with 55<=sio2<=70 = 83\n",
      "Number of these samples with 1<=mgo<=4 = 53\n",
      "Number of these samples with 0.05<=rb/sr<=0.25 = 17\n",
      "Final number of samples passed = 17\n",
      "TODO implement min/max elevation cutoffs\n"
     ]
    },
    {
     "name": "stderr",
     "output_type": "stream",
     "text": [
      "grdinfo [WARNING]: Guessing of registration in conflict between x and y, using gridline\n",
      "grdtrack [WARNING]: Some input points were outside the grid domain(s).\n"
     ]
    },
    {
     "name": "stdout",
     "output_type": "stream",
     "text": [
      "35.0\n",
      "Number of samples after basic filtering 302\n",
      "Number of samples with 55<=sio2<=70 = 83\n",
      "Number of these samples with 1<=mgo<=4 = 53\n",
      "Number of these samples with 0.05<=rb/sr<=0.25 = 17\n",
      "Final number of samples passed = 17\n",
      "TODO implement min/max elevation cutoffs\n"
     ]
    },
    {
     "name": "stderr",
     "output_type": "stream",
     "text": [
      "grdinfo [WARNING]: Guessing of registration in conflict between x and y, using gridline\n",
      "grdtrack [WARNING]: Some input points were outside the grid domain(s).\n"
     ]
    },
    {
     "name": "stdout",
     "output_type": "stream",
     "text": [
      "Number of samples after basic filtering 49\n",
      "Number of samples with 55<=sio2<=70 = 28\n",
      "Number of these samples with 1<=mgo<=4 = 27\n",
      "Number of these samples with 0.05<=rb/sr<=0.25 = 13\n",
      "Final number of samples passed = 13\n",
      "TODO implement min/max elevation cutoffs\n"
     ]
    },
    {
     "name": "stderr",
     "output_type": "stream",
     "text": [
      "grdinfo [WARNING]: Guessing of registration in conflict between x and y, using gridline\n",
      "grdtrack [WARNING]: Some input points were outside the grid domain(s).\n"
     ]
    },
    {
     "name": "stdout",
     "output_type": "stream",
     "text": [
      "40.0\n",
      "Number of samples after basic filtering 49\n",
      "Number of samples with 55<=sio2<=70 = 28\n",
      "Number of these samples with 1<=mgo<=4 = 27\n",
      "Number of these samples with 0.05<=rb/sr<=0.25 = 13\n",
      "Final number of samples passed = 13\n",
      "TODO implement min/max elevation cutoffs\n"
     ]
    },
    {
     "name": "stderr",
     "output_type": "stream",
     "text": [
      "grdinfo [WARNING]: Guessing of registration in conflict between x and y, using gridline\n",
      "grdtrack [WARNING]: Some input points were outside the grid domain(s).\n"
     ]
    },
    {
     "name": "stdout",
     "output_type": "stream",
     "text": [
      "Number of samples after basic filtering 123\n",
      "Number of samples with 55<=sio2<=70 = 59\n",
      "Number of these samples with 1<=mgo<=4 = 47\n",
      "Number of these samples with 0.05<=rb/sr<=0.25 = 20\n",
      "Final number of samples passed = 20\n",
      "TODO implement min/max elevation cutoffs\n"
     ]
    },
    {
     "name": "stderr",
     "output_type": "stream",
     "text": [
      "grdinfo [WARNING]: Guessing of registration in conflict between x and y, using gridline\n",
      "grdtrack [WARNING]: Some input points were outside the grid domain(s).\n"
     ]
    },
    {
     "name": "stdout",
     "output_type": "stream",
     "text": [
      "45.0\n",
      "Number of samples after basic filtering 123\n",
      "Number of samples with 55<=sio2<=70 = 59\n",
      "Number of these samples with 1<=mgo<=4 = 47\n",
      "Number of these samples with 0.05<=rb/sr<=0.25 = 20\n",
      "Final number of samples passed = 20\n",
      "TODO implement min/max elevation cutoffs\n"
     ]
    },
    {
     "name": "stderr",
     "output_type": "stream",
     "text": [
      "grdinfo [WARNING]: Guessing of registration in conflict between x and y, using gridline\n",
      "grdtrack [WARNING]: Some input points were outside the grid domain(s).\n"
     ]
    },
    {
     "name": "stdout",
     "output_type": "stream",
     "text": [
      "Number of samples after basic filtering 51\n",
      "Number of samples with 55<=sio2<=70 = 16\n",
      "Number of these samples with 1<=mgo<=4 = 12\n",
      "Number of these samples with 0.05<=rb/sr<=0.25 = 5\n",
      "Final number of samples passed = 5\n",
      "TODO implement min/max elevation cutoffs\n"
     ]
    },
    {
     "name": "stderr",
     "output_type": "stream",
     "text": [
      "grdinfo [WARNING]: Guessing of registration in conflict between x and y, using gridline\n"
     ]
    },
    {
     "name": "stdout",
     "output_type": "stream",
     "text": [
      "50.0\n",
      "Number of samples after basic filtering 51\n",
      "Number of samples with 55<=sio2<=70 = 16\n",
      "Number of these samples with 1<=mgo<=4 = 12\n",
      "Number of these samples with 0.05<=rb/sr<=0.25 = 5\n",
      "Final number of samples passed = 5\n",
      "TODO implement min/max elevation cutoffs\n"
     ]
    },
    {
     "name": "stderr",
     "output_type": "stream",
     "text": [
      "grdinfo [WARNING]: Guessing of registration in conflict between x and y, using gridline\n"
     ]
    },
    {
     "name": "stdout",
     "output_type": "stream",
     "text": [
      "Number of samples after basic filtering 126\n",
      "Number of samples with 55<=sio2<=70 = 109\n",
      "Number of these samples with 1<=mgo<=4 = 101\n",
      "Number of these samples with 0.05<=rb/sr<=0.25 = 86\n",
      "Final number of samples passed = 86\n",
      "TODO implement min/max elevation cutoffs\n"
     ]
    },
    {
     "name": "stderr",
     "output_type": "stream",
     "text": [
      "grdinfo [WARNING]: Guessing of registration in conflict between x and y, using gridline\n"
     ]
    },
    {
     "name": "stdout",
     "output_type": "stream",
     "text": [
      "55.0\n",
      "Number of samples after basic filtering 126\n",
      "Number of samples with 55<=sio2<=70 = 109\n",
      "Number of these samples with 1<=mgo<=4 = 101\n",
      "Number of these samples with 0.05<=rb/sr<=0.25 = 86\n",
      "Final number of samples passed = 86\n",
      "TODO implement min/max elevation cutoffs\n"
     ]
    },
    {
     "name": "stderr",
     "output_type": "stream",
     "text": [
      "grdinfo [WARNING]: Guessing of registration in conflict between x and y, using gridline\n"
     ]
    },
    {
     "name": "stdout",
     "output_type": "stream",
     "text": [
      "Number of samples after basic filtering 24\n",
      "Number of samples with 55<=sio2<=70 = 16\n",
      "Number of these samples with 1<=mgo<=4 = 16\n",
      "Number of these samples with 0.05<=rb/sr<=0.25 = 12\n",
      "Final number of samples passed = 12\n",
      "TODO implement min/max elevation cutoffs\n"
     ]
    },
    {
     "name": "stderr",
     "output_type": "stream",
     "text": [
      "grdinfo [WARNING]: Guessing of registration in conflict between x and y, using gridline\n",
      "grdtrack [WARNING]: Some input points were outside the grid domain(s).\n"
     ]
    },
    {
     "name": "stdout",
     "output_type": "stream",
     "text": [
      "60.0\n",
      "Number of samples after basic filtering 24\n",
      "Number of samples with 55<=sio2<=70 = 16\n",
      "Number of these samples with 1<=mgo<=4 = 16\n",
      "Number of these samples with 0.05<=rb/sr<=0.25 = 12\n",
      "Final number of samples passed = 12\n",
      "TODO implement min/max elevation cutoffs\n"
     ]
    },
    {
     "name": "stderr",
     "output_type": "stream",
     "text": [
      "grdinfo [WARNING]: Guessing of registration in conflict between x and y, using gridline\n",
      "grdtrack [WARNING]: Some input points were outside the grid domain(s).\n"
     ]
    },
    {
     "name": "stdout",
     "output_type": "stream",
     "text": [
      "Number of samples after basic filtering 64\n",
      "Number of samples with 55<=sio2<=70 = 55\n",
      "Number of these samples with 1<=mgo<=4 = 52\n",
      "Number of these samples with 0.05<=rb/sr<=0.25 = 14\n",
      "Final number of samples passed = 14\n",
      "TODO implement min/max elevation cutoffs\n"
     ]
    },
    {
     "name": "stderr",
     "output_type": "stream",
     "text": [
      "grdinfo [WARNING]: Guessing of registration in conflict between x and y, using gridline\n",
      "grdtrack [WARNING]: Some input points were outside the grid domain(s).\n"
     ]
    },
    {
     "name": "stdout",
     "output_type": "stream",
     "text": [
      "65.0\n",
      "Number of samples after basic filtering 64\n",
      "Number of samples with 55<=sio2<=70 = 55\n",
      "Number of these samples with 1<=mgo<=4 = 52\n",
      "Number of these samples with 0.05<=rb/sr<=0.25 = 14\n",
      "Final number of samples passed = 14\n",
      "TODO implement min/max elevation cutoffs\n"
     ]
    },
    {
     "name": "stderr",
     "output_type": "stream",
     "text": [
      "grdinfo [WARNING]: Guessing of registration in conflict between x and y, using gridline\n",
      "grdtrack [WARNING]: Some input points were outside the grid domain(s).\n"
     ]
    },
    {
     "name": "stdout",
     "output_type": "stream",
     "text": [
      "Number of samples after basic filtering 20\n",
      "Number of samples with 55<=sio2<=70 = 15\n",
      "Number of these samples with 1<=mgo<=4 = 12\n",
      "Number of these samples with 0.05<=rb/sr<=0.25 = 1\n",
      "Final number of samples passed = 1\n",
      "TODO implement min/max elevation cutoffs\n"
     ]
    },
    {
     "name": "stderr",
     "output_type": "stream",
     "text": [
      "grdinfo [WARNING]: Guessing of registration in conflict between x and y, using gridline\n",
      "grdtrack [WARNING]: Some input points were outside the grid domain(s).\n"
     ]
    },
    {
     "name": "stdout",
     "output_type": "stream",
     "text": [
      "70.0\n",
      "Number of samples after basic filtering 20\n",
      "Number of samples with 55<=sio2<=70 = 15\n",
      "Number of these samples with 1<=mgo<=4 = 12\n",
      "Number of these samples with 0.05<=rb/sr<=0.25 = 1\n",
      "Final number of samples passed = 1\n",
      "TODO implement min/max elevation cutoffs\n"
     ]
    },
    {
     "name": "stderr",
     "output_type": "stream",
     "text": [
      "grdinfo [WARNING]: Guessing of registration in conflict between x and y, using gridline\n",
      "grdtrack [WARNING]: Some input points were outside the grid domain(s).\n"
     ]
    },
    {
     "name": "stdout",
     "output_type": "stream",
     "text": [
      "Number of samples after basic filtering 64\n",
      "Number of samples with 55<=sio2<=70 = 37\n",
      "Number of these samples with 1<=mgo<=4 = 32\n",
      "Number of these samples with 0.05<=rb/sr<=0.25 = 16\n",
      "Final number of samples passed = 16\n",
      "TODO implement min/max elevation cutoffs\n"
     ]
    },
    {
     "name": "stderr",
     "output_type": "stream",
     "text": [
      "grdinfo [WARNING]: Guessing of registration in conflict between x and y, using gridline\n",
      "grdtrack [WARNING]: Some input points were outside the grid domain(s).\n"
     ]
    },
    {
     "name": "stdout",
     "output_type": "stream",
     "text": [
      "75.0\n",
      "Number of samples after basic filtering 64\n",
      "Number of samples with 55<=sio2<=70 = 37\n",
      "Number of these samples with 1<=mgo<=4 = 32\n",
      "Number of these samples with 0.05<=rb/sr<=0.25 = 16\n",
      "Final number of samples passed = 16\n",
      "TODO implement min/max elevation cutoffs\n"
     ]
    },
    {
     "name": "stderr",
     "output_type": "stream",
     "text": [
      "grdinfo [WARNING]: Guessing of registration in conflict between x and y, using gridline\n",
      "grdtrack [WARNING]: Some input points were outside the grid domain(s).\n"
     ]
    },
    {
     "name": "stdout",
     "output_type": "stream",
     "text": [
      "Number of samples after basic filtering 67\n",
      "Number of samples with 55<=sio2<=70 = 28\n",
      "Number of these samples with 1<=mgo<=4 = 20\n",
      "Number of these samples with 0.05<=rb/sr<=0.25 = 8\n",
      "Final number of samples passed = 8\n",
      "TODO implement min/max elevation cutoffs\n"
     ]
    },
    {
     "name": "stderr",
     "output_type": "stream",
     "text": [
      "grdinfo [WARNING]: Guessing of registration in conflict between x and y, using gridline\n",
      "grdtrack [WARNING]: Some input points were outside the grid domain(s).\n"
     ]
    },
    {
     "name": "stdout",
     "output_type": "stream",
     "text": [
      "80.0\n",
      "Number of samples after basic filtering 67\n",
      "Number of samples with 55<=sio2<=70 = 28\n",
      "Number of these samples with 1<=mgo<=4 = 20\n",
      "Number of these samples with 0.05<=rb/sr<=0.25 = 8\n",
      "Final number of samples passed = 8\n",
      "TODO implement min/max elevation cutoffs\n"
     ]
    },
    {
     "name": "stderr",
     "output_type": "stream",
     "text": [
      "grdinfo [WARNING]: Guessing of registration in conflict between x and y, using gridline\n",
      "grdtrack [WARNING]: Some input points were outside the grid domain(s).\n"
     ]
    },
    {
     "name": "stdout",
     "output_type": "stream",
     "text": [
      "Number of samples after basic filtering 19309\n",
      "Number of these samples with a valid sio2 = 15265\n",
      "Number of these samples with major element sum > 98%= 9942\n",
      "Final number of samples passed = 9942\n",
      "TODO implement min/max elevation cutoffs\n"
     ]
    },
    {
     "name": "stderr",
     "output_type": "stream",
     "text": [
      "grdinfo [WARNING]: Guessing of registration in conflict between x and y, using gridline\n",
      "grdtrack [WARNING]: Some input points were outside the grid domain(s).\n"
     ]
    },
    {
     "name": "stdout",
     "output_type": "stream",
     "text": [
      "0.0\n",
      "Number of samples after basic filtering 19309\n",
      "Number of these samples with a valid sio2 = 15265\n",
      "Number of these samples with major element sum > 98%= 9942\n",
      "Final number of samples passed = 9942\n",
      "TODO implement min/max elevation cutoffs\n"
     ]
    },
    {
     "name": "stderr",
     "output_type": "stream",
     "text": [
      "grdinfo [WARNING]: Guessing of registration in conflict between x and y, using gridline\n",
      "grdtrack [WARNING]: Some input points were outside the grid domain(s).\n"
     ]
    },
    {
     "name": "stdout",
     "output_type": "stream",
     "text": [
      "Number of samples after basic filtering 444\n",
      "Number of these samples with a valid sio2 = 344\n",
      "Number of these samples with major element sum > 98%= 218\n",
      "Final number of samples passed = 218\n",
      "TODO implement min/max elevation cutoffs\n"
     ]
    },
    {
     "name": "stderr",
     "output_type": "stream",
     "text": [
      "grdinfo [WARNING]: Guessing of registration in conflict between x and y, using gridline\n",
      "grdtrack [WARNING]: Some input points were outside the grid domain(s).\n"
     ]
    },
    {
     "name": "stdout",
     "output_type": "stream",
     "text": [
      "5.0\n",
      "Number of samples after basic filtering 444\n",
      "Number of these samples with a valid sio2 = 344\n",
      "Number of these samples with major element sum > 98%= 218\n",
      "Final number of samples passed = 218\n",
      "TODO implement min/max elevation cutoffs\n"
     ]
    },
    {
     "name": "stderr",
     "output_type": "stream",
     "text": [
      "grdinfo [WARNING]: Guessing of registration in conflict between x and y, using gridline\n",
      "grdtrack [WARNING]: Some input points were outside the grid domain(s).\n"
     ]
    },
    {
     "name": "stdout",
     "output_type": "stream",
     "text": [
      "Number of samples after basic filtering 283\n",
      "Number of these samples with a valid sio2 = 207\n",
      "Number of these samples with major element sum > 98%= 142\n",
      "Final number of samples passed = 142\n",
      "TODO implement min/max elevation cutoffs\n"
     ]
    },
    {
     "name": "stderr",
     "output_type": "stream",
     "text": [
      "grdinfo [WARNING]: Guessing of registration in conflict between x and y, using gridline\n",
      "grdtrack [WARNING]: Some input points were outside the grid domain(s).\n"
     ]
    },
    {
     "name": "stdout",
     "output_type": "stream",
     "text": [
      "10.0\n",
      "Number of samples after basic filtering 283\n",
      "Number of these samples with a valid sio2 = 207\n",
      "Number of these samples with major element sum > 98%= 142\n",
      "Final number of samples passed = 142\n",
      "TODO implement min/max elevation cutoffs\n"
     ]
    },
    {
     "name": "stderr",
     "output_type": "stream",
     "text": [
      "grdinfo [WARNING]: Guessing of registration in conflict between x and y, using gridline\n",
      "grdtrack [WARNING]: Some input points were outside the grid domain(s).\n"
     ]
    },
    {
     "name": "stdout",
     "output_type": "stream",
     "text": [
      "Number of samples after basic filtering 177\n",
      "Number of these samples with a valid sio2 = 106\n",
      "Number of these samples with major element sum > 98%= 38\n",
      "Final number of samples passed = 38\n",
      "TODO implement min/max elevation cutoffs\n"
     ]
    },
    {
     "name": "stderr",
     "output_type": "stream",
     "text": [
      "grdinfo [WARNING]: Guessing of registration in conflict between x and y, using gridline\n",
      "grdtrack [WARNING]: Some input points were outside the grid domain(s).\n"
     ]
    },
    {
     "name": "stdout",
     "output_type": "stream",
     "text": [
      "15.0\n",
      "Number of samples after basic filtering 177\n",
      "Number of these samples with a valid sio2 = 106\n",
      "Number of these samples with major element sum > 98%= 38\n",
      "Final number of samples passed = 38\n",
      "TODO implement min/max elevation cutoffs\n"
     ]
    },
    {
     "name": "stderr",
     "output_type": "stream",
     "text": [
      "grdinfo [WARNING]: Guessing of registration in conflict between x and y, using gridline\n",
      "grdtrack [WARNING]: Some input points were outside the grid domain(s).\n"
     ]
    },
    {
     "name": "stdout",
     "output_type": "stream",
     "text": [
      "Number of samples after basic filtering 130\n",
      "Number of these samples with a valid sio2 = 95\n",
      "Number of these samples with major element sum > 98%= 56\n",
      "Final number of samples passed = 56\n",
      "TODO implement min/max elevation cutoffs\n"
     ]
    },
    {
     "name": "stderr",
     "output_type": "stream",
     "text": [
      "grdinfo [WARNING]: Guessing of registration in conflict between x and y, using gridline\n",
      "grdtrack [WARNING]: Some input points were outside the grid domain(s).\n"
     ]
    },
    {
     "name": "stdout",
     "output_type": "stream",
     "text": [
      "20.0\n",
      "Number of samples after basic filtering 130\n",
      "Number of these samples with a valid sio2 = 95\n",
      "Number of these samples with major element sum > 98%= 56\n",
      "Final number of samples passed = 56\n",
      "TODO implement min/max elevation cutoffs\n"
     ]
    },
    {
     "name": "stderr",
     "output_type": "stream",
     "text": [
      "grdinfo [WARNING]: Guessing of registration in conflict between x and y, using gridline\n",
      "grdtrack [WARNING]: Some input points were outside the grid domain(s).\n"
     ]
    },
    {
     "name": "stdout",
     "output_type": "stream",
     "text": [
      "Number of samples after basic filtering 93\n",
      "Number of these samples with a valid sio2 = 42\n",
      "Number of these samples with major element sum > 98%= 24\n",
      "Final number of samples passed = 24\n",
      "TODO implement min/max elevation cutoffs\n"
     ]
    },
    {
     "name": "stderr",
     "output_type": "stream",
     "text": [
      "grdinfo [WARNING]: Guessing of registration in conflict between x and y, using gridline\n",
      "grdtrack [WARNING]: Some input points were outside the grid domain(s).\n"
     ]
    },
    {
     "name": "stdout",
     "output_type": "stream",
     "text": [
      "25.0\n",
      "Number of samples after basic filtering 93\n",
      "Number of these samples with a valid sio2 = 42\n",
      "Number of these samples with major element sum > 98%= 24\n",
      "Final number of samples passed = 24\n",
      "TODO implement min/max elevation cutoffs\n"
     ]
    },
    {
     "name": "stderr",
     "output_type": "stream",
     "text": [
      "grdinfo [WARNING]: Guessing of registration in conflict between x and y, using gridline\n",
      "grdtrack [WARNING]: Some input points were outside the grid domain(s).\n"
     ]
    },
    {
     "name": "stdout",
     "output_type": "stream",
     "text": [
      "Number of samples after basic filtering 121\n",
      "Number of these samples with a valid sio2 = 58\n",
      "Number of these samples with major element sum > 98%= 10\n",
      "Final number of samples passed = 10\n",
      "TODO implement min/max elevation cutoffs\n"
     ]
    },
    {
     "name": "stderr",
     "output_type": "stream",
     "text": [
      "grdinfo [WARNING]: Guessing of registration in conflict between x and y, using gridline\n",
      "grdtrack [WARNING]: Some input points were outside the grid domain(s).\n"
     ]
    },
    {
     "name": "stdout",
     "output_type": "stream",
     "text": [
      "30.0\n",
      "Number of samples after basic filtering 121\n",
      "Number of these samples with a valid sio2 = 58\n",
      "Number of these samples with major element sum > 98%= 10\n",
      "Final number of samples passed = 10\n",
      "TODO implement min/max elevation cutoffs\n"
     ]
    },
    {
     "name": "stderr",
     "output_type": "stream",
     "text": [
      "grdinfo [WARNING]: Guessing of registration in conflict between x and y, using gridline\n",
      "grdtrack [WARNING]: Some input points were outside the grid domain(s).\n"
     ]
    },
    {
     "name": "stdout",
     "output_type": "stream",
     "text": [
      "Number of samples after basic filtering 302\n",
      "Number of these samples with a valid sio2 = 111\n",
      "Number of these samples with major element sum > 98%= 8\n",
      "Final number of samples passed = 8\n",
      "TODO implement min/max elevation cutoffs\n"
     ]
    },
    {
     "name": "stderr",
     "output_type": "stream",
     "text": [
      "grdinfo [WARNING]: Guessing of registration in conflict between x and y, using gridline\n",
      "grdtrack [WARNING]: Some input points were outside the grid domain(s).\n"
     ]
    },
    {
     "name": "stdout",
     "output_type": "stream",
     "text": [
      "35.0\n",
      "Number of samples after basic filtering 302\n",
      "Number of these samples with a valid sio2 = 111\n",
      "Number of these samples with major element sum > 98%= 8\n",
      "Final number of samples passed = 8\n",
      "TODO implement min/max elevation cutoffs\n"
     ]
    },
    {
     "name": "stderr",
     "output_type": "stream",
     "text": [
      "grdinfo [WARNING]: Guessing of registration in conflict between x and y, using gridline\n",
      "grdtrack [WARNING]: Some input points were outside the grid domain(s).\n"
     ]
    },
    {
     "name": "stdout",
     "output_type": "stream",
     "text": [
      "Number of samples after basic filtering 49\n",
      "Number of these samples with a valid sio2 = 47\n",
      "Number of these samples with major element sum > 98%= 19\n",
      "Final number of samples passed = 19\n",
      "TODO implement min/max elevation cutoffs\n"
     ]
    },
    {
     "name": "stderr",
     "output_type": "stream",
     "text": [
      "grdinfo [WARNING]: Guessing of registration in conflict between x and y, using gridline\n",
      "grdtrack [WARNING]: Some input points were outside the grid domain(s).\n"
     ]
    },
    {
     "name": "stdout",
     "output_type": "stream",
     "text": [
      "40.0\n",
      "Number of samples after basic filtering 49\n",
      "Number of these samples with a valid sio2 = 47\n",
      "Number of these samples with major element sum > 98%= 19\n",
      "Final number of samples passed = 19\n",
      "TODO implement min/max elevation cutoffs\n"
     ]
    },
    {
     "name": "stderr",
     "output_type": "stream",
     "text": [
      "grdinfo [WARNING]: Guessing of registration in conflict between x and y, using gridline\n",
      "grdtrack [WARNING]: Some input points were outside the grid domain(s).\n"
     ]
    },
    {
     "name": "stdout",
     "output_type": "stream",
     "text": [
      "Number of samples after basic filtering 123\n",
      "Number of these samples with a valid sio2 = 121\n",
      "Number of these samples with major element sum > 98%= 39\n",
      "Final number of samples passed = 39\n",
      "TODO implement min/max elevation cutoffs\n"
     ]
    },
    {
     "name": "stderr",
     "output_type": "stream",
     "text": [
      "grdinfo [WARNING]: Guessing of registration in conflict between x and y, using gridline\n",
      "grdtrack [WARNING]: Some input points were outside the grid domain(s).\n"
     ]
    },
    {
     "name": "stdout",
     "output_type": "stream",
     "text": [
      "45.0\n",
      "Number of samples after basic filtering 123\n",
      "Number of these samples with a valid sio2 = 121\n",
      "Number of these samples with major element sum > 98%= 39\n",
      "Final number of samples passed = 39\n",
      "TODO implement min/max elevation cutoffs\n"
     ]
    },
    {
     "name": "stderr",
     "output_type": "stream",
     "text": [
      "grdinfo [WARNING]: Guessing of registration in conflict between x and y, using gridline\n",
      "grdtrack [WARNING]: Some input points were outside the grid domain(s).\n"
     ]
    },
    {
     "name": "stdout",
     "output_type": "stream",
     "text": [
      "Number of samples after basic filtering 51\n",
      "Number of these samples with a valid sio2 = 51\n",
      "Number of these samples with major element sum > 98%= 7\n",
      "Final number of samples passed = 7\n",
      "TODO implement min/max elevation cutoffs\n"
     ]
    },
    {
     "name": "stderr",
     "output_type": "stream",
     "text": [
      "grdinfo [WARNING]: Guessing of registration in conflict between x and y, using gridline\n"
     ]
    },
    {
     "name": "stdout",
     "output_type": "stream",
     "text": [
      "50.0\n",
      "Number of samples after basic filtering 51\n",
      "Number of these samples with a valid sio2 = 51\n",
      "Number of these samples with major element sum > 98%= 7\n",
      "Final number of samples passed = 7\n",
      "TODO implement min/max elevation cutoffs\n"
     ]
    },
    {
     "name": "stderr",
     "output_type": "stream",
     "text": [
      "grdinfo [WARNING]: Guessing of registration in conflict between x and y, using gridline\n"
     ]
    },
    {
     "name": "stdout",
     "output_type": "stream",
     "text": [
      "Number of samples after basic filtering 126\n",
      "Number of these samples with a valid sio2 = 126\n",
      "Number of these samples with major element sum > 98%= 52\n",
      "Final number of samples passed = 52\n",
      "TODO implement min/max elevation cutoffs\n"
     ]
    },
    {
     "name": "stderr",
     "output_type": "stream",
     "text": [
      "grdinfo [WARNING]: Guessing of registration in conflict between x and y, using gridline\n"
     ]
    },
    {
     "name": "stdout",
     "output_type": "stream",
     "text": [
      "55.0\n",
      "Number of samples after basic filtering 126\n",
      "Number of these samples with a valid sio2 = 126\n",
      "Number of these samples with major element sum > 98%= 52\n",
      "Final number of samples passed = 52\n",
      "TODO implement min/max elevation cutoffs\n"
     ]
    },
    {
     "name": "stderr",
     "output_type": "stream",
     "text": [
      "grdinfo [WARNING]: Guessing of registration in conflict between x and y, using gridline\n"
     ]
    },
    {
     "name": "stdout",
     "output_type": "stream",
     "text": [
      "Number of samples after basic filtering 24\n",
      "Number of these samples with a valid sio2 = 22\n",
      "Number of these samples with major element sum > 98%= 13\n",
      "Final number of samples passed = 13\n",
      "TODO implement min/max elevation cutoffs\n"
     ]
    },
    {
     "name": "stderr",
     "output_type": "stream",
     "text": [
      "grdinfo [WARNING]: Guessing of registration in conflict between x and y, using gridline\n",
      "grdtrack [WARNING]: Some input points were outside the grid domain(s).\n"
     ]
    },
    {
     "name": "stdout",
     "output_type": "stream",
     "text": [
      "60.0\n",
      "Number of samples after basic filtering 24\n",
      "Number of these samples with a valid sio2 = 22\n",
      "Number of these samples with major element sum > 98%= 13\n",
      "Final number of samples passed = 13\n",
      "TODO implement min/max elevation cutoffs\n"
     ]
    },
    {
     "name": "stderr",
     "output_type": "stream",
     "text": [
      "grdinfo [WARNING]: Guessing of registration in conflict between x and y, using gridline\n",
      "grdtrack [WARNING]: Some input points were outside the grid domain(s).\n"
     ]
    },
    {
     "name": "stdout",
     "output_type": "stream",
     "text": [
      "Number of samples after basic filtering 64\n",
      "Number of these samples with a valid sio2 = 60\n",
      "Number of these samples with major element sum > 98%= 37\n",
      "Final number of samples passed = 37\n",
      "TODO implement min/max elevation cutoffs\n"
     ]
    },
    {
     "name": "stderr",
     "output_type": "stream",
     "text": [
      "grdinfo [WARNING]: Guessing of registration in conflict between x and y, using gridline\n",
      "grdtrack [WARNING]: Some input points were outside the grid domain(s).\n"
     ]
    },
    {
     "name": "stdout",
     "output_type": "stream",
     "text": [
      "65.0\n",
      "Number of samples after basic filtering 64\n",
      "Number of these samples with a valid sio2 = 60\n",
      "Number of these samples with major element sum > 98%= 37\n",
      "Final number of samples passed = 37\n",
      "TODO implement min/max elevation cutoffs\n"
     ]
    },
    {
     "name": "stderr",
     "output_type": "stream",
     "text": [
      "grdinfo [WARNING]: Guessing of registration in conflict between x and y, using gridline\n",
      "grdtrack [WARNING]: Some input points were outside the grid domain(s).\n"
     ]
    },
    {
     "name": "stdout",
     "output_type": "stream",
     "text": [
      "Number of samples after basic filtering 20\n",
      "Number of these samples with a valid sio2 = 20\n",
      "Number of these samples with major element sum > 98%= 15\n",
      "Final number of samples passed = 15\n",
      "TODO implement min/max elevation cutoffs\n"
     ]
    },
    {
     "name": "stderr",
     "output_type": "stream",
     "text": [
      "grdinfo [WARNING]: Guessing of registration in conflict between x and y, using gridline\n",
      "grdtrack [WARNING]: Some input points were outside the grid domain(s).\n"
     ]
    },
    {
     "name": "stdout",
     "output_type": "stream",
     "text": [
      "70.0\n",
      "Number of samples after basic filtering 20\n",
      "Number of these samples with a valid sio2 = 20\n",
      "Number of these samples with major element sum > 98%= 15\n",
      "Final number of samples passed = 15\n",
      "TODO implement min/max elevation cutoffs\n"
     ]
    },
    {
     "name": "stderr",
     "output_type": "stream",
     "text": [
      "grdinfo [WARNING]: Guessing of registration in conflict between x and y, using gridline\n",
      "grdtrack [WARNING]: Some input points were outside the grid domain(s).\n"
     ]
    },
    {
     "name": "stdout",
     "output_type": "stream",
     "text": [
      "Number of samples after basic filtering 64\n",
      "Number of these samples with a valid sio2 = 50\n",
      "Number of these samples with major element sum > 98%= 31\n",
      "Final number of samples passed = 31\n",
      "TODO implement min/max elevation cutoffs\n"
     ]
    },
    {
     "name": "stderr",
     "output_type": "stream",
     "text": [
      "grdinfo [WARNING]: Guessing of registration in conflict between x and y, using gridline\n",
      "grdtrack [WARNING]: Some input points were outside the grid domain(s).\n"
     ]
    },
    {
     "name": "stdout",
     "output_type": "stream",
     "text": [
      "75.0\n",
      "Number of samples after basic filtering 64\n",
      "Number of these samples with a valid sio2 = 50\n",
      "Number of these samples with major element sum > 98%= 31\n",
      "Final number of samples passed = 31\n",
      "TODO implement min/max elevation cutoffs\n"
     ]
    },
    {
     "name": "stderr",
     "output_type": "stream",
     "text": [
      "grdinfo [WARNING]: Guessing of registration in conflict between x and y, using gridline\n",
      "grdtrack [WARNING]: Some input points were outside the grid domain(s).\n"
     ]
    },
    {
     "name": "stdout",
     "output_type": "stream",
     "text": [
      "Number of samples after basic filtering 67\n",
      "Number of these samples with a valid sio2 = 60\n",
      "Number of these samples with major element sum > 98%= 21\n",
      "Final number of samples passed = 21\n",
      "TODO implement min/max elevation cutoffs\n"
     ]
    },
    {
     "name": "stderr",
     "output_type": "stream",
     "text": [
      "grdinfo [WARNING]: Guessing of registration in conflict between x and y, using gridline\n",
      "grdtrack [WARNING]: Some input points were outside the grid domain(s).\n"
     ]
    },
    {
     "name": "stdout",
     "output_type": "stream",
     "text": [
      "80.0\n",
      "Number of samples after basic filtering 67\n",
      "Number of these samples with a valid sio2 = 60\n",
      "Number of these samples with major element sum > 98%= 21\n",
      "Final number of samples passed = 21\n",
      "TODO implement min/max elevation cutoffs\n"
     ]
    },
    {
     "name": "stderr",
     "output_type": "stream",
     "text": [
      "grdinfo [WARNING]: Guessing of registration in conflict between x and y, using gridline\n",
      "grdtrack [WARNING]: Some input points were outside the grid domain(s).\n"
     ]
    },
    {
     "name": "stdout",
     "output_type": "stream",
     "text": [
      "Number of samples after basic filtering 19309\n",
      "Number of these samples with a valid sio2 = 15265\n",
      "Number of these samples with major element sum > 98%= 9942\n",
      "Final number of samples passed = 9942\n",
      "TODO implement min/max elevation cutoffs\n"
     ]
    },
    {
     "name": "stderr",
     "output_type": "stream",
     "text": [
      "grdinfo [WARNING]: Guessing of registration in conflict between x and y, using gridline\n",
      "grdtrack [WARNING]: Some input points were outside the grid domain(s).\n"
     ]
    },
    {
     "name": "stdout",
     "output_type": "stream",
     "text": [
      "0.0\n",
      "Number of samples after basic filtering 19309\n",
      "Number of these samples with a valid sio2 = 15265\n",
      "Number of these samples with major element sum > 98%= 9942\n",
      "Final number of samples passed = 9942\n",
      "TODO implement min/max elevation cutoffs\n"
     ]
    },
    {
     "name": "stderr",
     "output_type": "stream",
     "text": [
      "grdinfo [WARNING]: Guessing of registration in conflict between x and y, using gridline\n",
      "grdtrack [WARNING]: Some input points were outside the grid domain(s).\n"
     ]
    },
    {
     "name": "stdout",
     "output_type": "stream",
     "text": [
      "Number of samples after basic filtering 444\n",
      "Number of these samples with a valid sio2 = 344\n",
      "Number of these samples with major element sum > 98%= 218\n",
      "Final number of samples passed = 218\n",
      "TODO implement min/max elevation cutoffs\n"
     ]
    },
    {
     "name": "stderr",
     "output_type": "stream",
     "text": [
      "grdinfo [WARNING]: Guessing of registration in conflict between x and y, using gridline\n",
      "grdtrack [WARNING]: Some input points were outside the grid domain(s).\n"
     ]
    },
    {
     "name": "stdout",
     "output_type": "stream",
     "text": [
      "5.0\n",
      "Number of samples after basic filtering 444\n",
      "Number of these samples with a valid sio2 = 344\n",
      "Number of these samples with major element sum > 98%= 218\n",
      "Final number of samples passed = 218\n",
      "TODO implement min/max elevation cutoffs\n"
     ]
    },
    {
     "name": "stderr",
     "output_type": "stream",
     "text": [
      "grdinfo [WARNING]: Guessing of registration in conflict between x and y, using gridline\n",
      "grdtrack [WARNING]: Some input points were outside the grid domain(s).\n"
     ]
    },
    {
     "name": "stdout",
     "output_type": "stream",
     "text": [
      "Number of samples after basic filtering 283\n",
      "Number of these samples with a valid sio2 = 207\n",
      "Number of these samples with major element sum > 98%= 142\n",
      "Final number of samples passed = 142\n",
      "TODO implement min/max elevation cutoffs\n"
     ]
    },
    {
     "name": "stderr",
     "output_type": "stream",
     "text": [
      "grdinfo [WARNING]: Guessing of registration in conflict between x and y, using gridline\n",
      "grdtrack [WARNING]: Some input points were outside the grid domain(s).\n"
     ]
    },
    {
     "name": "stdout",
     "output_type": "stream",
     "text": [
      "10.0\n",
      "Number of samples after basic filtering 283\n",
      "Number of these samples with a valid sio2 = 207\n",
      "Number of these samples with major element sum > 98%= 142\n",
      "Final number of samples passed = 142\n",
      "TODO implement min/max elevation cutoffs\n"
     ]
    },
    {
     "name": "stderr",
     "output_type": "stream",
     "text": [
      "grdinfo [WARNING]: Guessing of registration in conflict between x and y, using gridline\n",
      "grdtrack [WARNING]: Some input points were outside the grid domain(s).\n"
     ]
    },
    {
     "name": "stdout",
     "output_type": "stream",
     "text": [
      "Number of samples after basic filtering 177\n",
      "Number of these samples with a valid sio2 = 106\n",
      "Number of these samples with major element sum > 98%= 38\n",
      "Final number of samples passed = 38\n",
      "TODO implement min/max elevation cutoffs\n"
     ]
    },
    {
     "name": "stderr",
     "output_type": "stream",
     "text": [
      "grdinfo [WARNING]: Guessing of registration in conflict between x and y, using gridline\n",
      "grdtrack [WARNING]: Some input points were outside the grid domain(s).\n"
     ]
    },
    {
     "name": "stdout",
     "output_type": "stream",
     "text": [
      "15.0\n",
      "Number of samples after basic filtering 177\n",
      "Number of these samples with a valid sio2 = 106\n",
      "Number of these samples with major element sum > 98%= 38\n",
      "Final number of samples passed = 38\n",
      "TODO implement min/max elevation cutoffs\n"
     ]
    },
    {
     "name": "stderr",
     "output_type": "stream",
     "text": [
      "grdinfo [WARNING]: Guessing of registration in conflict between x and y, using gridline\n",
      "grdtrack [WARNING]: Some input points were outside the grid domain(s).\n"
     ]
    },
    {
     "name": "stdout",
     "output_type": "stream",
     "text": [
      "Number of samples after basic filtering 130\n",
      "Number of these samples with a valid sio2 = 95\n",
      "Number of these samples with major element sum > 98%= 56\n",
      "Final number of samples passed = 56\n",
      "TODO implement min/max elevation cutoffs\n"
     ]
    },
    {
     "name": "stderr",
     "output_type": "stream",
     "text": [
      "grdinfo [WARNING]: Guessing of registration in conflict between x and y, using gridline\n",
      "grdtrack [WARNING]: Some input points were outside the grid domain(s).\n"
     ]
    },
    {
     "name": "stdout",
     "output_type": "stream",
     "text": [
      "20.0\n",
      "Number of samples after basic filtering 130\n",
      "Number of these samples with a valid sio2 = 95\n",
      "Number of these samples with major element sum > 98%= 56\n",
      "Final number of samples passed = 56\n",
      "TODO implement min/max elevation cutoffs\n"
     ]
    },
    {
     "name": "stderr",
     "output_type": "stream",
     "text": [
      "grdinfo [WARNING]: Guessing of registration in conflict between x and y, using gridline\n",
      "grdtrack [WARNING]: Some input points were outside the grid domain(s).\n"
     ]
    },
    {
     "name": "stdout",
     "output_type": "stream",
     "text": [
      "Number of samples after basic filtering 93\n",
      "Number of these samples with a valid sio2 = 42\n",
      "Number of these samples with major element sum > 98%= 24\n",
      "Final number of samples passed = 24\n",
      "TODO implement min/max elevation cutoffs\n"
     ]
    },
    {
     "name": "stderr",
     "output_type": "stream",
     "text": [
      "grdinfo [WARNING]: Guessing of registration in conflict between x and y, using gridline\n",
      "grdtrack [WARNING]: Some input points were outside the grid domain(s).\n"
     ]
    },
    {
     "name": "stdout",
     "output_type": "stream",
     "text": [
      "25.0\n",
      "Number of samples after basic filtering 93\n",
      "Number of these samples with a valid sio2 = 42\n",
      "Number of these samples with major element sum > 98%= 24\n",
      "Final number of samples passed = 24\n",
      "TODO implement min/max elevation cutoffs\n"
     ]
    },
    {
     "name": "stderr",
     "output_type": "stream",
     "text": [
      "grdinfo [WARNING]: Guessing of registration in conflict between x and y, using gridline\n",
      "grdtrack [WARNING]: Some input points were outside the grid domain(s).\n"
     ]
    },
    {
     "name": "stdout",
     "output_type": "stream",
     "text": [
      "Number of samples after basic filtering 121\n",
      "Number of these samples with a valid sio2 = 58\n",
      "Number of these samples with major element sum > 98%= 10\n",
      "Final number of samples passed = 10\n",
      "TODO implement min/max elevation cutoffs\n"
     ]
    },
    {
     "name": "stderr",
     "output_type": "stream",
     "text": [
      "grdinfo [WARNING]: Guessing of registration in conflict between x and y, using gridline\n",
      "grdtrack [WARNING]: Some input points were outside the grid domain(s).\n"
     ]
    },
    {
     "name": "stdout",
     "output_type": "stream",
     "text": [
      "30.0\n",
      "Number of samples after basic filtering 121\n",
      "Number of these samples with a valid sio2 = 58\n",
      "Number of these samples with major element sum > 98%= 10\n",
      "Final number of samples passed = 10\n",
      "TODO implement min/max elevation cutoffs\n"
     ]
    },
    {
     "name": "stderr",
     "output_type": "stream",
     "text": [
      "grdinfo [WARNING]: Guessing of registration in conflict between x and y, using gridline\n",
      "grdtrack [WARNING]: Some input points were outside the grid domain(s).\n"
     ]
    },
    {
     "name": "stdout",
     "output_type": "stream",
     "text": [
      "Number of samples after basic filtering 302\n",
      "Number of these samples with a valid sio2 = 111\n",
      "Number of these samples with major element sum > 98%= 8\n",
      "Final number of samples passed = 8\n",
      "TODO implement min/max elevation cutoffs\n"
     ]
    },
    {
     "name": "stderr",
     "output_type": "stream",
     "text": [
      "grdinfo [WARNING]: Guessing of registration in conflict between x and y, using gridline\n",
      "grdtrack [WARNING]: Some input points were outside the grid domain(s).\n"
     ]
    },
    {
     "name": "stdout",
     "output_type": "stream",
     "text": [
      "35.0\n",
      "Number of samples after basic filtering 302\n",
      "Number of these samples with a valid sio2 = 111\n",
      "Number of these samples with major element sum > 98%= 8\n",
      "Final number of samples passed = 8\n",
      "TODO implement min/max elevation cutoffs\n"
     ]
    },
    {
     "name": "stderr",
     "output_type": "stream",
     "text": [
      "grdinfo [WARNING]: Guessing of registration in conflict between x and y, using gridline\n",
      "grdtrack [WARNING]: Some input points were outside the grid domain(s).\n"
     ]
    },
    {
     "name": "stdout",
     "output_type": "stream",
     "text": [
      "Number of samples after basic filtering 49\n",
      "Number of these samples with a valid sio2 = 47\n",
      "Number of these samples with major element sum > 98%= 19\n",
      "Final number of samples passed = 19\n",
      "TODO implement min/max elevation cutoffs\n"
     ]
    },
    {
     "name": "stderr",
     "output_type": "stream",
     "text": [
      "grdinfo [WARNING]: Guessing of registration in conflict between x and y, using gridline\n",
      "grdtrack [WARNING]: Some input points were outside the grid domain(s).\n"
     ]
    },
    {
     "name": "stdout",
     "output_type": "stream",
     "text": [
      "40.0\n",
      "Number of samples after basic filtering 49\n",
      "Number of these samples with a valid sio2 = 47\n",
      "Number of these samples with major element sum > 98%= 19\n",
      "Final number of samples passed = 19\n",
      "TODO implement min/max elevation cutoffs\n"
     ]
    },
    {
     "name": "stderr",
     "output_type": "stream",
     "text": [
      "grdinfo [WARNING]: Guessing of registration in conflict between x and y, using gridline\n",
      "grdtrack [WARNING]: Some input points were outside the grid domain(s).\n"
     ]
    },
    {
     "name": "stdout",
     "output_type": "stream",
     "text": [
      "Number of samples after basic filtering 123\n",
      "Number of these samples with a valid sio2 = 121\n",
      "Number of these samples with major element sum > 98%= 39\n",
      "Final number of samples passed = 39\n",
      "TODO implement min/max elevation cutoffs\n"
     ]
    },
    {
     "name": "stderr",
     "output_type": "stream",
     "text": [
      "grdinfo [WARNING]: Guessing of registration in conflict between x and y, using gridline\n",
      "grdtrack [WARNING]: Some input points were outside the grid domain(s).\n"
     ]
    },
    {
     "name": "stdout",
     "output_type": "stream",
     "text": [
      "45.0\n",
      "Number of samples after basic filtering 123\n",
      "Number of these samples with a valid sio2 = 121\n",
      "Number of these samples with major element sum > 98%= 39\n",
      "Final number of samples passed = 39\n",
      "TODO implement min/max elevation cutoffs\n"
     ]
    },
    {
     "name": "stderr",
     "output_type": "stream",
     "text": [
      "grdinfo [WARNING]: Guessing of registration in conflict between x and y, using gridline\n",
      "grdtrack [WARNING]: Some input points were outside the grid domain(s).\n"
     ]
    },
    {
     "name": "stdout",
     "output_type": "stream",
     "text": [
      "Number of samples after basic filtering 51\n",
      "Number of these samples with a valid sio2 = 51\n",
      "Number of these samples with major element sum > 98%= 7\n",
      "Final number of samples passed = 7\n",
      "TODO implement min/max elevation cutoffs\n"
     ]
    },
    {
     "name": "stderr",
     "output_type": "stream",
     "text": [
      "grdinfo [WARNING]: Guessing of registration in conflict between x and y, using gridline\n"
     ]
    },
    {
     "name": "stdout",
     "output_type": "stream",
     "text": [
      "50.0\n",
      "Number of samples after basic filtering 51\n",
      "Number of these samples with a valid sio2 = 51\n",
      "Number of these samples with major element sum > 98%= 7\n",
      "Final number of samples passed = 7\n",
      "TODO implement min/max elevation cutoffs\n"
     ]
    },
    {
     "name": "stderr",
     "output_type": "stream",
     "text": [
      "grdinfo [WARNING]: Guessing of registration in conflict between x and y, using gridline\n"
     ]
    },
    {
     "name": "stdout",
     "output_type": "stream",
     "text": [
      "Number of samples after basic filtering 126\n",
      "Number of these samples with a valid sio2 = 126\n",
      "Number of these samples with major element sum > 98%= 52\n",
      "Final number of samples passed = 52\n",
      "TODO implement min/max elevation cutoffs\n"
     ]
    },
    {
     "name": "stderr",
     "output_type": "stream",
     "text": [
      "grdinfo [WARNING]: Guessing of registration in conflict between x and y, using gridline\n"
     ]
    },
    {
     "name": "stdout",
     "output_type": "stream",
     "text": [
      "55.0\n",
      "Number of samples after basic filtering 126\n",
      "Number of these samples with a valid sio2 = 126\n",
      "Number of these samples with major element sum > 98%= 52\n",
      "Final number of samples passed = 52\n",
      "TODO implement min/max elevation cutoffs\n"
     ]
    },
    {
     "name": "stderr",
     "output_type": "stream",
     "text": [
      "grdinfo [WARNING]: Guessing of registration in conflict between x and y, using gridline\n"
     ]
    },
    {
     "name": "stdout",
     "output_type": "stream",
     "text": [
      "Number of samples after basic filtering 24\n",
      "Number of these samples with a valid sio2 = 22\n",
      "Number of these samples with major element sum > 98%= 13\n",
      "Final number of samples passed = 13\n",
      "TODO implement min/max elevation cutoffs\n"
     ]
    },
    {
     "name": "stderr",
     "output_type": "stream",
     "text": [
      "grdinfo [WARNING]: Guessing of registration in conflict between x and y, using gridline\n",
      "grdtrack [WARNING]: Some input points were outside the grid domain(s).\n"
     ]
    },
    {
     "name": "stdout",
     "output_type": "stream",
     "text": [
      "60.0\n",
      "Number of samples after basic filtering 24\n",
      "Number of these samples with a valid sio2 = 22\n",
      "Number of these samples with major element sum > 98%= 13\n",
      "Final number of samples passed = 13\n",
      "TODO implement min/max elevation cutoffs\n"
     ]
    },
    {
     "name": "stderr",
     "output_type": "stream",
     "text": [
      "grdinfo [WARNING]: Guessing of registration in conflict between x and y, using gridline\n",
      "grdtrack [WARNING]: Some input points were outside the grid domain(s).\n"
     ]
    },
    {
     "name": "stdout",
     "output_type": "stream",
     "text": [
      "Number of samples after basic filtering 64\n",
      "Number of these samples with a valid sio2 = 60\n",
      "Number of these samples with major element sum > 98%= 37\n",
      "Final number of samples passed = 37\n",
      "TODO implement min/max elevation cutoffs\n"
     ]
    },
    {
     "name": "stderr",
     "output_type": "stream",
     "text": [
      "grdinfo [WARNING]: Guessing of registration in conflict between x and y, using gridline\n",
      "grdtrack [WARNING]: Some input points were outside the grid domain(s).\n"
     ]
    },
    {
     "name": "stdout",
     "output_type": "stream",
     "text": [
      "65.0\n",
      "Number of samples after basic filtering 64\n",
      "Number of these samples with a valid sio2 = 60\n",
      "Number of these samples with major element sum > 98%= 37\n",
      "Final number of samples passed = 37\n",
      "TODO implement min/max elevation cutoffs\n"
     ]
    },
    {
     "name": "stderr",
     "output_type": "stream",
     "text": [
      "grdinfo [WARNING]: Guessing of registration in conflict between x and y, using gridline\n",
      "grdtrack [WARNING]: Some input points were outside the grid domain(s).\n"
     ]
    },
    {
     "name": "stdout",
     "output_type": "stream",
     "text": [
      "Number of samples after basic filtering 20\n",
      "Number of these samples with a valid sio2 = 20\n",
      "Number of these samples with major element sum > 98%= 15\n",
      "Final number of samples passed = 15\n",
      "TODO implement min/max elevation cutoffs\n"
     ]
    },
    {
     "name": "stderr",
     "output_type": "stream",
     "text": [
      "grdinfo [WARNING]: Guessing of registration in conflict between x and y, using gridline\n",
      "grdtrack [WARNING]: Some input points were outside the grid domain(s).\n"
     ]
    },
    {
     "name": "stdout",
     "output_type": "stream",
     "text": [
      "70.0\n",
      "Number of samples after basic filtering 20\n",
      "Number of these samples with a valid sio2 = 20\n",
      "Number of these samples with major element sum > 98%= 15\n",
      "Final number of samples passed = 15\n",
      "TODO implement min/max elevation cutoffs\n"
     ]
    },
    {
     "name": "stderr",
     "output_type": "stream",
     "text": [
      "grdinfo [WARNING]: Guessing of registration in conflict between x and y, using gridline\n",
      "grdtrack [WARNING]: Some input points were outside the grid domain(s).\n"
     ]
    },
    {
     "name": "stdout",
     "output_type": "stream",
     "text": [
      "Number of samples after basic filtering 64\n",
      "Number of these samples with a valid sio2 = 50\n",
      "Number of these samples with major element sum > 98%= 31\n",
      "Final number of samples passed = 31\n",
      "TODO implement min/max elevation cutoffs\n"
     ]
    },
    {
     "name": "stderr",
     "output_type": "stream",
     "text": [
      "grdinfo [WARNING]: Guessing of registration in conflict between x and y, using gridline\n",
      "grdtrack [WARNING]: Some input points were outside the grid domain(s).\n"
     ]
    },
    {
     "name": "stdout",
     "output_type": "stream",
     "text": [
      "75.0\n",
      "Number of samples after basic filtering 64\n",
      "Number of these samples with a valid sio2 = 50\n",
      "Number of these samples with major element sum > 98%= 31\n",
      "Final number of samples passed = 31\n",
      "TODO implement min/max elevation cutoffs\n"
     ]
    },
    {
     "name": "stderr",
     "output_type": "stream",
     "text": [
      "grdinfo [WARNING]: Guessing of registration in conflict between x and y, using gridline\n",
      "grdtrack [WARNING]: Some input points were outside the grid domain(s).\n"
     ]
    },
    {
     "name": "stdout",
     "output_type": "stream",
     "text": [
      "Number of samples after basic filtering 67\n",
      "Number of these samples with a valid sio2 = 60\n",
      "Number of these samples with major element sum > 98%= 21\n",
      "Final number of samples passed = 21\n",
      "TODO implement min/max elevation cutoffs\n"
     ]
    },
    {
     "name": "stderr",
     "output_type": "stream",
     "text": [
      "grdinfo [WARNING]: Guessing of registration in conflict between x and y, using gridline\n",
      "grdtrack [WARNING]: Some input points were outside the grid domain(s).\n"
     ]
    },
    {
     "name": "stdout",
     "output_type": "stream",
     "text": [
      "80.0\n",
      "Number of samples after basic filtering 67\n",
      "Number of these samples with a valid sio2 = 60\n",
      "Number of these samples with major element sum > 98%= 21\n",
      "Final number of samples passed = 21\n",
      "TODO implement min/max elevation cutoffs\n"
     ]
    },
    {
     "name": "stderr",
     "output_type": "stream",
     "text": [
      "grdinfo [WARNING]: Guessing of registration in conflict between x and y, using gridline\n",
      "grdtrack [WARNING]: Some input points were outside the grid domain(s).\n"
     ]
    }
   ],
   "source": [
    "from joblib import Parallel, delayed\n",
    "\n",
    "###########################################\n",
    "#MODEL = PaleomapDictionary\n",
    "MODEL = BoschmanDictionary\n",
    "###########################################\n",
    "\n",
    "region = [-85, -55, -58, 12]\n",
    "#region = [-76, -66, -25, -12]\n",
    "projection=\"M10c\"\n",
    "perspective = [240, 35]\n",
    "\n",
    "###########################################\n",
    "\n",
    "\n",
    "\n",
    "time_bin_size = MODEL['time_bin_size']\n",
    "space_bin_size = 1.\n",
    "\n",
    "#calibration = 'FarnerLee'\n",
    "#mohometer_selection = ['gd_yb_elevation']\n",
    "\n",
    "#calibration = 'Hu'\n",
    "#mohometer_selection = ['sr_y_elevation']\n",
    "\n",
    "#calibration = 'luffi'\n",
    "#mohometer_selection = 50\n",
    "\n",
    "\n",
    "plot_calibrations = [\n",
    "    ('luffi', 41),\n",
    "    ('luffi', 'la_yb_elevation'),\n",
    "    ('Hu', 'la_yb_elevation'),\n",
    "    ('Hu', 'sr_y_elevation'),\n",
    "    ('FarnerLee', 'la_yb_elevation'),\n",
    "    ('FarnerLee', 'gd_yb_elevation')\n",
    "]\n",
    "\n",
    "\n",
    "anchor_plate_id = MODEL['anchor_plate_id']\n",
    "raster_anchor_plate_id = MODEL['raster_anchor_plate_id']\n",
    "\n",
    "reconstruction_model = MODEL['reconstruction_model']\n",
    "raster_sequence = MODEL['raster_sequence']\n",
    "\n",
    "num_cpus = 1\n",
    "\n",
    "for calibration, mohometer_selection in plot_calibrations:\n",
    " \n",
    "    if num_cpus==1:\n",
    "        \n",
    "        for reconstruction_time in np.arange(0,MODEL['maximum_time']+time_bin_size,time_bin_size):\n",
    "\n",
    "            make_timeslice_figures(df, reconstruction_time, time_bin_size, space_bin_size, \n",
    "                               reconstruction_model, raster_sequence, \n",
    "                               anchor_plate_id=anchor_plate_id, raster_anchor_plate_id=raster_anchor_plate_id,\n",
    "                               gc_interpolator_dict=gc_interpolator_dict, \n",
    "                               calibration=calibration, mohometer_selection=mohometer_selection,\n",
    "                               region=region, projection=projection, perspective=perspective, \n",
    "                               volcanics=pilger_volcanics)\n",
    "        \n",
    "    else:\n",
    "        Parallel(n_jobs=num_cpus)(delayed(make_timeslice_figures)(\n",
    "            df, reconstruction_time, time_bin_size, space_bin_size, \n",
    "            reconstruction_model, raster_sequence, \n",
    "            anchor_plate_id=anchor_plate_id, raster_anchor_plate_id=raster_anchor_plate_id,\n",
    "            gc_interpolator_dict=gc_interpolator_dict, \n",
    "            calibration=calibration, mohometer_selection=mohometer_selection,\n",
    "            region=region, projection=projection, perspective=perspective, volcanics=pilger_volcanics\n",
    "        ) for reconstruction_time in np.arange(0,MODEL['maximum_time']+time_bin_size,time_bin_size))\n",
    "\n",
    "        \n",
    "\n",
    "    \n"
   ]
  },
  {
   "cell_type": "code",
   "execution_count": 5,
   "id": "e717a864-1ab7-46a4-8ac9-67d1edef6b02",
   "metadata": {},
   "outputs": [
    {
     "name": "stdout",
     "output_type": "stream",
     "text": [
      "Number of samples after basic filtering 587\n",
      "TODO implement a specific alkaline/subalkaline boundary\n",
      "Final number of samples passed = 415\n",
      "TODO implement min/max elevation cutoffs\n"
     ]
    },
    {
     "name": "stderr",
     "output_type": "stream",
     "text": [
      "grdinfo [WARNING]: Guessing of registration in conflict between x and y, using gridline\n",
      "grdtrack [WARNING]: Some input points were outside the grid domain(s).\n"
     ]
    },
    {
     "name": "stdout",
     "output_type": "stream",
     "text": [
      "10\n",
      "Number of samples after basic filtering 231\n",
      "TODO implement a specific alkaline/subalkaline boundary\n",
      "Final number of samples passed = 139\n",
      "TODO implement min/max elevation cutoffs\n"
     ]
    },
    {
     "name": "stderr",
     "output_type": "stream",
     "text": [
      "grdinfo [WARNING]: Guessing of registration in conflict between x and y, using gridline\n",
      "grdtrack [WARNING]: Some input points were outside the grid domain(s).\n"
     ]
    },
    {
     "name": "stdout",
     "output_type": "stream",
     "text": [
      "20\n",
      "Number of samples after basic filtering 409\n",
      "TODO implement a specific alkaline/subalkaline boundary\n",
      "Final number of samples passed = 171\n",
      "TODO implement min/max elevation cutoffs\n"
     ]
    },
    {
     "name": "stderr",
     "output_type": "stream",
     "text": [
      "grdinfo [WARNING]: Guessing of registration in conflict between x and y, using gridline\n",
      "grdtrack [WARNING]: Some input points were outside the grid domain(s).\n"
     ]
    },
    {
     "name": "stdout",
     "output_type": "stream",
     "text": [
      "30\n",
      "Number of samples after basic filtering 91\n",
      "TODO implement a specific alkaline/subalkaline boundary\n",
      "Final number of samples passed = 84\n",
      "TODO implement min/max elevation cutoffs\n"
     ]
    },
    {
     "name": "stderr",
     "output_type": "stream",
     "text": [
      "grdinfo [WARNING]: Guessing of registration in conflict between x and y, using gridline\n",
      "grdtrack [WARNING]: Some input points were outside the grid domain(s).\n"
     ]
    },
    {
     "name": "stdout",
     "output_type": "stream",
     "text": [
      "40\n",
      "Number of samples after basic filtering 128\n",
      "TODO implement a specific alkaline/subalkaline boundary\n",
      "Final number of samples passed = 124\n",
      "TODO implement min/max elevation cutoffs\n"
     ]
    },
    {
     "name": "stderr",
     "output_type": "stream",
     "text": [
      "grdinfo [WARNING]: Guessing of registration in conflict between x and y, using gridline\n"
     ]
    },
    {
     "name": "stdout",
     "output_type": "stream",
     "text": [
      "50\n",
      "Number of samples after basic filtering 131\n",
      "TODO implement a specific alkaline/subalkaline boundary\n",
      "Final number of samples passed = 124\n",
      "TODO implement min/max elevation cutoffs\n"
     ]
    },
    {
     "name": "stderr",
     "output_type": "stream",
     "text": [
      "grdinfo [WARNING]: Guessing of registration in conflict between x and y, using gridline\n",
      "grdtrack [WARNING]: Some input points were outside the grid domain(s).\n"
     ]
    },
    {
     "name": "stdout",
     "output_type": "stream",
     "text": [
      "60\n",
      "Number of samples after basic filtering 119\n",
      "TODO implement a specific alkaline/subalkaline boundary\n",
      "Final number of samples passed = 106\n",
      "TODO implement min/max elevation cutoffs\n"
     ]
    },
    {
     "name": "stderr",
     "output_type": "stream",
     "text": [
      "grdinfo [WARNING]: Guessing of registration in conflict between x and y, using gridline\n",
      "grdtrack [WARNING]: Some input points were outside the grid domain(s).\n"
     ]
    },
    {
     "name": "stdout",
     "output_type": "stream",
     "text": [
      "70\n",
      "Number of samples after basic filtering 126\n",
      "TODO implement a specific alkaline/subalkaline boundary\n",
      "Final number of samples passed = 101\n",
      "TODO implement min/max elevation cutoffs\n"
     ]
    },
    {
     "name": "stderr",
     "output_type": "stream",
     "text": [
      "grdinfo [WARNING]: Guessing of registration in conflict between x and y, using gridline\n",
      "grdtrack [WARNING]: Some input points were outside the grid domain(s).\n"
     ]
    },
    {
     "name": "stdout",
     "output_type": "stream",
     "text": [
      "80\n",
      "Number of samples after basic filtering 587\n",
      "TODO implement a specific alkaline/subalkaline boundary\n",
      "Final number of samples passed = 415\n",
      "TODO implement min/max elevation cutoffs\n"
     ]
    },
    {
     "name": "stderr",
     "output_type": "stream",
     "text": [
      "grdinfo [WARNING]: Guessing of registration in conflict between x and y, using gridline\n",
      "grdtrack [WARNING]: Some input points were outside the grid domain(s).\n"
     ]
    },
    {
     "name": "stdout",
     "output_type": "stream",
     "text": [
      "10\n",
      "Number of samples after basic filtering 231\n",
      "TODO implement a specific alkaline/subalkaline boundary\n",
      "Final number of samples passed = 139\n",
      "TODO implement min/max elevation cutoffs\n"
     ]
    },
    {
     "name": "stderr",
     "output_type": "stream",
     "text": [
      "grdinfo [WARNING]: Guessing of registration in conflict between x and y, using gridline\n",
      "grdtrack [WARNING]: Some input points were outside the grid domain(s).\n"
     ]
    },
    {
     "name": "stdout",
     "output_type": "stream",
     "text": [
      "20\n",
      "Number of samples after basic filtering 409\n",
      "TODO implement a specific alkaline/subalkaline boundary\n",
      "Final number of samples passed = 171\n",
      "TODO implement min/max elevation cutoffs\n"
     ]
    },
    {
     "name": "stderr",
     "output_type": "stream",
     "text": [
      "grdinfo [WARNING]: Guessing of registration in conflict between x and y, using gridline\n",
      "grdtrack [WARNING]: Some input points were outside the grid domain(s).\n"
     ]
    },
    {
     "name": "stdout",
     "output_type": "stream",
     "text": [
      "30\n",
      "Number of samples after basic filtering 91\n",
      "TODO implement a specific alkaline/subalkaline boundary\n",
      "Final number of samples passed = 84\n",
      "TODO implement min/max elevation cutoffs\n"
     ]
    },
    {
     "name": "stderr",
     "output_type": "stream",
     "text": [
      "grdinfo [WARNING]: Guessing of registration in conflict between x and y, using gridline\n",
      "grdtrack [WARNING]: Some input points were outside the grid domain(s).\n"
     ]
    },
    {
     "name": "stdout",
     "output_type": "stream",
     "text": [
      "40\n",
      "Number of samples after basic filtering 128\n",
      "TODO implement a specific alkaline/subalkaline boundary\n",
      "Final number of samples passed = 124\n",
      "TODO implement min/max elevation cutoffs\n"
     ]
    },
    {
     "name": "stderr",
     "output_type": "stream",
     "text": [
      "grdinfo [WARNING]: Guessing of registration in conflict between x and y, using gridline\n"
     ]
    },
    {
     "name": "stdout",
     "output_type": "stream",
     "text": [
      "50\n",
      "Number of samples after basic filtering 131\n",
      "TODO implement a specific alkaline/subalkaline boundary\n",
      "Final number of samples passed = 124\n",
      "TODO implement min/max elevation cutoffs\n"
     ]
    },
    {
     "name": "stderr",
     "output_type": "stream",
     "text": [
      "grdinfo [WARNING]: Guessing of registration in conflict between x and y, using gridline\n",
      "grdtrack [WARNING]: Some input points were outside the grid domain(s).\n"
     ]
    },
    {
     "name": "stdout",
     "output_type": "stream",
     "text": [
      "60\n",
      "Number of samples after basic filtering 119\n",
      "TODO implement a specific alkaline/subalkaline boundary\n",
      "Final number of samples passed = 106\n",
      "TODO implement min/max elevation cutoffs\n"
     ]
    },
    {
     "name": "stderr",
     "output_type": "stream",
     "text": [
      "grdinfo [WARNING]: Guessing of registration in conflict between x and y, using gridline\n",
      "grdtrack [WARNING]: Some input points were outside the grid domain(s).\n"
     ]
    },
    {
     "name": "stdout",
     "output_type": "stream",
     "text": [
      "70\n",
      "Number of samples after basic filtering 126\n",
      "TODO implement a specific alkaline/subalkaline boundary\n",
      "Final number of samples passed = 101\n",
      "TODO implement min/max elevation cutoffs\n"
     ]
    },
    {
     "name": "stderr",
     "output_type": "stream",
     "text": [
      "grdinfo [WARNING]: Guessing of registration in conflict between x and y, using gridline\n",
      "grdtrack [WARNING]: Some input points were outside the grid domain(s).\n"
     ]
    },
    {
     "name": "stdout",
     "output_type": "stream",
     "text": [
      "80\n",
      "Number of samples after basic filtering 587\n",
      "Number of samples with 55<=sio2<=70 = 310\n",
      "Number of these samples with 1<=mgo<=4 = 247\n",
      "Number of these samples with 0.05<=rb/sr<=0.25 = 113\n",
      "Final number of samples passed = 113\n",
      "TODO implement min/max elevation cutoffs\n"
     ]
    },
    {
     "name": "stderr",
     "output_type": "stream",
     "text": [
      "grdinfo [WARNING]: Guessing of registration in conflict between x and y, using gridline\n",
      "grdtrack [WARNING]: Some input points were outside the grid domain(s).\n"
     ]
    },
    {
     "name": "stdout",
     "output_type": "stream",
     "text": [
      "10\n",
      "Number of samples after basic filtering 231\n",
      "Number of samples with 55<=sio2<=70 = 86\n",
      "Number of these samples with 1<=mgo<=4 = 74\n",
      "Number of these samples with 0.05<=rb/sr<=0.25 = 38\n",
      "Final number of samples passed = 38\n",
      "TODO implement min/max elevation cutoffs\n"
     ]
    },
    {
     "name": "stderr",
     "output_type": "stream",
     "text": [
      "grdinfo [WARNING]: Guessing of registration in conflict between x and y, using gridline\n",
      "grdtrack [WARNING]: Some input points were outside the grid domain(s).\n"
     ]
    },
    {
     "name": "stdout",
     "output_type": "stream",
     "text": [
      "20\n",
      "Number of samples after basic filtering 409\n",
      "Number of samples with 55<=sio2<=70 = 112\n",
      "Number of these samples with 1<=mgo<=4 = 69\n",
      "Number of these samples with 0.05<=rb/sr<=0.25 = 32\n",
      "Final number of samples passed = 32\n",
      "TODO implement min/max elevation cutoffs\n"
     ]
    },
    {
     "name": "stderr",
     "output_type": "stream",
     "text": [
      "grdinfo [WARNING]: Guessing of registration in conflict between x and y, using gridline\n",
      "grdtrack [WARNING]: Some input points were outside the grid domain(s).\n"
     ]
    },
    {
     "name": "stdout",
     "output_type": "stream",
     "text": [
      "30\n",
      "Number of samples after basic filtering 91\n",
      "Number of samples with 55<=sio2<=70 = 54\n",
      "Number of these samples with 1<=mgo<=4 = 44\n",
      "Number of these samples with 0.05<=rb/sr<=0.25 = 21\n",
      "Final number of samples passed = 21\n",
      "TODO implement min/max elevation cutoffs\n"
     ]
    },
    {
     "name": "stderr",
     "output_type": "stream",
     "text": [
      "grdinfo [WARNING]: Guessing of registration in conflict between x and y, using gridline\n",
      "grdtrack [WARNING]: Some input points were outside the grid domain(s).\n"
     ]
    },
    {
     "name": "stdout",
     "output_type": "stream",
     "text": [
      "40\n",
      "Number of samples after basic filtering 128\n",
      "Number of samples with 55<=sio2<=70 = 77\n",
      "Number of these samples with 1<=mgo<=4 = 68\n",
      "Number of these samples with 0.05<=rb/sr<=0.25 = 48\n",
      "Final number of samples passed = 48\n",
      "TODO implement min/max elevation cutoffs\n"
     ]
    },
    {
     "name": "stderr",
     "output_type": "stream",
     "text": [
      "grdinfo [WARNING]: Guessing of registration in conflict between x and y, using gridline\n"
     ]
    },
    {
     "name": "stdout",
     "output_type": "stream",
     "text": [
      "50\n",
      "Number of samples after basic filtering 131\n",
      "Number of samples with 55<=sio2<=70 = 108\n",
      "Number of these samples with 1<=mgo<=4 = 99\n",
      "Number of these samples with 0.05<=rb/sr<=0.25 = 82\n",
      "Final number of samples passed = 82\n",
      "TODO implement min/max elevation cutoffs\n"
     ]
    },
    {
     "name": "stderr",
     "output_type": "stream",
     "text": [
      "grdinfo [WARNING]: Guessing of registration in conflict between x and y, using gridline\n",
      "grdtrack [WARNING]: Some input points were outside the grid domain(s).\n"
     ]
    },
    {
     "name": "stdout",
     "output_type": "stream",
     "text": [
      "60\n",
      "Number of samples after basic filtering 119\n",
      "Number of samples with 55<=sio2<=70 = 88\n",
      "Number of these samples with 1<=mgo<=4 = 80\n",
      "Number of these samples with 0.05<=rb/sr<=0.25 = 22\n",
      "Final number of samples passed = 22\n",
      "TODO implement min/max elevation cutoffs\n"
     ]
    },
    {
     "name": "stderr",
     "output_type": "stream",
     "text": [
      "grdinfo [WARNING]: Guessing of registration in conflict between x and y, using gridline\n",
      "grdtrack [WARNING]: Some input points were outside the grid domain(s).\n"
     ]
    },
    {
     "name": "stdout",
     "output_type": "stream",
     "text": [
      "70\n",
      "Number of samples after basic filtering 126\n",
      "Number of samples with 55<=sio2<=70 = 60\n",
      "Number of these samples with 1<=mgo<=4 = 45\n",
      "Number of these samples with 0.05<=rb/sr<=0.25 = 25\n",
      "Final number of samples passed = 25\n",
      "TODO implement min/max elevation cutoffs\n"
     ]
    },
    {
     "name": "stderr",
     "output_type": "stream",
     "text": [
      "grdinfo [WARNING]: Guessing of registration in conflict between x and y, using gridline\n",
      "grdtrack [WARNING]: Some input points were outside the grid domain(s).\n"
     ]
    },
    {
     "name": "stdout",
     "output_type": "stream",
     "text": [
      "80\n",
      "Number of samples after basic filtering 587\n",
      "Number of samples with 55<=sio2<=70 = 310\n",
      "Number of these samples with 1<=mgo<=4 = 247\n",
      "Number of these samples with 0.05<=rb/sr<=0.25 = 113\n",
      "Final number of samples passed = 113\n",
      "TODO implement min/max elevation cutoffs\n"
     ]
    },
    {
     "name": "stderr",
     "output_type": "stream",
     "text": [
      "grdinfo [WARNING]: Guessing of registration in conflict between x and y, using gridline\n",
      "grdtrack [WARNING]: Some input points were outside the grid domain(s).\n"
     ]
    },
    {
     "name": "stdout",
     "output_type": "stream",
     "text": [
      "10\n",
      "Number of samples after basic filtering 231\n",
      "Number of samples with 55<=sio2<=70 = 86\n",
      "Number of these samples with 1<=mgo<=4 = 74\n",
      "Number of these samples with 0.05<=rb/sr<=0.25 = 38\n",
      "Final number of samples passed = 38\n",
      "TODO implement min/max elevation cutoffs\n"
     ]
    },
    {
     "name": "stderr",
     "output_type": "stream",
     "text": [
      "grdinfo [WARNING]: Guessing of registration in conflict between x and y, using gridline\n",
      "grdtrack [WARNING]: Some input points were outside the grid domain(s).\n"
     ]
    },
    {
     "name": "stdout",
     "output_type": "stream",
     "text": [
      "20\n",
      "Number of samples after basic filtering 409\n",
      "Number of samples with 55<=sio2<=70 = 112\n",
      "Number of these samples with 1<=mgo<=4 = 69\n",
      "Number of these samples with 0.05<=rb/sr<=0.25 = 32\n",
      "Final number of samples passed = 32\n",
      "TODO implement min/max elevation cutoffs\n"
     ]
    },
    {
     "name": "stderr",
     "output_type": "stream",
     "text": [
      "grdinfo [WARNING]: Guessing of registration in conflict between x and y, using gridline\n",
      "grdtrack [WARNING]: Some input points were outside the grid domain(s).\n"
     ]
    },
    {
     "name": "stdout",
     "output_type": "stream",
     "text": [
      "30\n",
      "Number of samples after basic filtering 91\n",
      "Number of samples with 55<=sio2<=70 = 54\n",
      "Number of these samples with 1<=mgo<=4 = 44\n",
      "Number of these samples with 0.05<=rb/sr<=0.25 = 21\n",
      "Final number of samples passed = 21\n",
      "TODO implement min/max elevation cutoffs\n"
     ]
    },
    {
     "name": "stderr",
     "output_type": "stream",
     "text": [
      "grdinfo [WARNING]: Guessing of registration in conflict between x and y, using gridline\n",
      "grdtrack [WARNING]: Some input points were outside the grid domain(s).\n"
     ]
    },
    {
     "name": "stdout",
     "output_type": "stream",
     "text": [
      "40\n",
      "Number of samples after basic filtering 128\n",
      "Number of samples with 55<=sio2<=70 = 77\n",
      "Number of these samples with 1<=mgo<=4 = 68\n",
      "Number of these samples with 0.05<=rb/sr<=0.25 = 48\n",
      "Final number of samples passed = 48\n",
      "TODO implement min/max elevation cutoffs\n"
     ]
    },
    {
     "name": "stderr",
     "output_type": "stream",
     "text": [
      "grdinfo [WARNING]: Guessing of registration in conflict between x and y, using gridline\n"
     ]
    },
    {
     "name": "stdout",
     "output_type": "stream",
     "text": [
      "50\n",
      "Number of samples after basic filtering 131\n",
      "Number of samples with 55<=sio2<=70 = 108\n",
      "Number of these samples with 1<=mgo<=4 = 99\n",
      "Number of these samples with 0.05<=rb/sr<=0.25 = 82\n",
      "Final number of samples passed = 82\n",
      "TODO implement min/max elevation cutoffs\n"
     ]
    },
    {
     "name": "stderr",
     "output_type": "stream",
     "text": [
      "grdinfo [WARNING]: Guessing of registration in conflict between x and y, using gridline\n",
      "grdtrack [WARNING]: Some input points were outside the grid domain(s).\n"
     ]
    },
    {
     "name": "stdout",
     "output_type": "stream",
     "text": [
      "60\n",
      "Number of samples after basic filtering 119\n",
      "Number of samples with 55<=sio2<=70 = 88\n",
      "Number of these samples with 1<=mgo<=4 = 80\n",
      "Number of these samples with 0.05<=rb/sr<=0.25 = 22\n",
      "Final number of samples passed = 22\n",
      "TODO implement min/max elevation cutoffs\n"
     ]
    },
    {
     "name": "stderr",
     "output_type": "stream",
     "text": [
      "grdinfo [WARNING]: Guessing of registration in conflict between x and y, using gridline\n",
      "grdtrack [WARNING]: Some input points were outside the grid domain(s).\n"
     ]
    },
    {
     "name": "stdout",
     "output_type": "stream",
     "text": [
      "70\n",
      "Number of samples after basic filtering 126\n",
      "Number of samples with 55<=sio2<=70 = 60\n",
      "Number of these samples with 1<=mgo<=4 = 45\n",
      "Number of these samples with 0.05<=rb/sr<=0.25 = 25\n",
      "Final number of samples passed = 25\n",
      "TODO implement min/max elevation cutoffs\n"
     ]
    },
    {
     "name": "stderr",
     "output_type": "stream",
     "text": [
      "grdinfo [WARNING]: Guessing of registration in conflict between x and y, using gridline\n",
      "grdtrack [WARNING]: Some input points were outside the grid domain(s).\n"
     ]
    },
    {
     "name": "stdout",
     "output_type": "stream",
     "text": [
      "80\n",
      "Number of samples after basic filtering 587\n",
      "Number of these samples with a valid sio2 = 418\n",
      "Number of these samples with major element sum > 98%= 235\n",
      "Final number of samples passed = 235\n",
      "TODO implement min/max elevation cutoffs\n"
     ]
    },
    {
     "name": "stderr",
     "output_type": "stream",
     "text": [
      "grdinfo [WARNING]: Guessing of registration in conflict between x and y, using gridline\n",
      "grdtrack [WARNING]: Some input points were outside the grid domain(s).\n"
     ]
    },
    {
     "name": "stdout",
     "output_type": "stream",
     "text": [
      "10\n",
      "Number of samples after basic filtering 231\n",
      "Number of these samples with a valid sio2 = 145\n",
      "Number of these samples with major element sum > 98%= 91\n",
      "Final number of samples passed = 91\n",
      "TODO implement min/max elevation cutoffs\n"
     ]
    },
    {
     "name": "stderr",
     "output_type": "stream",
     "text": [
      "grdinfo [WARNING]: Guessing of registration in conflict between x and y, using gridline\n",
      "grdtrack [WARNING]: Some input points were outside the grid domain(s).\n"
     ]
    },
    {
     "name": "stdout",
     "output_type": "stream",
     "text": [
      "20\n",
      "Number of samples after basic filtering 409\n",
      "Number of these samples with a valid sio2 = 177\n",
      "Number of these samples with major element sum > 98%= 30\n",
      "Final number of samples passed = 30\n",
      "TODO implement min/max elevation cutoffs\n"
     ]
    },
    {
     "name": "stderr",
     "output_type": "stream",
     "text": [
      "grdinfo [WARNING]: Guessing of registration in conflict between x and y, using gridline\n",
      "grdtrack [WARNING]: Some input points were outside the grid domain(s).\n"
     ]
    },
    {
     "name": "stdout",
     "output_type": "stream",
     "text": [
      "30\n",
      "Number of samples after basic filtering 91\n",
      "Number of these samples with a valid sio2 = 87\n",
      "Number of these samples with major element sum > 98%= 37\n",
      "Final number of samples passed = 37\n",
      "TODO implement min/max elevation cutoffs\n"
     ]
    },
    {
     "name": "stderr",
     "output_type": "stream",
     "text": [
      "grdinfo [WARNING]: Guessing of registration in conflict between x and y, using gridline\n",
      "grdtrack [WARNING]: Some input points were outside the grid domain(s).\n"
     ]
    },
    {
     "name": "stdout",
     "output_type": "stream",
     "text": [
      "40\n",
      "Number of samples after basic filtering 128\n",
      "Number of these samples with a valid sio2 = 126\n",
      "Number of these samples with major element sum > 98%= 43\n",
      "Final number of samples passed = 43\n",
      "TODO implement min/max elevation cutoffs\n"
     ]
    },
    {
     "name": "stderr",
     "output_type": "stream",
     "text": [
      "grdinfo [WARNING]: Guessing of registration in conflict between x and y, using gridline\n"
     ]
    },
    {
     "name": "stdout",
     "output_type": "stream",
     "text": [
      "50\n",
      "Number of samples after basic filtering 131\n",
      "Number of these samples with a valid sio2 = 125\n",
      "Number of these samples with major element sum > 98%= 51\n",
      "Final number of samples passed = 51\n",
      "TODO implement min/max elevation cutoffs\n"
     ]
    },
    {
     "name": "stderr",
     "output_type": "stream",
     "text": [
      "grdinfo [WARNING]: Guessing of registration in conflict between x and y, using gridline\n",
      "grdtrack [WARNING]: Some input points were outside the grid domain(s).\n"
     ]
    },
    {
     "name": "stdout",
     "output_type": "stream",
     "text": [
      "60\n",
      "Number of samples after basic filtering 119\n",
      "Number of these samples with a valid sio2 = 107\n",
      "Number of these samples with major element sum > 98%= 64\n",
      "Final number of samples passed = 64\n",
      "TODO implement min/max elevation cutoffs\n"
     ]
    },
    {
     "name": "stderr",
     "output_type": "stream",
     "text": [
      "grdinfo [WARNING]: Guessing of registration in conflict between x and y, using gridline\n",
      "grdtrack [WARNING]: Some input points were outside the grid domain(s).\n"
     ]
    },
    {
     "name": "stdout",
     "output_type": "stream",
     "text": [
      "70\n",
      "Number of samples after basic filtering 126\n",
      "Number of these samples with a valid sio2 = 106\n",
      "Number of these samples with major element sum > 98%= 46\n",
      "Final number of samples passed = 46\n",
      "TODO implement min/max elevation cutoffs\n"
     ]
    },
    {
     "name": "stderr",
     "output_type": "stream",
     "text": [
      "grdinfo [WARNING]: Guessing of registration in conflict between x and y, using gridline\n",
      "grdtrack [WARNING]: Some input points were outside the grid domain(s).\n"
     ]
    },
    {
     "name": "stdout",
     "output_type": "stream",
     "text": [
      "80\n",
      "Number of samples after basic filtering 587\n",
      "Number of these samples with a valid sio2 = 418\n",
      "Number of these samples with major element sum > 98%= 235\n",
      "Final number of samples passed = 235\n",
      "TODO implement min/max elevation cutoffs\n"
     ]
    },
    {
     "name": "stderr",
     "output_type": "stream",
     "text": [
      "grdinfo [WARNING]: Guessing of registration in conflict between x and y, using gridline\n",
      "grdtrack [WARNING]: Some input points were outside the grid domain(s).\n"
     ]
    },
    {
     "name": "stdout",
     "output_type": "stream",
     "text": [
      "10\n",
      "Number of samples after basic filtering 231\n",
      "Number of these samples with a valid sio2 = 145\n",
      "Number of these samples with major element sum > 98%= 91\n",
      "Final number of samples passed = 91\n",
      "TODO implement min/max elevation cutoffs\n"
     ]
    },
    {
     "name": "stderr",
     "output_type": "stream",
     "text": [
      "grdinfo [WARNING]: Guessing of registration in conflict between x and y, using gridline\n",
      "grdtrack [WARNING]: Some input points were outside the grid domain(s).\n"
     ]
    },
    {
     "name": "stdout",
     "output_type": "stream",
     "text": [
      "20\n",
      "Number of samples after basic filtering 409\n",
      "Number of these samples with a valid sio2 = 177\n",
      "Number of these samples with major element sum > 98%= 30\n",
      "Final number of samples passed = 30\n",
      "TODO implement min/max elevation cutoffs\n"
     ]
    },
    {
     "name": "stderr",
     "output_type": "stream",
     "text": [
      "grdinfo [WARNING]: Guessing of registration in conflict between x and y, using gridline\n",
      "grdtrack [WARNING]: Some input points were outside the grid domain(s).\n"
     ]
    },
    {
     "name": "stdout",
     "output_type": "stream",
     "text": [
      "30\n",
      "Number of samples after basic filtering 91\n",
      "Number of these samples with a valid sio2 = 87\n",
      "Number of these samples with major element sum > 98%= 37\n",
      "Final number of samples passed = 37\n",
      "TODO implement min/max elevation cutoffs\n"
     ]
    },
    {
     "name": "stderr",
     "output_type": "stream",
     "text": [
      "grdinfo [WARNING]: Guessing of registration in conflict between x and y, using gridline\n",
      "grdtrack [WARNING]: Some input points were outside the grid domain(s).\n"
     ]
    },
    {
     "name": "stdout",
     "output_type": "stream",
     "text": [
      "40\n",
      "Number of samples after basic filtering 128\n",
      "Number of these samples with a valid sio2 = 126\n",
      "Number of these samples with major element sum > 98%= 43\n",
      "Final number of samples passed = 43\n",
      "TODO implement min/max elevation cutoffs\n"
     ]
    },
    {
     "name": "stderr",
     "output_type": "stream",
     "text": [
      "grdinfo [WARNING]: Guessing of registration in conflict between x and y, using gridline\n"
     ]
    },
    {
     "name": "stdout",
     "output_type": "stream",
     "text": [
      "50\n",
      "Number of samples after basic filtering 131\n",
      "Number of these samples with a valid sio2 = 125\n",
      "Number of these samples with major element sum > 98%= 51\n",
      "Final number of samples passed = 51\n",
      "TODO implement min/max elevation cutoffs\n"
     ]
    },
    {
     "name": "stderr",
     "output_type": "stream",
     "text": [
      "grdinfo [WARNING]: Guessing of registration in conflict between x and y, using gridline\n",
      "grdtrack [WARNING]: Some input points were outside the grid domain(s).\n"
     ]
    },
    {
     "name": "stdout",
     "output_type": "stream",
     "text": [
      "60\n",
      "Number of samples after basic filtering 119\n",
      "Number of these samples with a valid sio2 = 107\n",
      "Number of these samples with major element sum > 98%= 64\n",
      "Final number of samples passed = 64\n",
      "TODO implement min/max elevation cutoffs\n"
     ]
    },
    {
     "name": "stderr",
     "output_type": "stream",
     "text": [
      "grdinfo [WARNING]: Guessing of registration in conflict between x and y, using gridline\n",
      "grdtrack [WARNING]: Some input points were outside the grid domain(s).\n"
     ]
    },
    {
     "name": "stdout",
     "output_type": "stream",
     "text": [
      "70\n",
      "Number of samples after basic filtering 126\n",
      "Number of these samples with a valid sio2 = 106\n",
      "Number of these samples with major element sum > 98%= 46\n",
      "Final number of samples passed = 46\n",
      "TODO implement min/max elevation cutoffs\n"
     ]
    },
    {
     "name": "stderr",
     "output_type": "stream",
     "text": [
      "grdinfo [WARNING]: Guessing of registration in conflict between x and y, using gridline\n",
      "grdtrack [WARNING]: Some input points were outside the grid domain(s).\n"
     ]
    },
    {
     "name": "stdout",
     "output_type": "stream",
     "text": [
      "80\n"
     ]
    }
   ],
   "source": [
    "###########################################\n",
    "#MODEL = PaleomapDictionary\n",
    "MODEL = BoschmanDictionary\n",
    "###########################################\n",
    "region = [-85, -55, -58, 12]\n",
    "#region = [-76, -66, -25, -12]\n",
    "projection=\"M10c\"\n",
    "perspective = [240, 35]\n",
    "\n",
    "###########################################\n",
    "\n",
    "\n",
    "\n",
    "time_bin_size = 10\n",
    "space_bin_size = 1.\n",
    "\n",
    "\n",
    "plot_calibrations = [\n",
    "    ('luffi', 41),\n",
    "    ('luffi', 'la_yb_elevation'),\n",
    "    ('Hu', 'la_yb_elevation'),\n",
    "    ('Hu', 'sr_y_elevation'),\n",
    "    ('FarnerLee', 'la_yb_elevation'),\n",
    "    ('FarnerLee', 'gd_yb_elevation')\n",
    "]\n",
    "\n",
    "\n",
    "anchor_plate_id = MODEL['anchor_plate_id']\n",
    "raster_anchor_plate_id = MODEL['raster_anchor_plate_id']\n",
    "\n",
    "reconstruction_model = MODEL['reconstruction_model']\n",
    "raster_sequence = MODEL['raster_sequence']\n",
    "\n",
    "\n",
    "\n",
    "for calibration, mohometer_selection in plot_calibrations:\n",
    "\n",
    "    if isinstance(mohometer_selection, list):\n",
    "        mohometer_description_string = '|'.join(mohometer_selection)\n",
    "    else:\n",
    "        mohometer_description_string = str(mohometer_selection)\n",
    "\n",
    "\n",
    "\n",
    "\n",
    "    fig = pygmt.Figure()\n",
    "\n",
    "    for reconstruction_time in np.arange(10,41,time_bin_size): \n",
    "\n",
    "        binned_elevations = joymap.timeslice_plot(df, reconstruction_time,\n",
    "                                                      time_bin_size, space_bin_size, \n",
    "                                                      fig, reconstruction_model, raster_sequence, \n",
    "                                                      anchor_plate_id=anchor_plate_id, raster_anchor_plate_id=raster_anchor_plate_id,\n",
    "                                                      gc_interpolator_dict=gc_interpolator_dict, \n",
    "                                                      calibration=calibration, mohometer_selection=mohometer_selection,\n",
    "                                                      column_marker_size='0.2c',\n",
    "                                                      region=region, projection=projection, perspective=perspective, \n",
    "                                                      volcanics=pilger_volcanics, return_type='binned_elevations')\n",
    "\n",
    "        joymap.add_labels(fig, reconstruction_time, x=2.6, y=0.8, add_colorbar=False)\n",
    "\n",
    "        fig.shift_origin(yshift='-11c')\n",
    "\n",
    "\n",
    "    fig.shift_origin(yshift='44c', xshift='32c')\n",
    "\n",
    "    for reconstruction_time in np.arange(50,81,time_bin_size):\n",
    "        binned_elevations = joymap.timeslice_plot(df, reconstruction_time,\n",
    "                                                      time_bin_size, space_bin_size, \n",
    "                                                      fig, reconstruction_model, raster_sequence, \n",
    "                                                      anchor_plate_id=anchor_plate_id, raster_anchor_plate_id=raster_anchor_plate_id,\n",
    "                                                      gc_interpolator_dict=gc_interpolator_dict, \n",
    "                                                      calibration=calibration, mohometer_selection=mohometer_selection,\n",
    "                                                      column_marker_size='0.2c',\n",
    "                                                      region=region, projection=projection, perspective=perspective, \n",
    "                                                      volcanics=pilger_volcanics, return_type='binned_elevations')\n",
    "\n",
    "        joymap.add_labels(fig, reconstruction_time, x=2.6, y=0.8, add_colorbar=False)\n",
    "\n",
    "        fig.shift_origin(yshift='-11c')\n",
    "\n",
    "\n",
    "    fig.shift_origin(yshift='8c', xshift='-8c')\n",
    "    with pygmt.config(FONT_ANNOT_PRIMARY='36p', FONT_LABEL='48p'):\n",
    "        fig.colorbar(position='JBC+jBC+o0c+w32c/1.6c+h', frame=['x+lElevation [m]'])\n",
    "\n",
    "    fig.savefig('../images/elevation_vs_{:s}_perspective_{:s}_{:s}.png'.format(MODEL['name'],\n",
    "                                                                               calibration,\n",
    "                                                                               mohometer_description_string))\n",
    "#fig.show(width=1000)\n"
   ]
  },
  {
   "cell_type": "code",
   "execution_count": null,
   "id": "d5be5318-5ee4-47b2-8d23-b3066c3e13e7",
   "metadata": {},
   "outputs": [],
   "source": []
  }
 ],
 "metadata": {
  "kernelspec": {
   "display_name": "Python [conda env:pygmt10]",
   "language": "python",
   "name": "conda-env-pygmt10-py"
  },
  "language_info": {
   "codemirror_mode": {
    "name": "ipython",
    "version": 3
   },
   "file_extension": ".py",
   "mimetype": "text/x-python",
   "name": "python",
   "nbconvert_exporter": "python",
   "pygments_lexer": "ipython3",
   "version": "3.10.13"
  }
 },
 "nbformat": 4,
 "nbformat_minor": 5
}
