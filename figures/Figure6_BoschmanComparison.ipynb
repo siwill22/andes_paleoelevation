{
 "cells": [
  {
   "cell_type": "code",
   "execution_count": 3,
   "id": "74ea24e9-9bc3-4159-836f-fc2dc5a283cb",
   "metadata": {},
   "outputs": [
    {
     "name": "stdout",
     "output_type": "stream",
     "text": [
      "The autoreload extension is already loaded. To reload it, use:\n",
      "  %reload_ext autoreload\n"
     ]
    },
    {
     "name": "stderr",
     "output_type": "stream",
     "text": [
      "pygmt-session [WARNING]: Remote dataset given to a data processing module but no registration was specified - default to gridline registration (if available)\n"
     ]
    }
   ],
   "source": [
    "import numpy as np\n",
    "import pandas as pd\n",
    "import geopandas as gpd\n",
    "import matplotlib.pyplot as plt\n",
    "import pygplates\n",
    "import pygmt\n",
    "import xarray as xr\n",
    "import seaborn as sns\n",
    "\n",
    "from scipy.stats import median_abs_deviation\n",
    "\n",
    "from gprm.datasets import Rocks, Reconstructions, Paleogeography\n",
    "#from gprm import PointDistributionOnSphere\n",
    "#from gprm.utils.sphere import groupby_healpix, plot_groups\n",
    "from gprm.utils.raster import to_anchor_plate\n",
    "\n",
    "import sys\n",
    "#sys.path.append('/Users/simon/OneDrive/Andes_works//python/')\n",
    "sys.path.append('../python/')\n",
    "import joyful_geochemistry as joy\n",
    "import joyful_mapping as joymap\n",
    "#import time_series as ts\n",
    "\n",
    "%matplotlib inline\n",
    "%load_ext autoreload\n",
    "%autoreload 2\n",
    "\n",
    "import matplotlib as mpl\n",
    "mpl.rc('font',family='Helvetica')\n",
    "mpl.rcParams['axes.linewidth'] = 2\n",
    "mpl.rcParams['xtick.major.width'] = 2\n",
    "mpl.rcParams['ytick.major.width'] = 2\n",
    "\n",
    "import warnings\n",
    "from pandas.core.common import SettingWithCopyWarning\n",
    "warnings.simplefilter(action=\"ignore\", category=SettingWithCopyWarning)\n",
    "warnings.filterwarnings(action='ignore', message='All-NaN axis encountered')\n",
    "\n",
    "\n",
    "#Paleomap = Reconstructions.fetch_Scotese()\n",
    "#PaleoDEM = Paleogeography.fetch_Paleomap()\n",
    "import collections\n",
    "from gprm import ReconstructionModel\n",
    "\n",
    "boschman_rotation_model = ReconstructionModel('')\n",
    "boschman_rotation_model.add_rotation_model('/Users/simon/GIT/bx/andes//boschman/reconstruction_model/boschman_reverse_engineered_rotations.rot')\n",
    "boschman_rotation_model.add_static_polygons('/Users/simon/GIT/bx/andes//boschman/reconstruction_model/reconstructed_0.00Ma.shp')\n",
    "\n",
    "raster_dict = {}\n",
    "for reconstruction_time in np.arange(0,81,1):\n",
    "    raster_dict[reconstruction_time] = '/Users/simon/GIT/bx/andes//boschman/grids/boschman_DEM_{:0.0f}Ma.nc'.format(reconstruction_time)\n",
    "\n",
    "boschman_rasters = collections.OrderedDict(sorted(raster_dict.items()))\n",
    "\n",
    "\n",
    "\n",
    "df = joy.geochem_from_csv('../datafiles/geochem_merge_20221026.csv',\n",
    "                          longitude_field_name='Longitude', latitude_field_name='Latitude')\n",
    "\n",
    "model_dir = '../luffi/REM_surfaces_csv/'\n",
    "gc_interpolator_dict = joy.make_gc_interpolator_dict(model_dir)\n",
    "\n",
    "\n",
    "region = [-80,-50,-40,-10]\n",
    "present_day_topography = pygmt.datasets.load_earth_relief(resolution='02m', region=region)\n",
    "\n",
    "\n",
    "boschman_polygons = gpd.read_file('/Users/simon/GIT/bx/andes_paper/boschman/reconstruction_model/reconstructed_0.00Ma.shp')\n",
    "\n",
    "#boschman_polygons.plot()"
   ]
  },
  {
   "cell_type": "code",
   "execution_count": 4,
   "id": "8f715954-950b-48a2-ad65-599c4421246b",
   "metadata": {},
   "outputs": [
    {
     "name": "stdout",
     "output_type": "stream",
     "text": [
      "['Western Cordillera - C' 'Altiplano - C' 'Eastern Puna - C'\n",
      " 'Western Puna - C' 'Puna - C' 'Estern Puna - C' 'Eastern Cordillera - C']\n",
      "[nan 'GPlates-cc221f9a-b81c-4590-929d-7ff88905fe6d'\n",
      " 'GPlates-b3771664-dd72-4e88-badb-e92f4e6dd96a'\n",
      " 'GPlates-24d8ed85-d32e-4e66-b03f-fd5b176d2c6a'\n",
      " 'GPlates-23a60a2d-39b5-4346-a260-24e3dc960c94'\n",
      " 'GPlates-f9464e82-d349-402e-8b5e-3df7b2e019a4'\n",
      " 'GPlates-39186b26-7fab-48cf-9752-f1ac439c1e38']\n"
     ]
    }
   ],
   "source": [
    "from matplotlib.collections import PatchCollection\n",
    "from matplotlib.patches import Rectangle\n",
    "\n",
    "def make_error_boxes(ax, xdata, ydata, xerror, yerror, facecolor='r',\n",
    "                     edgecolor='None', alpha=0.5):\n",
    "\n",
    "    # Create list for all the error patches\n",
    "    errorboxes = []\n",
    "\n",
    "    # Loop over data points; create box from errors at each point\n",
    "    for x, y, xe, ye in zip(xdata, ydata, xerror.T, yerror.T):\n",
    "        rect = Rectangle((x - xe, y - ye), xe*2, ye*2)\n",
    "        errorboxes.append(rect)\n",
    "\n",
    "    # Create patch collection with specified colour/alpha\n",
    "    pc = PatchCollection(errorboxes, facecolor=facecolor, alpha=alpha,\n",
    "                         edgecolor=edgecolor)\n",
    "\n",
    "    # Add collection to axes\n",
    "    ax.add_collection(pc)\n",
    "\n",
    "    \n",
    "def add_error_boxes(ax, subset):\n",
    "\n",
    "    for method in method_dictionary:\n",
    "        subsubset = subset[subset['Method Category']==method]\n",
    "        x=(subsubset['Age_min']+subset['Age_max'])/2\n",
    "        y=(subsubset['Elevation_min']+subset['Elevation_max'])/2\n",
    "        xerr=(subset['Age_max']-subset['Age_min'])/2\n",
    "        yerr=(subset['Elevation_max']-subset['Elevation_min'])/2\n",
    "\n",
    "        ax.plot(x, y, '.', color=method_dictionary[method], label=method)\n",
    "        ax.errorbar(x, y, xerr=xerr, yerr=yerr, elinewidth=3, alpha=0.5,\n",
    "                    fmt='.', color=method_dictionary[method])\n",
    "\n",
    "        make_error_boxes(ax, np.array(x), np.array(y), np.array(xerr), np.array(yerr), \n",
    "                         facecolor=method_dictionary[method], alpha=0.1)\n",
    "    \n",
    "    \n",
    "    \n",
    "df_Boschman = pd.read_excel('~/OneDrive/Andes_works/datafiles/Boschman_compilation.xlsx', sheet_name='Sheet1')\n",
    "\n",
    "df_Boschman.dropna(subset=['Age_max'], inplace=True)\n",
    "\n",
    "df_Boschman['Method Category'].fillna(value='miscellaneous', inplace=True)\n",
    "\n",
    "method_dictionary = {'stratigraphy': 'orange', \n",
    "                     'miscellaneous': 'purple', \n",
    "                     'isotope paleoaltimetry': 'blue',\n",
    "                     'paleobotany/fossil leaf physiognomy': 'green'}\n",
    "\n",
    "print(df_Boschman.Domain.unique())\n",
    "print(df_Boschman.Polygon_ID.unique())"
   ]
  },
  {
   "cell_type": "code",
   "execution_count": 19,
   "id": "6f3a6597-7cfa-489a-915e-c22a4e757457",
   "metadata": {},
   "outputs": [
    {
     "name": "stdout",
     "output_type": "stream",
     "text": [
      "2595\n",
      "GPlates-7ee2ab84-8574-4532-b63a-90bada6a1d19\n",
      "Number of samples after basic filtering 36\n",
      "Final number of samples passed = 32\n",
      "TODO implement min/max elevation cutoffs\n"
     ]
    },
    {
     "name": "stderr",
     "output_type": "stream",
     "text": [
      "/var/folders/k2/jz_0twls1q13vbr87bqwdtr40000gn/T/ipykernel_7969/1133190962.py:155: FutureWarning: elementwise comparison failed; returning scalar instead, but in the future will perform elementwise comparison\n",
      "  if fid in df_Boschman.dropna(subset='Polygon_ID').Polygon_ID.unique():\n"
     ]
    },
    {
     "name": "stdout",
     "output_type": "stream",
     "text": [
      "Altiplano\n",
      "GPlates-24d8ed85-d32e-4e66-b03f-fd5b176d2c6a\n",
      "Number of samples after basic filtering 124\n",
      "Final number of samples passed = 84\n",
      "TODO implement min/max elevation cutoffs\n"
     ]
    },
    {
     "name": "stderr",
     "output_type": "stream",
     "text": [
      "/var/folders/k2/jz_0twls1q13vbr87bqwdtr40000gn/T/ipykernel_7969/1133190962.py:155: FutureWarning: elementwise comparison failed; returning scalar instead, but in the future will perform elementwise comparison\n",
      "  if fid in df_Boschman.dropna(subset='Polygon_ID').Polygon_ID.unique():\n"
     ]
    },
    {
     "name": "stdout",
     "output_type": "stream",
     "text": [
      "Precordillera/coastal cordillera/forearc\n",
      "GPlates-79c86152-d456-445c-9639-ad48e9cae130\n",
      "Number of samples after basic filtering 62\n",
      "Final number of samples passed = 60\n",
      "TODO implement min/max elevation cutoffs\n"
     ]
    },
    {
     "name": "stderr",
     "output_type": "stream",
     "text": [
      "/var/folders/k2/jz_0twls1q13vbr87bqwdtr40000gn/T/ipykernel_7969/1133190962.py:155: FutureWarning: elementwise comparison failed; returning scalar instead, but in the future will perform elementwise comparison\n",
      "  if fid in df_Boschman.dropna(subset='Polygon_ID').Polygon_ID.unique():\n"
     ]
    },
    {
     "name": "stdout",
     "output_type": "stream",
     "text": [
      "Western Cordillera\n",
      "GPlates-cc221f9a-b81c-4590-929d-7ff88905fe6d\n",
      "Number of samples after basic filtering 76\n",
      "Final number of samples passed = 52\n",
      "TODO implement min/max elevation cutoffs\n"
     ]
    },
    {
     "name": "stderr",
     "output_type": "stream",
     "text": [
      "/var/folders/k2/jz_0twls1q13vbr87bqwdtr40000gn/T/ipykernel_7969/1133190962.py:155: FutureWarning: elementwise comparison failed; returning scalar instead, but in the future will perform elementwise comparison\n",
      "  if fid in df_Boschman.dropna(subset='Polygon_ID').Polygon_ID.unique():\n"
     ]
    },
    {
     "name": "stdout",
     "output_type": "stream",
     "text": [
      "Altiplano\n",
      "GPlates-23a60a2d-39b5-4346-a260-24e3dc960c94\n",
      "Number of samples after basic filtering 39\n",
      "Final number of samples passed = 27\n",
      "TODO implement min/max elevation cutoffs\n"
     ]
    },
    {
     "name": "stderr",
     "output_type": "stream",
     "text": [
      "/var/folders/k2/jz_0twls1q13vbr87bqwdtr40000gn/T/ipykernel_7969/1133190962.py:155: FutureWarning: elementwise comparison failed; returning scalar instead, but in the future will perform elementwise comparison\n",
      "  if fid in df_Boschman.dropna(subset='Polygon_ID').Polygon_ID.unique():\n"
     ]
    },
    {
     "name": "stdout",
     "output_type": "stream",
     "text": [
      "Precordillera/coastal cordillera/forearc\n",
      "GPlates-6b48b619-3774-407a-93e9-f53eadd47137\n",
      "Number of samples after basic filtering 151\n",
      "Final number of samples passed = 139\n",
      "TODO implement min/max elevation cutoffs\n"
     ]
    },
    {
     "name": "stderr",
     "output_type": "stream",
     "text": [
      "/var/folders/k2/jz_0twls1q13vbr87bqwdtr40000gn/T/ipykernel_7969/1133190962.py:155: FutureWarning: elementwise comparison failed; returning scalar instead, but in the future will perform elementwise comparison\n",
      "  if fid in df_Boschman.dropna(subset='Polygon_ID').Polygon_ID.unique():\n"
     ]
    },
    {
     "name": "stdout",
     "output_type": "stream",
     "text": [
      "Western Cordillera\n",
      "GPlates-b3771664-dd72-4e88-badb-e92f4e6dd96a\n",
      "Number of samples after basic filtering 332\n",
      "Final number of samples passed = 267\n",
      "TODO implement min/max elevation cutoffs\n"
     ]
    },
    {
     "name": "stderr",
     "output_type": "stream",
     "text": [
      "/var/folders/k2/jz_0twls1q13vbr87bqwdtr40000gn/T/ipykernel_7969/1133190962.py:155: FutureWarning: elementwise comparison failed; returning scalar instead, but in the future will perform elementwise comparison\n",
      "  if fid in df_Boschman.dropna(subset='Polygon_ID').Polygon_ID.unique():\n"
     ]
    },
    {
     "name": "stdout",
     "output_type": "stream",
     "text": [
      "Puna\n",
      "GPlates-39186b26-7fab-48cf-9752-f1ac439c1e38\n",
      "Number of samples after basic filtering 164\n",
      "Final number of samples passed = 122\n",
      "TODO implement min/max elevation cutoffs\n"
     ]
    },
    {
     "name": "stderr",
     "output_type": "stream",
     "text": [
      "/var/folders/k2/jz_0twls1q13vbr87bqwdtr40000gn/T/ipykernel_7969/1133190962.py:155: FutureWarning: elementwise comparison failed; returning scalar instead, but in the future will perform elementwise comparison\n",
      "  if fid in df_Boschman.dropna(subset='Polygon_ID').Polygon_ID.unique():\n"
     ]
    },
    {
     "name": "stdout",
     "output_type": "stream",
     "text": [
      "Precordillera/coastal cordillera/forearc\n",
      "GPlates-22aa7316-c1b2-4940-a0ee-cd1ba8f76311\n",
      "Number of samples after basic filtering 144\n",
      "Final number of samples passed = 54\n",
      "TODO implement min/max elevation cutoffs\n"
     ]
    },
    {
     "name": "stderr",
     "output_type": "stream",
     "text": [
      "/var/folders/k2/jz_0twls1q13vbr87bqwdtr40000gn/T/ipykernel_7969/1133190962.py:155: FutureWarning: elementwise comparison failed; returning scalar instead, but in the future will perform elementwise comparison\n",
      "  if fid in df_Boschman.dropna(subset='Polygon_ID').Polygon_ID.unique():\n"
     ]
    },
    {
     "name": "stdout",
     "output_type": "stream",
     "text": [
      "Western Cordillera\n",
      "GPlates-bc8139a3-0f87-4387-a655-432aab84dea6\n",
      "Number of samples after basic filtering 59\n",
      "Final number of samples passed = 40\n",
      "TODO implement min/max elevation cutoffs\n"
     ]
    },
    {
     "name": "stderr",
     "output_type": "stream",
     "text": [
      "/var/folders/k2/jz_0twls1q13vbr87bqwdtr40000gn/T/ipykernel_7969/1133190962.py:155: FutureWarning: elementwise comparison failed; returning scalar instead, but in the future will perform elementwise comparison\n",
      "  if fid in df_Boschman.dropna(subset='Polygon_ID').Polygon_ID.unique():\n"
     ]
    },
    {
     "name": "stdout",
     "output_type": "stream",
     "text": [
      "Puna\n",
      "GPlates-f9464e82-d349-402e-8b5e-3df7b2e019a4\n",
      "Number of samples after basic filtering 68\n",
      "Final number of samples passed = 49\n",
      "TODO implement min/max elevation cutoffs\n"
     ]
    },
    {
     "name": "stderr",
     "output_type": "stream",
     "text": [
      "/var/folders/k2/jz_0twls1q13vbr87bqwdtr40000gn/T/ipykernel_7969/1133190962.py:155: FutureWarning: elementwise comparison failed; returning scalar instead, but in the future will perform elementwise comparison\n",
      "  if fid in df_Boschman.dropna(subset='Polygon_ID').Polygon_ID.unique():\n"
     ]
    },
    {
     "name": "stdout",
     "output_type": "stream",
     "text": [
      "2595\n",
      "GPlates-7ee2ab84-8574-4532-b63a-90bada6a1d19\n",
      "Number of samples after basic filtering 36\n",
      "Final number of samples passed = 32\n",
      "TODO implement min/max elevation cutoffs\n"
     ]
    },
    {
     "name": "stderr",
     "output_type": "stream",
     "text": [
      "/var/folders/k2/jz_0twls1q13vbr87bqwdtr40000gn/T/ipykernel_7969/1133190962.py:155: FutureWarning: elementwise comparison failed; returning scalar instead, but in the future will perform elementwise comparison\n",
      "  if fid in df_Boschman.dropna(subset='Polygon_ID').Polygon_ID.unique():\n"
     ]
    },
    {
     "name": "stdout",
     "output_type": "stream",
     "text": [
      "Altiplano\n",
      "GPlates-24d8ed85-d32e-4e66-b03f-fd5b176d2c6a\n",
      "Number of samples after basic filtering 124\n",
      "Final number of samples passed = 84\n",
      "TODO implement min/max elevation cutoffs\n"
     ]
    },
    {
     "name": "stderr",
     "output_type": "stream",
     "text": [
      "/var/folders/k2/jz_0twls1q13vbr87bqwdtr40000gn/T/ipykernel_7969/1133190962.py:155: FutureWarning: elementwise comparison failed; returning scalar instead, but in the future will perform elementwise comparison\n",
      "  if fid in df_Boschman.dropna(subset='Polygon_ID').Polygon_ID.unique():\n"
     ]
    },
    {
     "name": "stdout",
     "output_type": "stream",
     "text": [
      "Precordillera/coastal cordillera/forearc\n",
      "GPlates-79c86152-d456-445c-9639-ad48e9cae130\n",
      "Number of samples after basic filtering 62\n",
      "Final number of samples passed = 60\n",
      "TODO implement min/max elevation cutoffs\n"
     ]
    },
    {
     "name": "stderr",
     "output_type": "stream",
     "text": [
      "/var/folders/k2/jz_0twls1q13vbr87bqwdtr40000gn/T/ipykernel_7969/1133190962.py:155: FutureWarning: elementwise comparison failed; returning scalar instead, but in the future will perform elementwise comparison\n",
      "  if fid in df_Boschman.dropna(subset='Polygon_ID').Polygon_ID.unique():\n"
     ]
    },
    {
     "name": "stdout",
     "output_type": "stream",
     "text": [
      "Western Cordillera\n",
      "GPlates-cc221f9a-b81c-4590-929d-7ff88905fe6d\n",
      "Number of samples after basic filtering 76\n",
      "Final number of samples passed = 52\n",
      "TODO implement min/max elevation cutoffs\n"
     ]
    },
    {
     "name": "stderr",
     "output_type": "stream",
     "text": [
      "/var/folders/k2/jz_0twls1q13vbr87bqwdtr40000gn/T/ipykernel_7969/1133190962.py:155: FutureWarning: elementwise comparison failed; returning scalar instead, but in the future will perform elementwise comparison\n",
      "  if fid in df_Boschman.dropna(subset='Polygon_ID').Polygon_ID.unique():\n"
     ]
    },
    {
     "name": "stdout",
     "output_type": "stream",
     "text": [
      "Altiplano\n",
      "GPlates-23a60a2d-39b5-4346-a260-24e3dc960c94\n",
      "Number of samples after basic filtering 39\n",
      "Final number of samples passed = 27\n",
      "TODO implement min/max elevation cutoffs\n"
     ]
    },
    {
     "name": "stderr",
     "output_type": "stream",
     "text": [
      "/var/folders/k2/jz_0twls1q13vbr87bqwdtr40000gn/T/ipykernel_7969/1133190962.py:155: FutureWarning: elementwise comparison failed; returning scalar instead, but in the future will perform elementwise comparison\n",
      "  if fid in df_Boschman.dropna(subset='Polygon_ID').Polygon_ID.unique():\n"
     ]
    },
    {
     "name": "stdout",
     "output_type": "stream",
     "text": [
      "Precordillera/coastal cordillera/forearc\n",
      "GPlates-6b48b619-3774-407a-93e9-f53eadd47137\n",
      "Number of samples after basic filtering 151\n",
      "Final number of samples passed = 139\n",
      "TODO implement min/max elevation cutoffs\n"
     ]
    },
    {
     "name": "stderr",
     "output_type": "stream",
     "text": [
      "/var/folders/k2/jz_0twls1q13vbr87bqwdtr40000gn/T/ipykernel_7969/1133190962.py:155: FutureWarning: elementwise comparison failed; returning scalar instead, but in the future will perform elementwise comparison\n",
      "  if fid in df_Boschman.dropna(subset='Polygon_ID').Polygon_ID.unique():\n"
     ]
    },
    {
     "name": "stdout",
     "output_type": "stream",
     "text": [
      "Western Cordillera\n",
      "GPlates-b3771664-dd72-4e88-badb-e92f4e6dd96a\n",
      "Number of samples after basic filtering 332\n",
      "Final number of samples passed = 267\n",
      "TODO implement min/max elevation cutoffs\n"
     ]
    },
    {
     "name": "stderr",
     "output_type": "stream",
     "text": [
      "/var/folders/k2/jz_0twls1q13vbr87bqwdtr40000gn/T/ipykernel_7969/1133190962.py:155: FutureWarning: elementwise comparison failed; returning scalar instead, but in the future will perform elementwise comparison\n",
      "  if fid in df_Boschman.dropna(subset='Polygon_ID').Polygon_ID.unique():\n"
     ]
    },
    {
     "name": "stdout",
     "output_type": "stream",
     "text": [
      "Puna\n",
      "GPlates-39186b26-7fab-48cf-9752-f1ac439c1e38\n",
      "Number of samples after basic filtering 164\n",
      "Final number of samples passed = 122\n",
      "TODO implement min/max elevation cutoffs\n"
     ]
    },
    {
     "name": "stderr",
     "output_type": "stream",
     "text": [
      "/var/folders/k2/jz_0twls1q13vbr87bqwdtr40000gn/T/ipykernel_7969/1133190962.py:155: FutureWarning: elementwise comparison failed; returning scalar instead, but in the future will perform elementwise comparison\n",
      "  if fid in df_Boschman.dropna(subset='Polygon_ID').Polygon_ID.unique():\n"
     ]
    },
    {
     "name": "stdout",
     "output_type": "stream",
     "text": [
      "Precordillera/coastal cordillera/forearc\n",
      "GPlates-22aa7316-c1b2-4940-a0ee-cd1ba8f76311\n",
      "Number of samples after basic filtering 144\n",
      "Final number of samples passed = 54\n",
      "TODO implement min/max elevation cutoffs\n"
     ]
    },
    {
     "name": "stderr",
     "output_type": "stream",
     "text": [
      "/var/folders/k2/jz_0twls1q13vbr87bqwdtr40000gn/T/ipykernel_7969/1133190962.py:155: FutureWarning: elementwise comparison failed; returning scalar instead, but in the future will perform elementwise comparison\n",
      "  if fid in df_Boschman.dropna(subset='Polygon_ID').Polygon_ID.unique():\n"
     ]
    },
    {
     "name": "stdout",
     "output_type": "stream",
     "text": [
      "Western Cordillera\n",
      "GPlates-bc8139a3-0f87-4387-a655-432aab84dea6\n",
      "Number of samples after basic filtering 59\n",
      "Final number of samples passed = 40\n",
      "TODO implement min/max elevation cutoffs\n"
     ]
    },
    {
     "name": "stderr",
     "output_type": "stream",
     "text": [
      "/var/folders/k2/jz_0twls1q13vbr87bqwdtr40000gn/T/ipykernel_7969/1133190962.py:155: FutureWarning: elementwise comparison failed; returning scalar instead, but in the future will perform elementwise comparison\n",
      "  if fid in df_Boschman.dropna(subset='Polygon_ID').Polygon_ID.unique():\n"
     ]
    },
    {
     "name": "stdout",
     "output_type": "stream",
     "text": [
      "Puna\n",
      "GPlates-f9464e82-d349-402e-8b5e-3df7b2e019a4\n",
      "Number of samples after basic filtering 68\n",
      "Final number of samples passed = 49\n",
      "TODO implement min/max elevation cutoffs\n"
     ]
    },
    {
     "name": "stderr",
     "output_type": "stream",
     "text": [
      "/var/folders/k2/jz_0twls1q13vbr87bqwdtr40000gn/T/ipykernel_7969/1133190962.py:155: FutureWarning: elementwise comparison failed; returning scalar instead, but in the future will perform elementwise comparison\n",
      "  if fid in df_Boschman.dropna(subset='Polygon_ID').Polygon_ID.unique():\n"
     ]
    },
    {
     "name": "stdout",
     "output_type": "stream",
     "text": [
      "2595\n",
      "GPlates-7ee2ab84-8574-4532-b63a-90bada6a1d19\n",
      "Number of samples after basic filtering 36\n",
      "Number of samples with 55<=sio2<=70 = 29\n",
      "Number of these samples with 1<=mgo<=4 = 24\n",
      "Number of these samples with 0.05<=rb/sr<=0.25 = 22\n",
      "Final number of samples passed = 22\n",
      "TODO implement min/max elevation cutoffs\n"
     ]
    },
    {
     "name": "stderr",
     "output_type": "stream",
     "text": [
      "/var/folders/k2/jz_0twls1q13vbr87bqwdtr40000gn/T/ipykernel_7969/1133190962.py:155: FutureWarning: elementwise comparison failed; returning scalar instead, but in the future will perform elementwise comparison\n",
      "  if fid in df_Boschman.dropna(subset='Polygon_ID').Polygon_ID.unique():\n"
     ]
    },
    {
     "name": "stdout",
     "output_type": "stream",
     "text": [
      "Altiplano\n",
      "GPlates-24d8ed85-d32e-4e66-b03f-fd5b176d2c6a\n",
      "Number of samples after basic filtering 124\n",
      "Number of samples with 55<=sio2<=70 = 42\n",
      "Number of these samples with 1<=mgo<=4 = 16\n",
      "Number of these samples with 0.05<=rb/sr<=0.25 = 9\n",
      "Final number of samples passed = 9\n",
      "TODO implement min/max elevation cutoffs\n"
     ]
    },
    {
     "name": "stderr",
     "output_type": "stream",
     "text": [
      "/var/folders/k2/jz_0twls1q13vbr87bqwdtr40000gn/T/ipykernel_7969/1133190962.py:155: FutureWarning: elementwise comparison failed; returning scalar instead, but in the future will perform elementwise comparison\n",
      "  if fid in df_Boschman.dropna(subset='Polygon_ID').Polygon_ID.unique():\n"
     ]
    },
    {
     "name": "stdout",
     "output_type": "stream",
     "text": [
      "Precordillera/coastal cordillera/forearc\n",
      "GPlates-79c86152-d456-445c-9639-ad48e9cae130\n",
      "Number of samples after basic filtering 62\n",
      "Number of samples with 55<=sio2<=70 = 15\n",
      "Number of these samples with 1<=mgo<=4 = 7\n",
      "Number of these samples with 0.05<=rb/sr<=0.25 = 4\n",
      "Final number of samples passed = 4\n",
      "TODO implement min/max elevation cutoffs\n"
     ]
    },
    {
     "name": "stderr",
     "output_type": "stream",
     "text": [
      "/var/folders/k2/jz_0twls1q13vbr87bqwdtr40000gn/T/ipykernel_7969/1133190962.py:155: FutureWarning: elementwise comparison failed; returning scalar instead, but in the future will perform elementwise comparison\n",
      "  if fid in df_Boschman.dropna(subset='Polygon_ID').Polygon_ID.unique():\n"
     ]
    },
    {
     "name": "stdout",
     "output_type": "stream",
     "text": [
      "Western Cordillera\n",
      "GPlates-cc221f9a-b81c-4590-929d-7ff88905fe6d\n",
      "Number of samples after basic filtering 76\n",
      "Number of samples with 55<=sio2<=70 = 32\n",
      "Number of these samples with 1<=mgo<=4 = 26\n",
      "Number of these samples with 0.05<=rb/sr<=0.25 = 18\n",
      "Final number of samples passed = 18\n",
      "TODO implement min/max elevation cutoffs\n"
     ]
    },
    {
     "name": "stderr",
     "output_type": "stream",
     "text": [
      "/var/folders/k2/jz_0twls1q13vbr87bqwdtr40000gn/T/ipykernel_7969/1133190962.py:155: FutureWarning: elementwise comparison failed; returning scalar instead, but in the future will perform elementwise comparison\n",
      "  if fid in df_Boschman.dropna(subset='Polygon_ID').Polygon_ID.unique():\n"
     ]
    },
    {
     "name": "stdout",
     "output_type": "stream",
     "text": [
      "Altiplano\n",
      "GPlates-23a60a2d-39b5-4346-a260-24e3dc960c94\n",
      "Number of samples after basic filtering 39\n",
      "Number of samples with 55<=sio2<=70 = 19\n",
      "Number of these samples with 1<=mgo<=4 = 12\n",
      "Number of these samples with 0.05<=rb/sr<=0.25 = 1\n",
      "Final number of samples passed = 1\n",
      "TODO implement min/max elevation cutoffs\n"
     ]
    },
    {
     "name": "stderr",
     "output_type": "stream",
     "text": [
      "/var/folders/k2/jz_0twls1q13vbr87bqwdtr40000gn/T/ipykernel_7969/1133190962.py:155: FutureWarning: elementwise comparison failed; returning scalar instead, but in the future will perform elementwise comparison\n",
      "  if fid in df_Boschman.dropna(subset='Polygon_ID').Polygon_ID.unique():\n"
     ]
    },
    {
     "name": "stdout",
     "output_type": "stream",
     "text": [
      "Precordillera/coastal cordillera/forearc\n",
      "GPlates-6b48b619-3774-407a-93e9-f53eadd47137\n",
      "Number of samples after basic filtering 151\n",
      "Number of samples with 55<=sio2<=70 = 115\n",
      "Number of these samples with 1<=mgo<=4 = 103\n",
      "Number of these samples with 0.05<=rb/sr<=0.25 = 80\n",
      "Final number of samples passed = 80\n",
      "TODO implement min/max elevation cutoffs\n"
     ]
    },
    {
     "name": "stderr",
     "output_type": "stream",
     "text": [
      "/var/folders/k2/jz_0twls1q13vbr87bqwdtr40000gn/T/ipykernel_7969/1133190962.py:155: FutureWarning: elementwise comparison failed; returning scalar instead, but in the future will perform elementwise comparison\n",
      "  if fid in df_Boschman.dropna(subset='Polygon_ID').Polygon_ID.unique():\n"
     ]
    },
    {
     "name": "stdout",
     "output_type": "stream",
     "text": [
      "Western Cordillera\n",
      "GPlates-b3771664-dd72-4e88-badb-e92f4e6dd96a\n",
      "Number of samples after basic filtering 332\n",
      "Number of samples with 55<=sio2<=70 = 249\n",
      "Number of these samples with 1<=mgo<=4 = 233\n",
      "Number of these samples with 0.05<=rb/sr<=0.25 = 211\n",
      "Final number of samples passed = 211\n",
      "TODO implement min/max elevation cutoffs\n"
     ]
    },
    {
     "name": "stderr",
     "output_type": "stream",
     "text": [
      "/var/folders/k2/jz_0twls1q13vbr87bqwdtr40000gn/T/ipykernel_7969/1133190962.py:155: FutureWarning: elementwise comparison failed; returning scalar instead, but in the future will perform elementwise comparison\n",
      "  if fid in df_Boschman.dropna(subset='Polygon_ID').Polygon_ID.unique():\n"
     ]
    },
    {
     "name": "stdout",
     "output_type": "stream",
     "text": [
      "Puna\n",
      "GPlates-39186b26-7fab-48cf-9752-f1ac439c1e38\n",
      "Number of samples after basic filtering 164\n",
      "Number of samples with 55<=sio2<=70 = 91\n",
      "Number of these samples with 1<=mgo<=4 = 71\n",
      "Number of these samples with 0.05<=rb/sr<=0.25 = 3\n",
      "Final number of samples passed = 3\n",
      "TODO implement min/max elevation cutoffs\n"
     ]
    },
    {
     "name": "stderr",
     "output_type": "stream",
     "text": [
      "/var/folders/k2/jz_0twls1q13vbr87bqwdtr40000gn/T/ipykernel_7969/1133190962.py:155: FutureWarning: elementwise comparison failed; returning scalar instead, but in the future will perform elementwise comparison\n",
      "  if fid in df_Boschman.dropna(subset='Polygon_ID').Polygon_ID.unique():\n"
     ]
    },
    {
     "name": "stdout",
     "output_type": "stream",
     "text": [
      "Precordillera/coastal cordillera/forearc\n",
      "GPlates-22aa7316-c1b2-4940-a0ee-cd1ba8f76311\n",
      "Number of samples after basic filtering 144\n",
      "Number of samples with 55<=sio2<=70 = 41\n",
      "Number of these samples with 1<=mgo<=4 = 28\n",
      "Number of these samples with 0.05<=rb/sr<=0.25 = 15\n",
      "Final number of samples passed = 15\n",
      "TODO implement min/max elevation cutoffs\n"
     ]
    },
    {
     "name": "stderr",
     "output_type": "stream",
     "text": [
      "/var/folders/k2/jz_0twls1q13vbr87bqwdtr40000gn/T/ipykernel_7969/1133190962.py:155: FutureWarning: elementwise comparison failed; returning scalar instead, but in the future will perform elementwise comparison\n",
      "  if fid in df_Boschman.dropna(subset='Polygon_ID').Polygon_ID.unique():\n"
     ]
    },
    {
     "name": "stdout",
     "output_type": "stream",
     "text": [
      "Western Cordillera\n",
      "GPlates-bc8139a3-0f87-4387-a655-432aab84dea6\n",
      "Number of samples after basic filtering 59\n",
      "Number of samples with 55<=sio2<=70 = 15\n",
      "Number of these samples with 1<=mgo<=4 = 13\n",
      "Number of these samples with 0.05<=rb/sr<=0.25 = 6\n",
      "Final number of samples passed = 6\n",
      "TODO implement min/max elevation cutoffs\n"
     ]
    },
    {
     "name": "stderr",
     "output_type": "stream",
     "text": [
      "/var/folders/k2/jz_0twls1q13vbr87bqwdtr40000gn/T/ipykernel_7969/1133190962.py:155: FutureWarning: elementwise comparison failed; returning scalar instead, but in the future will perform elementwise comparison\n",
      "  if fid in df_Boschman.dropna(subset='Polygon_ID').Polygon_ID.unique():\n"
     ]
    },
    {
     "name": "stdout",
     "output_type": "stream",
     "text": [
      "Puna\n",
      "GPlates-f9464e82-d349-402e-8b5e-3df7b2e019a4\n",
      "Number of samples after basic filtering 68\n",
      "Number of samples with 55<=sio2<=70 = 41\n",
      "Number of these samples with 1<=mgo<=4 = 33\n",
      "Number of these samples with 0.05<=rb/sr<=0.25 = 5\n",
      "Final number of samples passed = 5\n",
      "TODO implement min/max elevation cutoffs\n"
     ]
    },
    {
     "name": "stderr",
     "output_type": "stream",
     "text": [
      "/var/folders/k2/jz_0twls1q13vbr87bqwdtr40000gn/T/ipykernel_7969/1133190962.py:155: FutureWarning: elementwise comparison failed; returning scalar instead, but in the future will perform elementwise comparison\n",
      "  if fid in df_Boschman.dropna(subset='Polygon_ID').Polygon_ID.unique():\n"
     ]
    },
    {
     "name": "stdout",
     "output_type": "stream",
     "text": [
      "2595\n",
      "GPlates-7ee2ab84-8574-4532-b63a-90bada6a1d19\n",
      "Number of samples after basic filtering 36\n",
      "Number of samples with 55<=sio2<=70 = 29\n",
      "Number of these samples with 1<=mgo<=4 = 24\n",
      "Number of these samples with 0.05<=rb/sr<=0.25 = 22\n",
      "Final number of samples passed = 22\n",
      "TODO implement min/max elevation cutoffs\n"
     ]
    },
    {
     "name": "stderr",
     "output_type": "stream",
     "text": [
      "/var/folders/k2/jz_0twls1q13vbr87bqwdtr40000gn/T/ipykernel_7969/1133190962.py:155: FutureWarning: elementwise comparison failed; returning scalar instead, but in the future will perform elementwise comparison\n",
      "  if fid in df_Boschman.dropna(subset='Polygon_ID').Polygon_ID.unique():\n"
     ]
    },
    {
     "name": "stdout",
     "output_type": "stream",
     "text": [
      "Altiplano\n",
      "GPlates-24d8ed85-d32e-4e66-b03f-fd5b176d2c6a\n",
      "Number of samples after basic filtering 124\n",
      "Number of samples with 55<=sio2<=70 = 42\n",
      "Number of these samples with 1<=mgo<=4 = 16\n",
      "Number of these samples with 0.05<=rb/sr<=0.25 = 9\n",
      "Final number of samples passed = 9\n",
      "TODO implement min/max elevation cutoffs\n"
     ]
    },
    {
     "name": "stderr",
     "output_type": "stream",
     "text": [
      "/var/folders/k2/jz_0twls1q13vbr87bqwdtr40000gn/T/ipykernel_7969/1133190962.py:155: FutureWarning: elementwise comparison failed; returning scalar instead, but in the future will perform elementwise comparison\n",
      "  if fid in df_Boschman.dropna(subset='Polygon_ID').Polygon_ID.unique():\n"
     ]
    },
    {
     "name": "stdout",
     "output_type": "stream",
     "text": [
      "Precordillera/coastal cordillera/forearc\n",
      "GPlates-79c86152-d456-445c-9639-ad48e9cae130\n",
      "Number of samples after basic filtering 62\n",
      "Number of samples with 55<=sio2<=70 = 15\n",
      "Number of these samples with 1<=mgo<=4 = 7\n",
      "Number of these samples with 0.05<=rb/sr<=0.25 = 4\n",
      "Final number of samples passed = 4\n",
      "TODO implement min/max elevation cutoffs\n"
     ]
    },
    {
     "name": "stderr",
     "output_type": "stream",
     "text": [
      "/var/folders/k2/jz_0twls1q13vbr87bqwdtr40000gn/T/ipykernel_7969/1133190962.py:155: FutureWarning: elementwise comparison failed; returning scalar instead, but in the future will perform elementwise comparison\n",
      "  if fid in df_Boschman.dropna(subset='Polygon_ID').Polygon_ID.unique():\n"
     ]
    },
    {
     "name": "stdout",
     "output_type": "stream",
     "text": [
      "Western Cordillera\n",
      "GPlates-cc221f9a-b81c-4590-929d-7ff88905fe6d\n",
      "Number of samples after basic filtering 76\n",
      "Number of samples with 55<=sio2<=70 = 32\n",
      "Number of these samples with 1<=mgo<=4 = 26\n",
      "Number of these samples with 0.05<=rb/sr<=0.25 = 18\n",
      "Final number of samples passed = 18\n",
      "TODO implement min/max elevation cutoffs\n"
     ]
    },
    {
     "name": "stderr",
     "output_type": "stream",
     "text": [
      "/var/folders/k2/jz_0twls1q13vbr87bqwdtr40000gn/T/ipykernel_7969/1133190962.py:155: FutureWarning: elementwise comparison failed; returning scalar instead, but in the future will perform elementwise comparison\n",
      "  if fid in df_Boschman.dropna(subset='Polygon_ID').Polygon_ID.unique():\n"
     ]
    },
    {
     "name": "stdout",
     "output_type": "stream",
     "text": [
      "Altiplano\n",
      "GPlates-23a60a2d-39b5-4346-a260-24e3dc960c94\n",
      "Number of samples after basic filtering 39\n",
      "Number of samples with 55<=sio2<=70 = 19\n",
      "Number of these samples with 1<=mgo<=4 = 12\n",
      "Number of these samples with 0.05<=rb/sr<=0.25 = 1\n",
      "Final number of samples passed = 1\n",
      "TODO implement min/max elevation cutoffs\n"
     ]
    },
    {
     "name": "stderr",
     "output_type": "stream",
     "text": [
      "/var/folders/k2/jz_0twls1q13vbr87bqwdtr40000gn/T/ipykernel_7969/1133190962.py:155: FutureWarning: elementwise comparison failed; returning scalar instead, but in the future will perform elementwise comparison\n",
      "  if fid in df_Boschman.dropna(subset='Polygon_ID').Polygon_ID.unique():\n"
     ]
    },
    {
     "name": "stdout",
     "output_type": "stream",
     "text": [
      "Precordillera/coastal cordillera/forearc\n",
      "GPlates-6b48b619-3774-407a-93e9-f53eadd47137\n",
      "Number of samples after basic filtering 151\n",
      "Number of samples with 55<=sio2<=70 = 115\n",
      "Number of these samples with 1<=mgo<=4 = 103\n",
      "Number of these samples with 0.05<=rb/sr<=0.25 = 80\n",
      "Final number of samples passed = 80\n",
      "TODO implement min/max elevation cutoffs\n"
     ]
    },
    {
     "name": "stderr",
     "output_type": "stream",
     "text": [
      "/var/folders/k2/jz_0twls1q13vbr87bqwdtr40000gn/T/ipykernel_7969/1133190962.py:155: FutureWarning: elementwise comparison failed; returning scalar instead, but in the future will perform elementwise comparison\n",
      "  if fid in df_Boschman.dropna(subset='Polygon_ID').Polygon_ID.unique():\n"
     ]
    },
    {
     "name": "stdout",
     "output_type": "stream",
     "text": [
      "Western Cordillera\n",
      "GPlates-b3771664-dd72-4e88-badb-e92f4e6dd96a\n",
      "Number of samples after basic filtering 332\n",
      "Number of samples with 55<=sio2<=70 = 249\n",
      "Number of these samples with 1<=mgo<=4 = 233\n",
      "Number of these samples with 0.05<=rb/sr<=0.25 = 211\n",
      "Final number of samples passed = 211\n",
      "TODO implement min/max elevation cutoffs\n"
     ]
    },
    {
     "name": "stderr",
     "output_type": "stream",
     "text": [
      "/var/folders/k2/jz_0twls1q13vbr87bqwdtr40000gn/T/ipykernel_7969/1133190962.py:155: FutureWarning: elementwise comparison failed; returning scalar instead, but in the future will perform elementwise comparison\n",
      "  if fid in df_Boschman.dropna(subset='Polygon_ID').Polygon_ID.unique():\n"
     ]
    },
    {
     "name": "stdout",
     "output_type": "stream",
     "text": [
      "Puna\n",
      "GPlates-39186b26-7fab-48cf-9752-f1ac439c1e38\n",
      "Number of samples after basic filtering 164\n",
      "Number of samples with 55<=sio2<=70 = 91\n",
      "Number of these samples with 1<=mgo<=4 = 71\n",
      "Number of these samples with 0.05<=rb/sr<=0.25 = 3\n",
      "Final number of samples passed = 3\n",
      "TODO implement min/max elevation cutoffs\n"
     ]
    },
    {
     "name": "stderr",
     "output_type": "stream",
     "text": [
      "/var/folders/k2/jz_0twls1q13vbr87bqwdtr40000gn/T/ipykernel_7969/1133190962.py:155: FutureWarning: elementwise comparison failed; returning scalar instead, but in the future will perform elementwise comparison\n",
      "  if fid in df_Boschman.dropna(subset='Polygon_ID').Polygon_ID.unique():\n"
     ]
    },
    {
     "name": "stdout",
     "output_type": "stream",
     "text": [
      "Precordillera/coastal cordillera/forearc\n",
      "GPlates-22aa7316-c1b2-4940-a0ee-cd1ba8f76311\n",
      "Number of samples after basic filtering 144\n",
      "Number of samples with 55<=sio2<=70 = 41\n",
      "Number of these samples with 1<=mgo<=4 = 28\n",
      "Number of these samples with 0.05<=rb/sr<=0.25 = 15\n",
      "Final number of samples passed = 15\n",
      "TODO implement min/max elevation cutoffs\n"
     ]
    },
    {
     "name": "stderr",
     "output_type": "stream",
     "text": [
      "/var/folders/k2/jz_0twls1q13vbr87bqwdtr40000gn/T/ipykernel_7969/1133190962.py:155: FutureWarning: elementwise comparison failed; returning scalar instead, but in the future will perform elementwise comparison\n",
      "  if fid in df_Boschman.dropna(subset='Polygon_ID').Polygon_ID.unique():\n"
     ]
    },
    {
     "name": "stdout",
     "output_type": "stream",
     "text": [
      "Western Cordillera\n",
      "GPlates-bc8139a3-0f87-4387-a655-432aab84dea6\n",
      "Number of samples after basic filtering 59\n",
      "Number of samples with 55<=sio2<=70 = 15\n",
      "Number of these samples with 1<=mgo<=4 = 13\n",
      "Number of these samples with 0.05<=rb/sr<=0.25 = 6\n",
      "Final number of samples passed = 6\n",
      "TODO implement min/max elevation cutoffs\n"
     ]
    },
    {
     "name": "stderr",
     "output_type": "stream",
     "text": [
      "/var/folders/k2/jz_0twls1q13vbr87bqwdtr40000gn/T/ipykernel_7969/1133190962.py:155: FutureWarning: elementwise comparison failed; returning scalar instead, but in the future will perform elementwise comparison\n",
      "  if fid in df_Boschman.dropna(subset='Polygon_ID').Polygon_ID.unique():\n"
     ]
    },
    {
     "name": "stdout",
     "output_type": "stream",
     "text": [
      "Puna\n",
      "GPlates-f9464e82-d349-402e-8b5e-3df7b2e019a4\n",
      "Number of samples after basic filtering 68\n",
      "Number of samples with 55<=sio2<=70 = 41\n",
      "Number of these samples with 1<=mgo<=4 = 33\n",
      "Number of these samples with 0.05<=rb/sr<=0.25 = 5\n",
      "Final number of samples passed = 5\n",
      "TODO implement min/max elevation cutoffs\n"
     ]
    },
    {
     "name": "stderr",
     "output_type": "stream",
     "text": [
      "/var/folders/k2/jz_0twls1q13vbr87bqwdtr40000gn/T/ipykernel_7969/1133190962.py:155: FutureWarning: elementwise comparison failed; returning scalar instead, but in the future will perform elementwise comparison\n",
      "  if fid in df_Boschman.dropna(subset='Polygon_ID').Polygon_ID.unique():\n"
     ]
    },
    {
     "name": "stdout",
     "output_type": "stream",
     "text": [
      "2595\n",
      "GPlates-7ee2ab84-8574-4532-b63a-90bada6a1d19\n",
      "Number of samples after basic filtering 36\n",
      "Number of these samples with a valid sio2 = 32\n",
      "Number of these samples with major element sum > 98%= 9\n",
      "Final number of samples passed = 9\n",
      "TODO implement min/max elevation cutoffs\n"
     ]
    },
    {
     "name": "stderr",
     "output_type": "stream",
     "text": [
      "/var/folders/k2/jz_0twls1q13vbr87bqwdtr40000gn/T/ipykernel_7969/1133190962.py:155: FutureWarning: elementwise comparison failed; returning scalar instead, but in the future will perform elementwise comparison\n",
      "  if fid in df_Boschman.dropna(subset='Polygon_ID').Polygon_ID.unique():\n"
     ]
    },
    {
     "name": "stdout",
     "output_type": "stream",
     "text": [
      "Altiplano\n",
      "GPlates-24d8ed85-d32e-4e66-b03f-fd5b176d2c6a\n",
      "Number of samples after basic filtering 124\n",
      "Number of these samples with a valid sio2 = 89\n",
      "Number of these samples with major element sum > 98%= 7\n",
      "Final number of samples passed = 7\n",
      "TODO implement min/max elevation cutoffs\n"
     ]
    },
    {
     "name": "stderr",
     "output_type": "stream",
     "text": [
      "/var/folders/k2/jz_0twls1q13vbr87bqwdtr40000gn/T/ipykernel_7969/1133190962.py:155: FutureWarning: elementwise comparison failed; returning scalar instead, but in the future will perform elementwise comparison\n",
      "  if fid in df_Boschman.dropna(subset='Polygon_ID').Polygon_ID.unique():\n"
     ]
    },
    {
     "name": "stdout",
     "output_type": "stream",
     "text": [
      "Precordillera/coastal cordillera/forearc\n",
      "GPlates-79c86152-d456-445c-9639-ad48e9cae130\n",
      "Number of samples after basic filtering 62\n",
      "Number of these samples with a valid sio2 = 60\n",
      "Number of these samples with major element sum > 98%= 39\n",
      "Final number of samples passed = 39\n",
      "TODO implement min/max elevation cutoffs\n"
     ]
    },
    {
     "name": "stderr",
     "output_type": "stream",
     "text": [
      "/var/folders/k2/jz_0twls1q13vbr87bqwdtr40000gn/T/ipykernel_7969/1133190962.py:155: FutureWarning: elementwise comparison failed; returning scalar instead, but in the future will perform elementwise comparison\n",
      "  if fid in df_Boschman.dropna(subset='Polygon_ID').Polygon_ID.unique():\n"
     ]
    },
    {
     "name": "stdout",
     "output_type": "stream",
     "text": [
      "Western Cordillera\n",
      "GPlates-cc221f9a-b81c-4590-929d-7ff88905fe6d\n",
      "Number of samples after basic filtering 76\n",
      "Number of these samples with a valid sio2 = 52\n",
      "Number of these samples with major element sum > 98%= 35\n",
      "Final number of samples passed = 35\n",
      "TODO implement min/max elevation cutoffs\n"
     ]
    },
    {
     "name": "stderr",
     "output_type": "stream",
     "text": [
      "/var/folders/k2/jz_0twls1q13vbr87bqwdtr40000gn/T/ipykernel_7969/1133190962.py:155: FutureWarning: elementwise comparison failed; returning scalar instead, but in the future will perform elementwise comparison\n",
      "  if fid in df_Boschman.dropna(subset='Polygon_ID').Polygon_ID.unique():\n"
     ]
    },
    {
     "name": "stdout",
     "output_type": "stream",
     "text": [
      "Altiplano\n",
      "GPlates-23a60a2d-39b5-4346-a260-24e3dc960c94\n",
      "Number of samples after basic filtering 39\n",
      "Number of these samples with a valid sio2 = 28\n",
      "Number of these samples with major element sum > 98%= 9\n",
      "Final number of samples passed = 9\n",
      "TODO implement min/max elevation cutoffs\n"
     ]
    },
    {
     "name": "stderr",
     "output_type": "stream",
     "text": [
      "/var/folders/k2/jz_0twls1q13vbr87bqwdtr40000gn/T/ipykernel_7969/1133190962.py:155: FutureWarning: elementwise comparison failed; returning scalar instead, but in the future will perform elementwise comparison\n",
      "  if fid in df_Boschman.dropna(subset='Polygon_ID').Polygon_ID.unique():\n"
     ]
    },
    {
     "name": "stdout",
     "output_type": "stream",
     "text": [
      "Precordillera/coastal cordillera/forearc\n",
      "GPlates-6b48b619-3774-407a-93e9-f53eadd47137\n",
      "Number of samples after basic filtering 151\n",
      "Number of these samples with a valid sio2 = 140\n",
      "Number of these samples with major element sum > 98%= 107\n",
      "Final number of samples passed = 107\n",
      "TODO implement min/max elevation cutoffs\n"
     ]
    },
    {
     "name": "stderr",
     "output_type": "stream",
     "text": [
      "/var/folders/k2/jz_0twls1q13vbr87bqwdtr40000gn/T/ipykernel_7969/1133190962.py:155: FutureWarning: elementwise comparison failed; returning scalar instead, but in the future will perform elementwise comparison\n",
      "  if fid in df_Boschman.dropna(subset='Polygon_ID').Polygon_ID.unique():\n"
     ]
    },
    {
     "name": "stdout",
     "output_type": "stream",
     "text": [
      "Western Cordillera\n",
      "GPlates-b3771664-dd72-4e88-badb-e92f4e6dd96a\n",
      "Number of samples after basic filtering 332\n",
      "Number of these samples with a valid sio2 = 268\n",
      "Number of these samples with major element sum > 98%= 206\n",
      "Final number of samples passed = 206\n",
      "TODO implement min/max elevation cutoffs\n"
     ]
    },
    {
     "name": "stderr",
     "output_type": "stream",
     "text": [
      "/var/folders/k2/jz_0twls1q13vbr87bqwdtr40000gn/T/ipykernel_7969/1133190962.py:155: FutureWarning: elementwise comparison failed; returning scalar instead, but in the future will perform elementwise comparison\n",
      "  if fid in df_Boschman.dropna(subset='Polygon_ID').Polygon_ID.unique():\n"
     ]
    },
    {
     "name": "stdout",
     "output_type": "stream",
     "text": [
      "Puna\n",
      "GPlates-39186b26-7fab-48cf-9752-f1ac439c1e38\n",
      "Number of samples after basic filtering 164\n",
      "Number of these samples with a valid sio2 = 122\n",
      "Number of these samples with major element sum > 98%= 81\n",
      "Final number of samples passed = 81\n",
      "TODO implement min/max elevation cutoffs\n"
     ]
    },
    {
     "name": "stderr",
     "output_type": "stream",
     "text": [
      "/var/folders/k2/jz_0twls1q13vbr87bqwdtr40000gn/T/ipykernel_7969/1133190962.py:155: FutureWarning: elementwise comparison failed; returning scalar instead, but in the future will perform elementwise comparison\n",
      "  if fid in df_Boschman.dropna(subset='Polygon_ID').Polygon_ID.unique():\n"
     ]
    },
    {
     "name": "stdout",
     "output_type": "stream",
     "text": [
      "Precordillera/coastal cordillera/forearc\n",
      "GPlates-22aa7316-c1b2-4940-a0ee-cd1ba8f76311\n",
      "Number of samples after basic filtering 144\n",
      "Number of these samples with a valid sio2 = 55\n",
      "Number of these samples with major element sum > 98%= 38\n",
      "Final number of samples passed = 38\n",
      "TODO implement min/max elevation cutoffs\n"
     ]
    },
    {
     "name": "stderr",
     "output_type": "stream",
     "text": [
      "/var/folders/k2/jz_0twls1q13vbr87bqwdtr40000gn/T/ipykernel_7969/1133190962.py:155: FutureWarning: elementwise comparison failed; returning scalar instead, but in the future will perform elementwise comparison\n",
      "  if fid in df_Boschman.dropna(subset='Polygon_ID').Polygon_ID.unique():\n"
     ]
    },
    {
     "name": "stdout",
     "output_type": "stream",
     "text": [
      "Western Cordillera\n",
      "GPlates-bc8139a3-0f87-4387-a655-432aab84dea6\n",
      "Number of samples after basic filtering 59\n",
      "Number of these samples with a valid sio2 = 40\n",
      "Number of these samples with major element sum > 98%= 20\n",
      "Final number of samples passed = 20\n",
      "TODO implement min/max elevation cutoffs\n"
     ]
    },
    {
     "name": "stderr",
     "output_type": "stream",
     "text": [
      "/var/folders/k2/jz_0twls1q13vbr87bqwdtr40000gn/T/ipykernel_7969/1133190962.py:155: FutureWarning: elementwise comparison failed; returning scalar instead, but in the future will perform elementwise comparison\n",
      "  if fid in df_Boschman.dropna(subset='Polygon_ID').Polygon_ID.unique():\n"
     ]
    },
    {
     "name": "stdout",
     "output_type": "stream",
     "text": [
      "Puna\n",
      "GPlates-f9464e82-d349-402e-8b5e-3df7b2e019a4\n",
      "Number of samples after basic filtering 68\n",
      "Number of these samples with a valid sio2 = 49\n",
      "Number of these samples with major element sum > 98%= 46\n",
      "Final number of samples passed = 46\n",
      "TODO implement min/max elevation cutoffs\n"
     ]
    },
    {
     "name": "stderr",
     "output_type": "stream",
     "text": [
      "/var/folders/k2/jz_0twls1q13vbr87bqwdtr40000gn/T/ipykernel_7969/1133190962.py:155: FutureWarning: elementwise comparison failed; returning scalar instead, but in the future will perform elementwise comparison\n",
      "  if fid in df_Boschman.dropna(subset='Polygon_ID').Polygon_ID.unique():\n"
     ]
    },
    {
     "name": "stdout",
     "output_type": "stream",
     "text": [
      "2595\n",
      "GPlates-7ee2ab84-8574-4532-b63a-90bada6a1d19\n",
      "Number of samples after basic filtering 36\n",
      "Number of these samples with a valid sio2 = 32\n",
      "Number of these samples with major element sum > 98%= 9\n",
      "Final number of samples passed = 9\n",
      "TODO implement min/max elevation cutoffs\n"
     ]
    },
    {
     "name": "stderr",
     "output_type": "stream",
     "text": [
      "/var/folders/k2/jz_0twls1q13vbr87bqwdtr40000gn/T/ipykernel_7969/1133190962.py:155: FutureWarning: elementwise comparison failed; returning scalar instead, but in the future will perform elementwise comparison\n",
      "  if fid in df_Boschman.dropna(subset='Polygon_ID').Polygon_ID.unique():\n"
     ]
    },
    {
     "name": "stdout",
     "output_type": "stream",
     "text": [
      "Altiplano\n",
      "GPlates-24d8ed85-d32e-4e66-b03f-fd5b176d2c6a\n",
      "Number of samples after basic filtering 124\n",
      "Number of these samples with a valid sio2 = 89\n",
      "Number of these samples with major element sum > 98%= 7\n",
      "Final number of samples passed = 7\n",
      "TODO implement min/max elevation cutoffs\n"
     ]
    },
    {
     "name": "stderr",
     "output_type": "stream",
     "text": [
      "/var/folders/k2/jz_0twls1q13vbr87bqwdtr40000gn/T/ipykernel_7969/1133190962.py:155: FutureWarning: elementwise comparison failed; returning scalar instead, but in the future will perform elementwise comparison\n",
      "  if fid in df_Boschman.dropna(subset='Polygon_ID').Polygon_ID.unique():\n"
     ]
    },
    {
     "name": "stdout",
     "output_type": "stream",
     "text": [
      "Precordillera/coastal cordillera/forearc\n",
      "GPlates-79c86152-d456-445c-9639-ad48e9cae130\n",
      "Number of samples after basic filtering 62\n",
      "Number of these samples with a valid sio2 = 60\n",
      "Number of these samples with major element sum > 98%= 39\n",
      "Final number of samples passed = 39\n",
      "TODO implement min/max elevation cutoffs\n"
     ]
    },
    {
     "name": "stderr",
     "output_type": "stream",
     "text": [
      "/var/folders/k2/jz_0twls1q13vbr87bqwdtr40000gn/T/ipykernel_7969/1133190962.py:155: FutureWarning: elementwise comparison failed; returning scalar instead, but in the future will perform elementwise comparison\n",
      "  if fid in df_Boschman.dropna(subset='Polygon_ID').Polygon_ID.unique():\n"
     ]
    },
    {
     "name": "stdout",
     "output_type": "stream",
     "text": [
      "Western Cordillera\n",
      "GPlates-cc221f9a-b81c-4590-929d-7ff88905fe6d\n",
      "Number of samples after basic filtering 76\n",
      "Number of these samples with a valid sio2 = 52\n",
      "Number of these samples with major element sum > 98%= 35\n",
      "Final number of samples passed = 35\n",
      "TODO implement min/max elevation cutoffs\n"
     ]
    },
    {
     "name": "stderr",
     "output_type": "stream",
     "text": [
      "/var/folders/k2/jz_0twls1q13vbr87bqwdtr40000gn/T/ipykernel_7969/1133190962.py:155: FutureWarning: elementwise comparison failed; returning scalar instead, but in the future will perform elementwise comparison\n",
      "  if fid in df_Boschman.dropna(subset='Polygon_ID').Polygon_ID.unique():\n"
     ]
    },
    {
     "name": "stdout",
     "output_type": "stream",
     "text": [
      "Altiplano\n",
      "GPlates-23a60a2d-39b5-4346-a260-24e3dc960c94\n",
      "Number of samples after basic filtering 39\n",
      "Number of these samples with a valid sio2 = 28\n",
      "Number of these samples with major element sum > 98%= 9\n",
      "Final number of samples passed = 9\n",
      "TODO implement min/max elevation cutoffs\n"
     ]
    },
    {
     "name": "stderr",
     "output_type": "stream",
     "text": [
      "/var/folders/k2/jz_0twls1q13vbr87bqwdtr40000gn/T/ipykernel_7969/1133190962.py:155: FutureWarning: elementwise comparison failed; returning scalar instead, but in the future will perform elementwise comparison\n",
      "  if fid in df_Boschman.dropna(subset='Polygon_ID').Polygon_ID.unique():\n"
     ]
    },
    {
     "name": "stdout",
     "output_type": "stream",
     "text": [
      "Precordillera/coastal cordillera/forearc\n",
      "GPlates-6b48b619-3774-407a-93e9-f53eadd47137\n",
      "Number of samples after basic filtering 151\n",
      "Number of these samples with a valid sio2 = 140\n",
      "Number of these samples with major element sum > 98%= 107\n",
      "Final number of samples passed = 107\n",
      "TODO implement min/max elevation cutoffs\n"
     ]
    },
    {
     "name": "stderr",
     "output_type": "stream",
     "text": [
      "/var/folders/k2/jz_0twls1q13vbr87bqwdtr40000gn/T/ipykernel_7969/1133190962.py:155: FutureWarning: elementwise comparison failed; returning scalar instead, but in the future will perform elementwise comparison\n",
      "  if fid in df_Boschman.dropna(subset='Polygon_ID').Polygon_ID.unique():\n"
     ]
    },
    {
     "name": "stdout",
     "output_type": "stream",
     "text": [
      "Western Cordillera\n",
      "GPlates-b3771664-dd72-4e88-badb-e92f4e6dd96a\n",
      "Number of samples after basic filtering 332\n",
      "Number of these samples with a valid sio2 = 268\n",
      "Number of these samples with major element sum > 98%= 206\n",
      "Final number of samples passed = 206\n",
      "TODO implement min/max elevation cutoffs\n"
     ]
    },
    {
     "name": "stderr",
     "output_type": "stream",
     "text": [
      "/var/folders/k2/jz_0twls1q13vbr87bqwdtr40000gn/T/ipykernel_7969/1133190962.py:155: FutureWarning: elementwise comparison failed; returning scalar instead, but in the future will perform elementwise comparison\n",
      "  if fid in df_Boschman.dropna(subset='Polygon_ID').Polygon_ID.unique():\n"
     ]
    },
    {
     "name": "stdout",
     "output_type": "stream",
     "text": [
      "Puna\n",
      "GPlates-39186b26-7fab-48cf-9752-f1ac439c1e38\n",
      "Number of samples after basic filtering 164\n",
      "Number of these samples with a valid sio2 = 122\n",
      "Number of these samples with major element sum > 98%= 81\n",
      "Final number of samples passed = 81\n",
      "TODO implement min/max elevation cutoffs\n"
     ]
    },
    {
     "name": "stderr",
     "output_type": "stream",
     "text": [
      "/var/folders/k2/jz_0twls1q13vbr87bqwdtr40000gn/T/ipykernel_7969/1133190962.py:155: FutureWarning: elementwise comparison failed; returning scalar instead, but in the future will perform elementwise comparison\n",
      "  if fid in df_Boschman.dropna(subset='Polygon_ID').Polygon_ID.unique():\n"
     ]
    },
    {
     "name": "stdout",
     "output_type": "stream",
     "text": [
      "Precordillera/coastal cordillera/forearc\n",
      "GPlates-22aa7316-c1b2-4940-a0ee-cd1ba8f76311\n",
      "Number of samples after basic filtering 144\n",
      "Number of these samples with a valid sio2 = 55\n",
      "Number of these samples with major element sum > 98%= 38\n",
      "Final number of samples passed = 38\n",
      "TODO implement min/max elevation cutoffs\n"
     ]
    },
    {
     "name": "stderr",
     "output_type": "stream",
     "text": [
      "/var/folders/k2/jz_0twls1q13vbr87bqwdtr40000gn/T/ipykernel_7969/1133190962.py:155: FutureWarning: elementwise comparison failed; returning scalar instead, but in the future will perform elementwise comparison\n",
      "  if fid in df_Boschman.dropna(subset='Polygon_ID').Polygon_ID.unique():\n"
     ]
    },
    {
     "name": "stdout",
     "output_type": "stream",
     "text": [
      "Western Cordillera\n",
      "GPlates-bc8139a3-0f87-4387-a655-432aab84dea6\n",
      "Number of samples after basic filtering 59\n",
      "Number of these samples with a valid sio2 = 40\n",
      "Number of these samples with major element sum > 98%= 20\n",
      "Final number of samples passed = 20\n",
      "TODO implement min/max elevation cutoffs\n"
     ]
    },
    {
     "name": "stderr",
     "output_type": "stream",
     "text": [
      "/var/folders/k2/jz_0twls1q13vbr87bqwdtr40000gn/T/ipykernel_7969/1133190962.py:155: FutureWarning: elementwise comparison failed; returning scalar instead, but in the future will perform elementwise comparison\n",
      "  if fid in df_Boschman.dropna(subset='Polygon_ID').Polygon_ID.unique():\n"
     ]
    },
    {
     "name": "stdout",
     "output_type": "stream",
     "text": [
      "Puna\n",
      "GPlates-f9464e82-d349-402e-8b5e-3df7b2e019a4\n",
      "Number of samples after basic filtering 68\n",
      "Number of these samples with a valid sio2 = 49\n",
      "Number of these samples with major element sum > 98%= 46\n",
      "Final number of samples passed = 46\n",
      "TODO implement min/max elevation cutoffs\n"
     ]
    },
    {
     "name": "stderr",
     "output_type": "stream",
     "text": [
      "/var/folders/k2/jz_0twls1q13vbr87bqwdtr40000gn/T/ipykernel_7969/1133190962.py:155: FutureWarning: elementwise comparison failed; returning scalar instead, but in the future will perform elementwise comparison\n",
      "  if fid in df_Boschman.dropna(subset='Polygon_ID').Polygon_ID.unique():\n"
     ]
    }
   ],
   "source": [
    "age_max = 50\n",
    "time_bin_size = 5.\n",
    "pygmt.config(GMT_VERBOSE='e')\n",
    "\n",
    "fid_list = [\n",
    "    ('GPlates-7ee2ab84-8574-4532-b63a-90bada6a1d19', 'WC1'), #2516, W Cordillera NN \n",
    "    ('GPlates-24d8ed85-d32e-4e66-b03f-fd5b176d2c6a', 'A1'), #2595,  Altiplano N \n",
    "\n",
    "    ('GPlates-79c86152-d456-445c-9639-ad48e9cae130', 'PCF1'), #2598, Coastal N \n",
    "    ('GPlates-cc221f9a-b81c-4590-929d-7ff88905fe6d', 'WC2'), #2573, W Cordillera N\n",
    "    ('GPlates-23a60a2d-39b5-4346-a260-24e3dc960c94', 'A2'), #2527,  Altiplano S\n",
    "\n",
    "    ('GPlates-6b48b619-3774-407a-93e9-f53eadd47137', 'PCF2'), #2526, Coastal C\n",
    "    ('GPlates-b3771664-dd72-4e88-badb-e92f4e6dd96a', 'WC3'), #2527, W Cordillera C \n",
    "    ('GPlates-39186b26-7fab-48cf-9752-f1ac439c1e38', 'P1'), #Puna W\n",
    "\n",
    "    ('GPlates-22aa7316-c1b2-4940-a0ee-cd1ba8f76311', 'PCF3'), #2592 Coastal S\n",
    "    ('GPlates-bc8139a3-0f87-4387-a655-432aab84dea6', 'WC4'), #2515, W Cordillera S \n",
    "    ('GPlates-f9464e82-d349-402e-8b5e-3df7b2e019a4', 'P2'), #Puna E\n",
    "           ]\n",
    "\n",
    "\n",
    "plot_calibrations = [\n",
    "    ('luffi', 50),\n",
    "    ('luffi', 'la_yb_elevation'),\n",
    "    ('Hu', 'la_yb_elevation'),\n",
    "    ('Hu', 'sr_y_elevation'),\n",
    "    ('FarnerLee', 'la_yb_elevation'),\n",
    "    ('FarnerLee', 'gd_yb_elevation')\n",
    "]\n",
    "\n",
    "\n",
    "for calibration, mohometer_selection in plot_calibrations:\n",
    "\n",
    "    if isinstance(mohometer_selection, list):\n",
    "        mohometer_description_string = '|'.join(mohometer_selection)\n",
    "    else:\n",
    "        mohometer_description_string = str(mohometer_selection)\n",
    "\n",
    "\n",
    "    fig,axs = plt.subplots(nrows=4, ncols=3, figsize=(12,14))\n",
    "\n",
    "    ps = []\n",
    "    axs = axs.reshape(-1)\n",
    "    #for i,(fid,ax) in enumerate(zip(fid_list, np.delete(axs, 0))):\n",
    "    for i,(fid,ax) in enumerate(zip(fid_list, axs[1:])):\n",
    "\n",
    "        p = boschman_polygons[boschman_polygons['FEATURE_ID']==fid[0]].iloc[0]\n",
    "        ps.append(p)\n",
    "\n",
    "        if p['NAME'] is None:\n",
    "            p['NAME']=str(p['PLATEID1'])\n",
    "        print(p['NAME'])\n",
    "        print(p['FEATURE_ID'])\n",
    "\n",
    "        df_filt = joy.filter_the_database(df.clip(p.geometry), calibration, \n",
    "                                          age_min=-0.1, age_max=age_max, nans_to_zeros=False)\n",
    "        elevations_df = joy.get_elevations(df_filt, \n",
    "                                           gc_interpolator_dict=gc_interpolator_dict,\n",
    "                                           calibration=calibration,\n",
    "                                           mohometer_selection=mohometer_selection)\n",
    "            \n",
    "        ppdat = gpd.GeoDataFrame(elevations_df, geometry=df_filt.geometry, crs=4326).join(df_filt['age'])\n",
    "        ppdat['bin_age'] = np.round(ppdat['age']/time_bin_size) * time_bin_size\n",
    "        time_binned = ppdat.groupby(by=['bin_age'])\n",
    "        \n",
    "        median_elevations = []\n",
    "        elevation_violins = []\n",
    "        for group in time_binned:\n",
    "            if not group[1].empty:\n",
    "                median_elevations.append(group[1].drop(columns=['age', 'bin_age', 'geometry']).stack().median())\n",
    "                elevation_violins.append(group[1].drop(columns=['age', 'bin_age', 'geometry']).stack())\n",
    "                group[0]\n",
    "            else:\n",
    "                median_elevations.append(np.nan)\n",
    "                elevation_violins.append([np.nan,np.nan])\n",
    "        \n",
    "\n",
    "        bounds = p.geometry.bounds\n",
    "        try:\n",
    "            (paleoDEM_stats, \n",
    "             paleoDEM_hist) = joymap.get_raster_stats_in_polygon_time_series(boschman_rasters, \n",
    "                                                                             boschman_rotation_model, \n",
    "                                                                             p,\n",
    "                                                                             plate_id_to_rotate_to=p.PLATEID1, \n",
    "                                                                             old_anchor_plate_id=201,\n",
    "                                                                             spacing=0.1,\n",
    "                                                                             region=[bounds[0], bounds[2], bounds[1], bounds[3]])\n",
    "        except:\n",
    "            print('Problem extracting raster data')\n",
    "            continue\n",
    "\n",
    "        #elevations_df['bin_age'] = np.round(df_filt['age']/time_bin_size) * time_bin_size\n",
    "        #tmp_cat = []\n",
    "        #for col in elevations_df.columns:\n",
    "        #    if 'elevation' in col:\n",
    "        #        tmp_cat.append(elevations_df[['bin_age', col]].rename(columns={col:'elevation'}).dropna())\n",
    "        #tmp_cat = pd.concat(tmp_cat, ignore_index=True)\n",
    "        #positions = tmp_cat['bin_age'].unique()\n",
    "\n",
    "        ax.computed_zorder = False\n",
    "\n",
    "        ax.fill_between(x=paleoDEM_stats['age'],\n",
    "                        y1=paleoDEM_stats['min_elevation'], y2=paleoDEM_stats['max_elevation'], \n",
    "                        zorder=0, alpha=0.25, color='grey')\n",
    "        ax.fill_between(x=paleoDEM_stats['age'],\n",
    "                        y1=paleoDEM_stats['q25_elevation'], y2=paleoDEM_stats['q75_elevation'], \n",
    "                        zorder=0, alpha=0.75, color='grey')\n",
    "        parts = ax.boxplot(elevation_violins, positions=list(time_binned.groups.keys()), \n",
    "                           widths=4, \n",
    "                           patch_artist=True, \n",
    "                           manage_ticks=False, \n",
    "                           #whis=[5, 95], \n",
    "                           showfliers=False)\n",
    "        for pc in parts['boxes']:\n",
    "            pc.set_facecolor('red')\n",
    "            pc.set_alpha(0.3)\n",
    "            pc.set_edgecolor('red')\n",
    "        for median in parts['medians']:\n",
    "            median.set_color('red')\n",
    "            median.set_linewidth(8)\n",
    "            median.set_solid_capstyle(\"butt\")\n",
    "        ax.set_xticks(np.arange(0,351,50)/time_bin_size)\n",
    "        for col in ppdat.columns:\n",
    "            if 'elevation' in col:\n",
    "                ax.plot(df_filt.age, ppdat[col], 'o', color='blue', markersize=5, alpha=0.05)\n",
    "        ax.set_xlim(age_max,0)\n",
    "        ax.set_ylim(0,6000)\n",
    "        #ax.set_title('{:s}, {:d}, {:s}'.format(p['NAME'], p['PLATEID1'], ', '.join(['{:0.1f}'.format(i) for i in p.geometry.bounds])))\n",
    "        #ax.set_title('{:s}'.format(p['NAME']))\n",
    "        ax.set_title('{:s}'.format(fid[1]))\n",
    "\n",
    "        if i>7:\n",
    "            ax.set_xlabel('Reconstruction Time [Ma]')\n",
    "        else:\n",
    "            ax.set_xlabel('')\n",
    "            ax.set_xticklabels('')\n",
    "\n",
    "        if i in [2,5,8]:\n",
    "            ax.set_ylabel('Elevation [m]')\n",
    "        else:\n",
    "            ax.set_ylabel('')\n",
    "            ax.set_yticklabels('')\n",
    "\n",
    "        if fid in df_Boschman.dropna(subset='Polygon_ID').Polygon_ID.unique():\n",
    "            subset = df_Boschman.query('Polygon_ID == @fid')\n",
    "            add_error_boxes(ax, subset)\n",
    "\n",
    "    #boschman_polygons.plot(ax=axs[1])\n",
    "    ax = axs[0]\n",
    "    polys = gpd.GeoDataFrame.from_records(ps)\n",
    "    present_day_topography.plot(ax=ax, zorder=0, cmap='gray_r', vmin=-500, vmax=7000, add_colorbar=False)\n",
    "    polys['label'] = [x[1] for x in fid_list]\n",
    "    polys.plot(cmap='Set3', ax=ax, alpha=0.5, edgecolor='white')\n",
    "    polys.apply(lambda x: ax.annotate(text=x['label'], xy=x.geometry.centroid.coords[0], ha='center', fontsize=8), axis=1);\n",
    "    ax.set_xlim(-77,-64)\n",
    "    ax.set_ylim(-28.5,-12)\n",
    "    ax.set_xlabel('')\n",
    "    ax.set_ylabel('')\n",
    "\n",
    "    plt.savefig('../images/Boschman_comparison_{:s}_{:s}.png'.format(calibration, \n",
    "                                                                     mohometer_description_string))\n",
    "    plt.close()\n",
    "    #plt.show()\n"
   ]
  },
  {
   "cell_type": "code",
   "execution_count": null,
   "id": "96e7f0f9-d34b-40ef-a628-7cdc1b6547c9",
   "metadata": {},
   "outputs": [],
   "source": []
  }
 ],
 "metadata": {
  "kernelspec": {
   "display_name": "Python [conda env:pygmt10]",
   "language": "python",
   "name": "conda-env-pygmt10-py"
  },
  "language_info": {
   "codemirror_mode": {
    "name": "ipython",
    "version": 3
   },
   "file_extension": ".py",
   "mimetype": "text/x-python",
   "name": "python",
   "nbconvert_exporter": "python",
   "pygments_lexer": "ipython3",
   "version": "3.10.13"
  }
 },
 "nbformat": 4,
 "nbformat_minor": 5
}
